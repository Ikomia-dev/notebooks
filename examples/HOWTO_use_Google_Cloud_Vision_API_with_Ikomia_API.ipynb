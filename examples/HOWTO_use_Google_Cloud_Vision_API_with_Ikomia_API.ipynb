{
 "cells": [
  {
   "attachments": {},
   "cell_type": "markdown",
   "metadata": {},
   "source": [
    "<img src='https://github.com/Ikomia-dev/notebooks/blob/main/examples/img/banner_ikomia.png?raw=true'>\n",
    "\n",
    "\n"
   ]
  },
  {
   "attachments": {},
   "cell_type": "markdown",
   "metadata": {},
   "source": [
    "# How to use the Google Cloud Vision API"
   ]
  },
  {
   "attachments": {},
   "cell_type": "markdown",
   "metadata": {},
   "source": [
    "**Google Cloud Vision API** is a part of the Google Cloud suite, a set of powerful AI tools and services. It allows developers to integrate vision detection features within applications, including image labeling, face and landmark detection, optical character recognition (OCR), and tagging of explicit content.\n",
    "\n",
    "- [List of available algorithms](https://app.ikomia.ai/hub/?q=google)\n",
    "\n",
    "\n",
    "![logos](https://cloud.google.com/static/vision/docs/images/bicycle.jpg)"
   ]
  },
  {
   "attachments": {},
   "cell_type": "markdown",
   "metadata": {},
   "source": [
    "## Setup"
   ]
  },
  {
   "attachments": {},
   "cell_type": "markdown",
   "metadata": {},
   "source": [
    "First, you need to install Ikomia Python API with pip\n"
   ]
  },
  {
   "cell_type": "code",
   "execution_count": null,
   "metadata": {},
   "outputs": [],
   "source": [
    "!pip install ikomia"
   ]
  },
  {
   "cell_type": "markdown",
   "metadata": {},
   "source": [
    "To Use the Google Cloud Vision API, you must first activate the Vision API within your Google Cloud project and generate a Google Cloud Vision API Key. \n",
    "\n",
    "This process is straightforward and can be guided by the following resources:\n",
    "- For a visual and step-by-step guide, consider watching this [tutorial on YouTube](https://www.youtube.com/watch?v=kZ3OL3AN_IA&t=157s). \n",
    "- If you prefer reading and like to go at your own pace, a [blog post tutorial](https://daminion.net/docs/how-to-get-google-cloud-vision-api-key/) might be more suitable. "
   ]
  },
  {
   "cell_type": "markdown",
   "metadata": {},
   "source": [
    "---\n",
    "\n",
    "**-Google Colab ONLY- Restart runtime**\n",
    "\n",
    "Click on the \"RESTART RUNTIME\" button at the end the previous window.\n",
    "\n",
    "---"
   ]
  },
  {
   "attachments": {},
   "cell_type": "markdown",
   "metadata": {},
   "source": [
    "## Use the Google Cloud Vision API with a few lines of code"
   ]
  },
  {
   "cell_type": "markdown",
   "metadata": {},
   "source": [
    "### Text Detection"
   ]
  },
  {
   "cell_type": "code",
   "execution_count": null,
   "metadata": {},
   "outputs": [],
   "source": [
    "from ikomia.dataprocess.workflow import Workflow\n",
    "from ikomia.utils import ik\n",
    "\n",
    "\n",
    "api_key_path = 'PATH/TO/YOUR/GOOGLE/CLOUD/VISION/API/KEY.json'\n",
    "\n",
    "# Init your workflow\n",
    "wf = Workflow()\n",
    "\n",
    "# Add algorithm\n",
    "algo = wf.add_task(ik.infer_google_vision_ocr(google_application_credentials=api_key_path), auto_connect=True)\n",
    "\n",
    "# Run on your image\n",
    "wf.run_on(url='https://images.pexels.com/photos/12234657/pexels-photo-12234657.jpeg?cs=srgb&dl=pexels-dylan-spangler-12234657.jpg&fm=jpg&w=640&h=960')\n",
    "\n",
    "# Display your result\n",
    "img_output = algo.get_output(0)\n",
    "recognition_output = algo.get_output(1)\n"
   ]
  },
  {
   "cell_type": "code",
   "execution_count": null,
   "metadata": {},
   "outputs": [],
   "source": [
    "from ikomia.utils.displayIO import display\n",
    "\n",
    "# Display segmentation mask\n",
    "from PIL import ImageShow\n",
    "ImageShow.register(ImageShow.IPythonViewer(), 0)\n",
    "\n",
    "display(img_output.get_image_with_mask_and_graphics(recognition_output), title=\"Google Vision OCR\")"
   ]
  },
  {
   "cell_type": "markdown",
   "metadata": {},
   "source": [
    "### Face Detection"
   ]
  },
  {
   "cell_type": "code",
   "execution_count": null,
   "metadata": {},
   "outputs": [],
   "source": [
    "# Init your workflow\n",
    "wf = Workflow()\n",
    "\n",
    "# Add algorithm\n",
    "algo = wf.add_task(ik.infer_google_vision_face_detection(google_application_credentials=api_key_path), auto_connect=True)\n",
    "\n",
    "\n",
    "# Run on your image\n",
    "wf.run_on(url='https://images.pexels.com/photos/1681010/pexels-photo-1681010.jpeg?auto=compress&cs=tinysrgb&w=1260&h=750&dpr=1')\n",
    "\n",
    "# Display your result\n",
    "display(algo.get_image_with_graphics())"
   ]
  },
  {
   "cell_type": "markdown",
   "metadata": {},
   "source": [
    "### Label detection"
   ]
  },
  {
   "cell_type": "code",
   "execution_count": null,
   "metadata": {},
   "outputs": [],
   "source": [
    "# Init your workflow\n",
    "wf = Workflow()\n",
    "\n",
    "# Add algorithm\n",
    "algo = wf.add_task(ik.infer_google_vision_label_detection(google_application_credentials=api_key_path), auto_connect=True)\n",
    "\n",
    "# Run on your image\n",
    "wf.run_on(url='https://cloud.google.com/static/vision/docs/images/setagaya_small.jpeg')\n",
    "\n",
    "# Display results\n",
    "label_output = algo.get_output(1)\n",
    "print(label_output.data)\n",
    "label_output.save('label_detection.json')"
   ]
  }
 ],
 "metadata": {
  "kernelspec": {
   "display_name": "venv310",
   "language": "python",
   "name": "python3"
  },
  "language_info": {
   "codemirror_mode": {
    "name": "ipython",
    "version": 3
   },
   "file_extension": ".py",
   "mimetype": "text/x-python",
   "name": "python",
   "nbconvert_exporter": "python",
   "pygments_lexer": "ipython3",
   "version": "3.10.11"
  },
  "orig_nbformat": 4
 },
 "nbformat": 4,
 "nbformat_minor": 2
}
