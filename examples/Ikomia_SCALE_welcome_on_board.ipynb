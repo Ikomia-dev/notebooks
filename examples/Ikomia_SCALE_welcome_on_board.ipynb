{
 "cells": [
  {
   "cell_type": "markdown",
   "metadata": {},
   "source": [
    "<img src='https://github.com/Ikomia-dev/notebooks/blob/main/examples/img/banner_ikomia.png?raw=true'>\n",
    "\n",
    "\n"
   ]
  },
  {
   "cell_type": "markdown",
   "metadata": {},
   "source": [
    "# Tutorial: Onboarding to Ikomia SCALE\n",
    "\n",
    "Deploying Ikomia Workflows with `ikomia` and `ikomia-cli` Python packages.\n",
    "\n",
    "## Introduction\n",
    "\n",
    "In this tutorial, you will learn how to get started with Ikomia SCALE, a SaaS platform for deploying Ikomia workflows on dedicated endpoints. \n",
    "\n",
    "We will walk you through the process of:\n",
    "\n",
    "1. Setting up your environment\n",
    "2. Generating access tokens\n",
    "3. Creating a project on Ikomia SCALE\n",
    "4. Deploying workflows\n",
    "\n",
    "### Prerequisites\n",
    "\n",
    "Before you begin, make sure you have the following prerequisites in place:\n",
    "\n",
    "- An Ikomia SCALE account. If you don't have one, sign up at [Ikomia SCALE signup](https://app.ikomia.ai/signup).\n",
    "- Python installed on your local machine.\n",
    "\n",
    "## Step 1: Installation\n",
    "\n",
    "### Install the Ikomia CLI (Command Line Interface)\n",
    "\n",
    "The Ikomia CLI is a tool that allows you to interact with Ikomia SCALE from the command line. You can install it using pip:"
   ]
  },
  {
   "cell_type": "code",
   "execution_count": null,
   "metadata": {},
   "outputs": [],
   "source": [
    "!pip install \"ikomia-cli[full]\""
   ]
  },
  {
   "cell_type": "markdown",
   "metadata": {},
   "source": [
    "## Step 2: Generating Access Tokens\n",
    "\n",
    "Access tokens are required to authenticate with Ikomia SCALE. You can generate a token by running the following command:\n",
    "\n",
    "```bash\n",
    "ikcli login --token-ttl <token_duration_in_seconds>\n",
    "```\n",
    "\n",
    "Replace `<token_duration_in_seconds>` with the desired duration for the token's validity. For example, to generate a token that is valid for 1 hour (3 600 seconds), you can run:"
   ]
  },
  {
   "cell_type": "code",
   "execution_count": null,
   "metadata": {},
   "outputs": [],
   "source": [
    "!ikcli login --token-ttl 3600 --username \"<your_login>\" --password \"<your_password>\""
   ]
  },
  {
   "cell_type": "markdown",
   "metadata": {},
   "source": [
    "Where `<your_login>` and `<your_password>` are your credentials on Ikomia SCALE.\n",
    "\n",
    "Then, export your token as an environment variable:"
   ]
  },
  {
   "cell_type": "code",
   "execution_count": null,
   "metadata": {},
   "outputs": [],
   "source": [
    "%env IKOMIA_TOKEN=<your_token>"
   ]
  },
  {
   "cell_type": "markdown",
   "metadata": {},
   "source": [
    "Where `<your_token>` is the access token you generated."
   ]
  },
  {
   "cell_type": "markdown",
   "metadata": {},
   "source": [
    "## Step 3: Creating a Project on Ikomia SCALE\n",
    "\n",
    "Before deploying a workflow, you need to create a project on Ikomia SCALE. You can create a project using the Ikomia SCALE web interface.\n",
    "\n",
    "1. Log in to your [Ikomia SCALE account](https://app.ikomia.ai/).\n",
    "\n",
    "2. Click on the \"New project\" button.\n",
    "\n",
    "4. Provide a name and description for your project.\n",
    "\n",
    "5. Click the \"Create project\" button.\n",
    "\n",
    "## Step 4: Pushing a Workflow to Your Project\n",
    "\n",
    "Now that you have a project on Ikomia SCALE, you can push a workflow to it using the Ikomia CLI.\n",
    "\n",
    "1. Create a workflow from scratch with [Ikomia API](https://github.com/Ikomia-dev/IkomiaApi) and [Ikomia HUB](https://app.ikomia.ai/hub), or use the following example:"
   ]
  },
  {
   "cell_type": "code",
   "execution_count": null,
   "metadata": {},
   "outputs": [],
   "source": [
    "from ikomia.dataprocess.workflow import Workflow\n",
    "from ikomia.utils import ik\n",
    "\n",
    "#*********************************************\n",
    "## CREATE\n",
    "#*********************************************\n",
    "# Init your workflow\n",
    "# In this example, \"My Workflow\" is the name of your workflow that will appear in your dashboard in Ikomia SCALE.\n",
    "# The description is not mandatory and will appear in your dashboard in Ikomia SCALE.\n",
    "\n",
    "wf = Workflow(\"My Workflow\")\n",
    "\n",
    "wf.description = \"This workflow transforms your photo into a visually stunning artistic masterpiece.\"\n",
    "\n",
    "# Add Neural Style Transfer to your workflow\n",
    "# More information about this algorithm here https://github.com/Ikomia-hub/infer_neural_style_transfer\n",
    "nst = wf.add_task(ik.infer_neural_style_transfer(), auto_connect=True)\n",
    "\n",
    "#*********************************************\n",
    "## RUN\n",
    "#*********************************************\n",
    "# Run on a web image\n",
    "# It will download the model 'candy.t7' (Kandinsky style)\n",
    "wf.run_on(url=\"https://raw.githubusercontent.com/Ikomia-dev/notebooks/main/examples/img/img_work.jpg\")"
   ]
  },
  {
   "cell_type": "markdown",
   "metadata": {},
   "source": [
    "If you want to visualize the results, you can run the following cell:"
   ]
  },
  {
   "cell_type": "code",
   "execution_count": null,
   "metadata": {},
   "outputs": [],
   "source": [
    "# Display your your image in the notebook\n",
    "from ikomia.utils.displayIO import display\n",
    "from PIL import ImageShow\n",
    "ImageShow.register(ImageShow.IPythonViewer(), 0) # <-- Specific for displaying in notebooks\n",
    "\n",
    "display(nst.get_input(0).get_image())\n",
    "display(nst.get_output(0).get_image())"
   ]
  },
  {
   "cell_type": "markdown",
   "metadata": {},
   "source": [
    "2. Save your workflow by exporting it as a JSON file that contains a description of its structure:"
   ]
  },
  {
   "cell_type": "code",
   "execution_count": null,
   "metadata": {},
   "outputs": [],
   "source": [
    "#*********************************************\n",
    "## EXPORT\n",
    "#*********************************************\n",
    "# Save the workflow as a JSON file in your current folder\n",
    "wf.save(\"./my_workflow.json\")"
   ]
  },
  {
   "cell_type": "markdown",
   "metadata": {},
   "source": [
    "3. Push the workflow to your project on Ikomia SCALE."
   ]
  },
  {
   "cell_type": "code",
   "execution_count": null,
   "metadata": {},
   "outputs": [],
   "source": [
    "!ikcli project push <project_name> my_workflow.json"
   ]
  },
  {
   "cell_type": "markdown",
   "metadata": {},
   "source": [
    "Replace `<project_name>` with the name of your project on Ikomia SCALE.\n",
    "\n",
    "## Step 5: Deploying a Workflow\n",
    "\n",
    "Now that your workflow is in your project on Ikomia SCALE, you can deploy it on a dedicated endpoint.\n",
    "\n",
    "1. Log in to your [Ikomia SCALE account](https://app.ikomia.ai)\n",
    "\n",
    "2. Go to the project and select your workflow\n",
    "\n",
    "3. Configure and deploy your workflow\n",
    "\n",
    "6. Wait until it's running (it can take several minutes)\n",
    "7. Click on the endpoint URL to test it online\n",
    "\n",
    "## Conclusion\n",
    "\n",
    "Congratulations! You have successfully onboarded to Ikomia SCALE, created a project, and deployed your first workflow. \n",
    "\n",
    "You can now use the power of Ikomia to scale your image processing tasks effortlessly.\n",
    "\n",
    "* Any questions? Contact [the Ikomia Team](mailto:team@ikomia.ai)\n",
    "\n",
    "* Any technical problems? Contact [the Ikomia Support](mailto:support@ikomia.ai)\n",
    "\n",
    "* Want to discuss with us? Come on our [discord channel](https://discord.com/invite/82Tnw9UGGc)!\n",
    "\n",
    "## Next steps\n",
    "\n",
    "* More algorithms on [Ikomia HUB](https://app.ikomia.ai/hub)\n",
    "* More explanations on Ikomia workflows in the [API documentation](https://ikomia-dev.github.io/python-api-documentation/getting_started.html)\n",
    "\n",
    "## Additional Resources\n",
    "\n",
    "- [Ikomia Website](https://www.ikomia.ai/)\n",
    "- [Ikomia blog](https://www.ikomia.ai/blog)\n",
    "- [Ikomia API](https://github.com/Ikomia-dev/IkomiaApi)"
   ]
  },
  {
   "cell_type": "code",
   "execution_count": null,
   "metadata": {},
   "outputs": [],
   "source": []
  }
 ],
 "metadata": {
  "kernelspec": {
   "display_name": "Python 3 (ipykernel)",
   "language": "python",
   "name": "python3"
  },
  "language_info": {
   "codemirror_mode": {
    "name": "ipython",
    "version": 3
   },
   "file_extension": ".py",
   "mimetype": "text/x-python",
   "name": "python",
   "nbconvert_exporter": "python",
   "pygments_lexer": "ipython3",
   "version": "3.8.18"
  }
 },
 "nbformat": 4,
 "nbformat_minor": 4
}