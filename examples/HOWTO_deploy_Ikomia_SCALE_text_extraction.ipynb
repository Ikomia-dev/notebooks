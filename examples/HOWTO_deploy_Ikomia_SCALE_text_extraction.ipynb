{
 "cells": [
  {
   "cell_type": "markdown",
   "metadata": {},
   "source": [
    "<img src='https://github.com/Ikomia-dev/notebooks/blob/main/examples/img/banner_ikomia.png?raw=true'>\n",
    "\n",
    "\n"
   ]
  },
  {
   "cell_type": "markdown",
   "metadata": {},
   "source": [
    " # Guide to Deploying Vision Models in the Cloud\n",
    "\n",
    "\n",
    "Deploying Ikomia Workflows with `ikomia` and `ikomia-cli` Python packages.\n",
    "\n",
    "## Introduction\n",
    "\n",
    "\n",
    "When working on a computer vision project, you usually start by developing your models and then move on to organizing them into workflows. But then comes the big question: “How do I deploy a computer vision model efficiently?\" With many deployment options out there, picking the right one can be overwhelming.\n",
    "\n",
    "Enter Ikomia SCALE. This platform simplifies the deployment of computer vision models, removing the complexities of onboarding and coding for various devices. Whether you're looking to deploy on serverless architectures like AWS Lambda or use other major platforms, SCALE streamlines the process.\n",
    "\n",
    "Here,  we will see how to use the Ikomia ecosystem effectively:\n",
    "1. **Creating a Workflow**: We'll start by showing you how to build a workflow using the Ikomia API.\n",
    "2. **Deployment**: Next, we'll guide you through the deployment process using AWS Lambda as our example. \n",
    "3. **Accessing Your REST API Endpoint**: Finally, we'll guide you through the process of accessing your REST API endpoint. \n",
    "\n",
    "\n",
    "### Prerequisites\n",
    "\n",
    "Before you begin, make sure you have the following prerequisites in place:\n",
    "\n",
    "- An Ikomia SCALE account. If you don't have one, sign up at [Ikomia SCALE signup](https://app.ikomia.ai/signup).\n",
    "- Python installed on your local machine.\n",
    "\n",
    "## Step 1: Installation\n",
    "\n",
    "### Install the Ikomia CLI (Command Line Interface)\n",
    "\n",
    "The Ikomia CLI is a tool that allows you to interact with Ikomia SCALE from the command line. You can install it using pip:"
   ]
  },
  {
   "cell_type": "code",
   "execution_count": null,
   "metadata": {},
   "outputs": [],
   "source": [
    "!pip install \"ikomia-cli[full]\""
   ]
  },
  {
   "cell_type": "markdown",
   "metadata": {},
   "source": [
    "## Step 2: Generating Access Tokens\n",
    "\n",
    "Access tokens are required to authenticate with Ikomia SCALE. You can generate a token by running the following command:\n",
    "\n",
    "```bash\n",
    "ikcli login --token-ttl <token_duration_in_seconds>\n",
    "```\n",
    "\n",
    "Replace `<token_duration_in_seconds>` with the desired duration for the token's validity. For example, to generate a token that is valid for 1 hour (3 600 seconds), you can run:"
   ]
  },
  {
   "cell_type": "code",
   "execution_count": null,
   "metadata": {},
   "outputs": [],
   "source": [
    "!ikcli login --token-ttl 3600 --username \"<your_login>\" --password \"<your_password>\""
   ]
  },
  {
   "cell_type": "markdown",
   "metadata": {},
   "source": [
    "Where `<your_login>` and `<your_password>` are your credentials on Ikomia SCALE.\n",
    "\n",
    "Then, export your token as an environment variable:"
   ]
  },
  {
   "cell_type": "code",
   "execution_count": null,
   "metadata": {},
   "outputs": [],
   "source": [
    "%env IKOMIA_TOKEN=<your_token>"
   ]
  },
  {
   "cell_type": "markdown",
   "metadata": {},
   "source": [
    "Where `<your_token>` is the access token you generated."
   ]
  },
  {
   "cell_type": "markdown",
   "metadata": {},
   "source": [
    "## Step 3: Creating a Project on Ikomia SCALE\n",
    "\n",
    "Before deploying a workflow, you need to create a project on Ikomia SCALE. You can create a project using the Ikomia SCALE web interface.\n",
    "\n",
    "1. Log in to your [Ikomia SCALE account](https://app.ikomia.ai/).\n",
    "\n",
    "2. Click on the \"New project\" button.\n",
    "\n",
    "4. Provide a name and description for your project.\n",
    "\n",
    "5. Click the \"Create project\" button.\n",
    "\n",
    "## Step 4: Pushing a Workflow to Your Project\n",
    "\n",
    "Now that you have a project on Ikomia SCALE, you can push a workflow to it using the Ikomia CLI.\n",
    "\n",
    "1. Create a workflow from scratch with [Ikomia API](https://github.com/Ikomia-dev/IkomiaApi) and [Ikomia HUB](https://app.ikomia.ai/hub), or use the following example:"
   ]
  },
  {
   "cell_type": "code",
   "execution_count": null,
   "metadata": {},
   "outputs": [],
   "source": [
    "from ikomia.dataprocess.workflow import Workflow\n",
    "from ikomia.utils.displayIO import display\n",
    "\n",
    "# Init your workflow\n",
    "wf = Workflow('Text recognition MMOCR')\n",
    "\n",
    "\n",
    "# Add algorithms...\n",
    "# for text detection\n",
    "det = wf.add_task(name=\"infer_mmlab_text_detection\", auto_connect=True)\n",
    "# for text recognition\n",
    "rec = wf.add_task(name=\"infer_mmlab_text_recognition\", auto_connect=True)\n",
    "# for kie\n",
    "kie = wf.add_task(name=\"infer_mmlab_kie\", auto_connect=True)\n",
    "\n",
    "# Run on your image\n",
    "wf.run_on(url=\"https://img.20mn.fr/swO8brjgTbyagat2g2rb-A/1444x920_nouvelle-carte-nationale-identite-francaise.jpg\")\n",
    "\n",
    "# Get results\n",
    "original_image_output = kie.get_output(0)\n",
    "text_detection_output = kie.get_output(1)\n",
    "\n",
    "# Display results\n",
    "display(original_image_output.get_image_with_graphics(text_detection_output))"
   ]
  },
  {
   "cell_type": "markdown",
   "metadata": {},
   "source": [
    "If you want to visualize the results, you can run the following cell:"
   ]
  },
  {
   "cell_type": "code",
   "execution_count": null,
   "metadata": {},
   "outputs": [],
   "source": [
    "# Display your your image in the notebook\n",
    "from ikomia.utils.displayIO import display\n",
    "from PIL import ImageShow\n",
    "ImageShow.register(ImageShow.IPythonViewer(), 0) # <-- Specific for displaying in notebooks\n",
    "\n",
    "display(original_image_output.get_image_with_graphics(text_detection_output))"
   ]
  },
  {
   "cell_type": "markdown",
   "metadata": {},
   "source": [
    "2. Save your workflow by exporting it as a JSON file that contains a description of its structure:"
   ]
  },
  {
   "cell_type": "code",
   "execution_count": null,
   "metadata": {},
   "outputs": [],
   "source": [
    "#*********************************************\n",
    "## EXPORT\n",
    "#*********************************************\n",
    "# Save the workflow as a JSON file in your current folder\n",
    "wf.save(\"./my_workflow.json\")"
   ]
  },
  {
   "cell_type": "markdown",
   "metadata": {},
   "source": [
    "3. Push the workflow to your project on Ikomia SCALE."
   ]
  },
  {
   "cell_type": "code",
   "execution_count": null,
   "metadata": {},
   "outputs": [],
   "source": [
    "!ikcli project push <project_name> my_workflow.json"
   ]
  },
  {
   "cell_type": "markdown",
   "metadata": {},
   "source": [
    "Replace `<project_name>` with the name of your project on Ikomia SCALE.\n",
    "\n",
    "## Step 5: Deploying a Workflow\n",
    "\n",
    "Now that your workflow is in your project on Ikomia SCALE, you can deploy it on a dedicated endpoint.\n",
    "\n",
    "1. Log in to your [Ikomia SCALE account](https://app.ikomia.ai)\n",
    "\n",
    "2. Go to the project and select your workflow\n",
    "\n",
    "3. Configure and deploy your workflow\n",
    "\n",
    "6. Wait until it's running (it can take several minutes)\n",
    "7. Click on the endpoint URL to test it online\n",
    "\n",
    "## Conclusion\n",
    "\n",
    "Congratulations! You have successfully onboarded to Ikomia SCALE, created a project, and deployed your first workflow. \n",
    "\n",
    "You can now use the power of Ikomia to scale your image processing tasks effortlessly.\n",
    "\n",
    "* Any questions? Contact [the Ikomia Team](mailto:team@ikomia.ai)\n",
    "\n",
    "* Any technical problems? Contact [the Ikomia Support](mailto:support@ikomia.ai)\n",
    "\n",
    "* Want to discuss with us? Come on our [discord channel](https://discord.com/invite/82Tnw9UGGc)!\n",
    "\n",
    "## Next steps\n",
    "\n",
    "* More algorithms on [Ikomia HUB](https://app.ikomia.ai/hub)\n",
    "* More explanations on Ikomia workflows in the [API documentation](https://ikomia-dev.github.io/python-api-documentation/getting_started.html)\n",
    "\n",
    "## Additional Resources\n",
    "\n",
    "- [Ikomia Website](https://www.ikomia.ai/)\n",
    "- [Ikomia blog](https://www.ikomia.ai/blog)\n",
    "- [Ikomia API](https://github.com/Ikomia-dev/IkomiaApi)"
   ]
  }
 ],
 "metadata": {
  "kernelspec": {
   "display_name": "Python 3 (ipykernel)",
   "language": "python",
   "name": "python3"
  },
  "language_info": {
   "codemirror_mode": {
    "name": "ipython",
    "version": 3
   },
   "file_extension": ".py",
   "mimetype": "text/x-python",
   "name": "python",
   "nbconvert_exporter": "python",
   "pygments_lexer": "ipython3",
   "version": "3.8.18"
  }
 },
 "nbformat": 4,
 "nbformat_minor": 4
}
