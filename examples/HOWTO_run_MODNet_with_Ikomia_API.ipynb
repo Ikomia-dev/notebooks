{
 "cells": [
  {
   "attachments": {},
   "cell_type": "markdown",
   "metadata": {},
   "source": [
    "<img src='https://github.com/Ikomia-dev/notebooks/blob/main/examples/img/banner_ikomia.png?raw=true'>\n",
    "\n",
    "\n"
   ]
  },
  {
   "attachments": {},
   "cell_type": "markdown",
   "metadata": {},
   "source": [
    "# How to run MODNet with the Ikomia API "
   ]
  },
  {
   "attachments": {},
   "cell_type": "markdown",
   "metadata": {},
   "source": [
    "**MODNet** is a light-weight matting objective decomposition network (MODNet), which can process portrait matting from a single input image in realtime.\n",
    "\n",
    "- MODNet operates at an impressive rate of 67 frames per second (1080Ti GPU), showcasing its ability to handle high-speed matting tasks with remarkable efficiency.\n",
    "- MODNet achieves remarkable results in daily photos and videos.\n",
    "- MODNet is easy to be trained in an end-to-end style.\n",
    "\n",
    "MODNet is simple, fast, and effective to avoid using a green screen in real-time portrait matting.\n",
    "![MODNet illustration](https://github.com/ZHKKKe/MODNet/blob/master/doc/gif/homepage_demo.gif?raw=true)"
   ]
  },
  {
   "attachments": {},
   "cell_type": "markdown",
   "metadata": {},
   "source": [
    "## Setup"
   ]
  },
  {
   "attachments": {},
   "cell_type": "markdown",
   "metadata": {},
   "source": [
    "You need to install Ikomia Python API with pip\n"
   ]
  },
  {
   "cell_type": "code",
   "execution_count": null,
   "metadata": {},
   "outputs": [],
   "source": [
    "!pip install ikomia"
   ]
  },
  {
   "attachments": {},
   "cell_type": "markdown",
   "metadata": {},
   "source": [
    "## Run MODNet on your image"
   ]
  },
  {
   "cell_type": "code",
   "execution_count": null,
   "metadata": {},
   "outputs": [],
   "source": [
    "from ikomia.dataprocess.workflow import Workflow\n",
    "from ikomia.utils.displayIO import display\n",
    "\n",
    "# Init your workflow\n",
    "wf = Workflow()    \n",
    "\n",
    "# Add the MODNet process to the workflow\n",
    "modnet = wf.add_task(name=\"infer_modnet_portrait_matting\", auto_connect=True)\n",
    "\n",
    "# Set process parameters\n",
    "modnet.set_parameters({\n",
    "    \"input_size\" : \"800\",\n",
    "    \"cuda\" : \"True\"})\n",
    "\n",
    "# Run workflow on the image\n",
    "wf.run_on(url=\"https://images.pexels.com/photos/12508998/pexels-photo-12508998.jpeg\")"
   ]
  },
  {
   "cell_type": "code",
   "execution_count": null,
   "metadata": {},
   "outputs": [],
   "source": [
    "from ikomia.utils.displayIO import display\n",
    "\n",
    "from PIL import ImageShow\n",
    "ImageShow.register(ImageShow.IPythonViewer(), 0)\n",
    "\n",
    "# Display the image\n",
    "display(modnet.get_output(1).get_image())"
   ]
  }
 ],
 "metadata": {
  "kernelspec": {
   "display_name": "venvapi",
   "language": "python",
   "name": "venvapi"
  },
  "language_info": {
   "codemirror_mode": {
    "name": "ipython",
    "version": 3
   },
   "file_extension": ".py",
   "mimetype": "text/x-python",
   "name": "python",
   "nbconvert_exporter": "python",
   "pygments_lexer": "ipython3",
   "version": "3.9.13"
  },
  "orig_nbformat": 4
 },
 "nbformat": 4,
 "nbformat_minor": 2
}
