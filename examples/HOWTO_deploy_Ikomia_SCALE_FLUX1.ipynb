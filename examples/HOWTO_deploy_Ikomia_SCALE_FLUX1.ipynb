{
 "cells": [
  {
   "cell_type": "markdown",
   "metadata": {},
   "source": [
    "<img src='https://github.com/Ikomia-dev/notebooks/blob/main/examples/img/banner_ikomia.png?raw=true'>\n",
    "\n",
    "\n"
   ]
  },
  {
   "cell_type": "markdown",
   "metadata": {},
   "source": [
    "# Example: Deploying FLUX1 text-to-image generation model\n",
    "![FLUX1 illustration](https://raw.githubusercontent.com/black-forest-labs/flux/refs/heads/main/assets/grid.jpg)\n",
    "\n",
    "\n",
    "Deploying Ikomia Workflows with `ikomia` and `ikomia-cli` Python packages.\n",
    "\n",
    "## Introduction\n",
    "\n",
    "In this tutorial, you will learn how to get started with Ikomia SCALE, a SaaS platform for deploying Ikomia workflows on dedicated endpoints. \n",
    "\n",
    "We will walk you through the process of:\n",
    "\n",
    "1. Setting up your environment\n",
    "2. Generating access tokens\n",
    "3. Creating a project on Ikomia SCALE\n",
    "4. Deploying workflows\n",
    "\n",
    "### Prerequisites\n",
    "\n",
    "Before you begin, make sure you have the following prerequisites in place:\n",
    "\n",
    "- An Ikomia SCALE account. If you don't have one, sign up at [Ikomia SCALE signup](https://app.ikomia.ai/signup).\n",
    "- Python installed on your local machine.\n",
    "\n",
    "## Step 1: Installation\n",
    "\n",
    "### Install the Ikomia CLI (Command Line Interface)\n",
    "\n",
    "The Ikomia CLI is a tool that allows you to interact with Ikomia SCALE from the command line. You can install it using pip:"
   ]
  },
  {
   "cell_type": "code",
   "execution_count": null,
   "metadata": {},
   "outputs": [],
   "source": [
    "!pip install \"ikomia-cli[full]\""
   ]
  },
  {
   "cell_type": "markdown",
   "metadata": {},
   "source": [
    "## Step 2: Generating Access Tokens\n",
    "\n",
    "\n",
    "Access tokens are required to authenticate with Ikomia SCALE. You can generate a token by running the following command:\n",
    "\n",
    "### Option 1: Token Generation Using Ikomia CLI\n",
    "\n",
    "\n",
    "```bash\n",
    "ikcli login --token-ttl <token_duration_in_seconds>\n",
    "```\n",
    "\n",
    "Replace `<token_duration_in_seconds>` with the desired duration for the token's validity. For example, to generate a token that is valid for 1 hour (3 600 seconds), you can run:"
   ]
  },
  {
   "cell_type": "code",
   "execution_count": null,
   "metadata": {},
   "outputs": [],
   "source": [
    "!ikcli login --token-ttl 3600 --username \"<your_login>\" --password \"<your_password>\""
   ]
  },
  {
   "cell_type": "markdown",
   "metadata": {},
   "source": [
    "Where `<your_login>` and `<your_password>` are your credentials on Ikomia SCALE.\n",
    "\n",
    "Then, export your token as an environment variable:"
   ]
  },
  {
   "cell_type": "code",
   "execution_count": null,
   "metadata": {},
   "outputs": [],
   "source": [
    "%env IKOMIA_TOKEN=<your_token>\n",
    "\n",
    "# export IKOMIA_TOKEN= < your_token > # Linux"
   ]
  },
  {
   "cell_type": "markdown",
   "metadata": {},
   "source": [
    "Where `<your_token>` is the access token you generated."
   ]
  },
  {
   "cell_type": "markdown",
   "metadata": {},
   "source": [
    "### Option 2: Token Generation from the SCALE Platform\n",
    "\n",
    "1. **Access Token Management**: Navigate to the top right corner of the SCALE platform, then go to the settings or account section where you will find API token management.\n",
    "\n",
    "2. **Create New Token**: Click on the option to create a new token. Fill in the required details such as the token's name and expiration date.‍\n",
    "\n",
    "3. **Generate and Save the Token**.\n",
    "\n",
    "4. **Copy the Token**: Once generated, copy the token. You are now ready to set the token as an environment variable.\n",
    "\n",
    "\n",
    "![Access token illustration](https://cdn.prod.website-files.com/645cec60ffb18d5ebb37da4b/6645ca9be47639014a755334_token_generation_2.jpg)\n"
   ]
  },
  {
   "cell_type": "markdown",
   "metadata": {},
   "source": [
    "## Step 3: Creating a Project on Ikomia SCALE\n",
    "\n",
    "In Ikomia SCALE, a project acts as a central hub for your workflows, helping you organize them effectively. To create a new project, follow these steps:\n",
    "1. Log in to your [Ikomia SCALE account](https://app.ikomia.ai/).\n",
    "\n",
    "2. Go to the Dashboard\n",
    "\n",
    "3. Click on \"New Project\" button to start creating your project.\n",
    "\n",
    "4. Fill out the card: Complete the form with the following information:\n",
    "\n",
    "    - Workspace: Select the workspace where you want to store your project. Choose your personal workspace if the project is for personal use.‍\n",
    "    - Project Name: Provide a descriptive name for your project that reflects its purpose.\n",
    "\n",
    "\n",
    "\n",
    "## Step 4: Pushing FLUX1 text-to-image workflow  to Your Project\n",
    "\n",
    "Now that you have a project on Ikomia SCALE, you can push a workflow to it using the Ikomia CLI.\n",
    "\n",
    "1. Create your FLUX1 workflow using the Ikomia API. You can review the FLUX1 parameters on the [Ikomia HUB](https://app.ikomia.ai/hub/algorithms/infer_flux_1/)."
   ]
  },
  {
   "cell_type": "code",
   "execution_count": null,
   "metadata": {},
   "outputs": [],
   "source": [
    "from ikomia.dataprocess.workflow import Workflow\n",
    "\n",
    "#*********************************************\n",
    "## CREATE\n",
    "#*********************************************\n",
    "# Init your workflow\n",
    "# In this example, \"FLUX1\" is the name of your workflow that will appear in your dashboard in Ikomia SCALE.\n",
    "# The description is not mandatory and will appear in your dashboard in Ikomia SCALE.\n",
    "wf = Workflow(\"FLUX1\")\n",
    "\n",
    "# Add FLUX.1 to your workflow\n",
    "flux = wf.add_task(name=\"infer_flux_1\", auto_connect=False)\n",
    "\n",
    "# Set parameters\n",
    "flux.set_parameters({'model_name': 'flux1-schnell'})"
   ]
  },
  {
   "cell_type": "markdown",
   "metadata": {},
   "source": [
    "Optionally, if you want to run and visualize the results, you can run the following cells:\n",
    "\n",
    "**Note:** FLUX1 algorithm runs FP8 inference and requires about **16 GB of VRAM and 30GB of CPU memory**.\n",
    "\n",
    "Workflow don't need to be executed prior to deployment."
   ]
  },
  {
   "cell_type": "code",
   "execution_count": null,
   "metadata": {},
   "outputs": [],
   "source": [
    "#*********************************************\n",
    "## RUN (optional)\n",
    "#*********************************************\n",
    "wf.run()"
   ]
  },
  {
   "cell_type": "code",
   "execution_count": null,
   "metadata": {},
   "outputs": [],
   "source": [
    "#*********************************************\n",
    "## DISPLAY (optional)\n",
    "#*********************************************\n",
    "from ikomia.utils.displayIO import display\n",
    "from PIL import ImageShow\n",
    "ImageShow.register(ImageShow.IPythonViewer(), 0) # <-- Specific for displaying in notebooks\n",
    "\n",
    "\n",
    "display(flux.get_output(0).get_image())"
   ]
  },
  {
   "cell_type": "markdown",
   "metadata": {},
   "source": [
    "2. Save your workflow by exporting it as a JSON file that contains a description of its structure:"
   ]
  },
  {
   "cell_type": "code",
   "execution_count": null,
   "metadata": {},
   "outputs": [],
   "source": [
    "#*********************************************\n",
    "## EXPORT\n",
    "#*********************************************\n",
    "# Save the workflow as a JSON file in your current folder\n",
    "wf.save(\"./flux1_workflow.json\")"
   ]
  },
  {
   "cell_type": "markdown",
   "metadata": {},
   "source": [
    "3. Push the workflow to your project on Ikomia SCALE."
   ]
  },
  {
   "cell_type": "code",
   "execution_count": null,
   "metadata": {},
   "outputs": [],
   "source": [
    "!ikcli project push <project_name> flux1_workflow.json"
   ]
  },
  {
   "cell_type": "markdown",
   "metadata": {},
   "source": [
    "Replace `<project_name>` with the name of your project on Ikomia SCALE.\n",
    "\n",
    "## Step 5: Deploying a Workflow\n",
    "\n",
    "Now that your workflow is in your project on Ikomia SCALE, you can deploy it on a dedicated endpoint.\n",
    "\n",
    "1. Log in to your [Ikomia SCALE account](https://app.ikomia.ai)\n",
    "\n",
    "2. Go to the project and select your workflow\n",
    "\n",
    "3. Configure and deploy your workflow\n",
    "\n",
    "![Example instance](https://cdn.prod.website-files.com/645cec60ffb18d5ebb37da4b/66d86de8fd7e0a56a3c9a89c_662fb6fd68f87768755f681f_deploy.jpeg)\n",
    "\n",
    "4. Wait until it's running (it can take several minutes)\n",
    "\n",
    "![Illustration running deployment](https://cdn.prod.website-files.com/645cec60ffb18d5ebb37da4b/66d86de9fd7e0a56a3c9a8bf_662fb7662817e8837c449235_Screenshot%25202024-04-29%2520102021.jpeg)\n",
    "\n",
    "5. Click on the endpoint URL to test it online\n",
    "\n",
    "## Conclusion\n",
    "\n",
    "Congratulations! You have successfully onboarded to Ikomia SCALE, created a project, and deployed your first workflow. \n",
    "\n",
    "You can now use the power of Ikomia to scale your image processing tasks effortlessly.\n",
    "\n",
    "* Any questions? Contact [the Ikomia Team](mailto:team@ikomia.ai)\n",
    "\n",
    "* Any technical problems? Contact [the Ikomia Support](mailto:support@ikomia.ai)\n",
    "\n",
    "* Want to discuss with us? Come on our [discord channel](https://discord.com/invite/82Tnw9UGGc)!\n",
    "\n",
    "## Next steps\n",
    "\n",
    "* More algorithms on [Ikomia HUB](https://app.ikomia.ai/hub)\n",
    "* More explanations on Ikomia workflows in the [API documentation](https://ikomia-dev.github.io/python-api-documentation/getting_started.html)\n",
    "\n",
    "## Additional Resources\n",
    "\n",
    "- [Ikomia Website](https://www.ikomia.ai/)\n",
    "- [Ikomia blog](https://www.ikomia.ai/blog)\n",
    "- [Ikomia API](https://github.com/Ikomia-dev/IkomiaApi)"
   ]
  }
 ],
 "metadata": {
  "kernelspec": {
   "display_name": "Python 3 (ipykernel)",
   "language": "python",
   "name": "python3"
  },
  "language_info": {
   "codemirror_mode": {
    "name": "ipython",
    "version": 3
   },
   "file_extension": ".py",
   "mimetype": "text/x-python",
   "name": "python",
   "nbconvert_exporter": "python",
   "pygments_lexer": "ipython3",
   "version": "3.8.18"
  }
 },
 "nbformat": 4,
 "nbformat_minor": 4
}
