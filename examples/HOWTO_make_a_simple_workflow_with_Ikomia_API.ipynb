{
 "cells": [
  {
   "cell_type": "markdown",
   "metadata": {
    "id": "GyGbD_GxAOI0"
   },
   "source": [
    "<img src='https://raw.githubusercontent.com/Ikomia-dev/notebooks/main/examples/img/banner_ikomia.png'>\n",
    "\n",
    "\n"
   ]
  },
  {
   "cell_type": "markdown",
   "metadata": {
    "id": "oNcONqwxwgkv"
   },
   "source": [
    "# How to make a simple workflow with Ikomia API"
   ]
  },
  {
   "cell_type": "markdown",
   "metadata": {
    "id": "AKTe7F5nwXI4"
   },
   "source": [
    "This tutorial is made for beginners, you will learn how to use the Ikomia API to easily prototype some Computer Vision workflows.\n",
    "\n",
    "In a few lines of code, you can test and chain different computer vision algorithms.\n",
    "\n",
    "If you like this tutorial, you can support our project here [Ikomia API GitHub](https://github.com/Ikomia-dev/IkomiaApi).\n",
    "\n",
    "## ENJOY 🥰 !!\n",
    "\n",
    "<p float=\"left\">\n",
    "  <img src=\"https://github.com/Ikomia-dev/notebooks/blob/main/examples/img/img_porsche.jpg?raw=true\" width=\"500\" />\n",
    "  <img src=\"https://github.com/Ikomia-dev/notebooks/blob/main/examples/img/img_porsche_res.png?raw=true\" width=\"500\" /> \n",
    "</p>"
   ]
  },
  {
   "cell_type": "markdown",
   "metadata": {
    "id": "x4CdI0J1ej5b"
   },
   "source": [
    "## Setup"
   ]
  },
  {
   "cell_type": "markdown",
   "metadata": {
    "id": "NBmJN2AaDmcI"
   },
   "source": [
    "You need to install Ikomia Python API with pip."
   ]
  },
  {
   "cell_type": "code",
   "execution_count": null,
   "metadata": {
    "colab": {
     "base_uri": "https://localhost:8080/",
     "height": 1000
    },
    "id": "8eSnQYJygrDy",
    "outputId": "7a1ff895-63a8-4b6e-8f1d-a2823f31366a"
   },
   "outputs": [],
   "source": [
    "!pip install ikomia numpy==1.23.5"
   ]
  },
  {
   "cell_type": "markdown",
   "metadata": {
    "id": "kVvL0vVfUGN5"
   },
   "source": [
    "\n",
    "\n",
    "---\n",
    "\n",
    "\n",
    "**-Google Colab ONLY- Restart runtime**\n",
    "\n",
    "Some Python packages have been updated. Please click on the \"RESTART RUNTIME\" button at the end the previous window.\n",
    "\n",
    "\n",
    "\n"
   ]
  },
  {
   "cell_type": "markdown",
   "metadata": {
    "id": "2hS1T6ky1Wcw"
   },
   "source": [
    "---"
   ]
  },
  {
   "cell_type": "markdown",
   "metadata": {
    "id": "JJsRFzl9Au1c"
   },
   "source": [
    "Ikomia API has already more than 180 pre-integrated algorithms (mainly OpenCV) but the most interesting algorithms are in [Ikomia HUB](https://github.com/Ikomia-hub). \n",
    "\n",
    "We push regularly state-of-the-art algorithms from individual repos (think of YOLO v7 for example) or from companies (Facebook Detectron2 or Ultralytics/YOLOv5 for example)."
   ]
  },
  {
   "cell_type": "markdown",
   "metadata": {
    "id": "jEdZ_uDYDqjH"
   },
   "source": [
    "## Create your workflow"
   ]
  },
  {
   "cell_type": "markdown",
   "metadata": {
    "id": "5O-fpfWfiNfW"
   },
   "source": [
    "First, you create a new workflow from scratch. \n",
    "\n",
    "Then we use the YOLOv7 algorithm in order to detect objects in the image and we apply the stylization filter on every detected objects.\n",
    "\n",
    "It will automagically download the YOLOv7 algorithm from Ikomia Hub and install all the Python dependencies (the 1st time, it can take a while, be patient ! )."
   ]
  },
  {
   "cell_type": "code",
   "execution_count": null,
   "metadata": {
    "colab": {
     "base_uri": "https://localhost:8080/",
     "height": 1000
    },
    "id": "bRPYGcRd1Pwh",
    "outputId": "9b14f113-82a9-4377-c1fb-67fb6b45d61d",
    "tags": []
   },
   "outputs": [],
   "source": [
    "from ikomia.dataprocess.workflow import Workflow\n",
    "\n",
    "# Create your worflow\n",
    "wf = Workflow() \n",
    "\n",
    "# Add an object detector\n",
    "yolo = wf.add_task(name=\"infer_yolo_v7\", auto_connect=True) \n",
    "# Add the OpenCV stylization algorithm\n",
    "stylize = wf.add_task(name=\"ocv_stylization\", auto_connect=True) \n",
    "\n",
    "# Run\n",
    "wf.run_on(url=\"https://cdn.pixabay.com/photo/2020/01/26/18/52/porsche-4795517_960_720.jpg\") # <-- Change image url here if you want"
   ]
  },
  {
   "cell_type": "markdown",
   "metadata": {},
   "source": [
    "## Run and display your results"
   ]
  },
  {
   "cell_type": "code",
   "execution_count": null,
   "metadata": {},
   "outputs": [],
   "source": [
    "from ikomia.utils.displayIO import display\n",
    "from PIL import ImageShow\n",
    "ImageShow.register(ImageShow.IPythonViewer(), 0) # <-- Specific for displaying in notebooks\n",
    "\n",
    "# YOLO output image with bounding boxes\n",
    "img_detect = yolo.get_image_with_graphics()\n",
    "# Stylization output image\n",
    "img_final = stylize.get_output(0).get_image()\n",
    "\n",
    "display(img_detect)\n",
    "display(img_final)"
   ]
  },
  {
   "cell_type": "markdown",
   "metadata": {
    "id": "N0xG6b0k1gZJ"
   },
   "source": [
    "## More advanced workflow using the `ik` auto-completion system"
   ]
  },
  {
   "cell_type": "markdown",
   "metadata": {},
   "source": [
    "`ik` is an auto-completion system designed to help developers to find available algorithms in [Ikomia HUB](https://github.com/Ikomia-hub). See the documentation for more explanations [here](https://ikomia-dev.github.io/python-api-documentation/)."
   ]
  },
  {
   "cell_type": "code",
   "execution_count": null,
   "metadata": {
    "colab": {
     "base_uri": "https://localhost:8080/",
     "height": 1000
    },
    "id": "lIcEQ5HD1E1O",
    "outputId": "9d3a7b7b-99fd-4fc7-8c62-d8b3f08fb942"
   },
   "outputs": [],
   "source": [
    "from ikomia.dataprocess.workflow import Workflow\n",
    "from ikomia.utils import ik\n",
    "from ikomia.utils.displayIO import display\n",
    "from PIL import ImageShow\n",
    "ImageShow.register(ImageShow.IPythonViewer(), 0) # <-- Specific for displaying in notebooks\n",
    "\n",
    "# Create your worflow\n",
    "wf = Workflow()\n",
    "\n",
    "# Detect objects with pre-trained model on COCO\n",
    "yolo = wf.add_task(ik.infer_yolo_v7(), auto_connect=True) \n",
    "\n",
    "# Filter objects by name\n",
    "obj_filter = wf.add_task(ik.ik_object_detection_filter(categories=\"zebra\", confidence=\"0.3\"), auto_connect=True) \n",
    "\n",
    "# Run\n",
    "wf.run_on(url=\"https://cdn.pixabay.com/photo/2016/01/30/17/58/zebra-1170177_960_720.jpg\") # <-- change your input image here\n",
    "\n",
    "# YOLO output image with bounding boxes\n",
    "img_detect = yolo.get_image_with_graphics()\n",
    "\n",
    "display(img_detect)\n",
    "\n",
    "print(f\"There are {len(obj_filter.get_output(1).get_objects())} zebras\")"
   ]
  },
  {
   "cell_type": "markdown",
   "metadata": {
    "id": "rpsaQoYSwma8"
   },
   "source": [
    "## -Google Colab ONLY- Save your custom image in your Google Drive space"
   ]
  },
  {
   "cell_type": "code",
   "execution_count": null,
   "metadata": {
    "colab": {
     "base_uri": "https://localhost:8080/"
    },
    "id": "pKPQ1JUCwdGW",
    "outputId": "72dde86f-aaaa-421e-c8e6-b9311206dfc7"
   },
   "outputs": [],
   "source": [
    "# Uncomment these lines if you're working on Colab\n",
    "\"\"\" from google.colab import drive\n",
    "drive.mount('/content/gdrive')\n",
    "\n",
    "cv2.imwrite(\"/content/gdrive/MyDrive/img_detect.png\", img_detect) \"\"\""
   ]
  },
  {
   "cell_type": "markdown",
   "metadata": {
    "id": "DyS-Lak6kntB"
   },
   "source": [
    "## -Google Colab ONLY- Download directly your custom image"
   ]
  },
  {
   "cell_type": "code",
   "execution_count": null,
   "metadata": {
    "colab": {
     "base_uri": "https://localhost:8080/",
     "height": 17
    },
    "id": "s_E2W_3hk07U",
    "outputId": "e639ba39-14aa-4b99-8c0b-3034734f09c6"
   },
   "outputs": [],
   "source": [
    "# Uncomment these lines if you're working on Colab\n",
    "\"\"\" from google.colab import files\n",
    "cv2.imwrite(\"/content/img_detect.png\", img_detect)\n",
    "files.download('/content/img_detect.png') \"\"\""
   ]
  }
 ],
 "metadata": {
  "colab": {
   "collapsed_sections": [],
   "provenance": []
  },
  "gpuClass": "standard",
  "kernelspec": {
   "display_name": "Python 3 (ipykernel)",
   "language": "python",
   "name": "python3"
  },
  "language_info": {
   "codemirror_mode": {
    "name": "ipython",
    "version": 3
   },
   "file_extension": ".py",
   "mimetype": "text/x-python",
   "name": "python",
   "nbconvert_exporter": "python",
   "pygments_lexer": "ipython3",
   "version": "3.10.1"
  }
 },
 "nbformat": 4,
 "nbformat_minor": 4
}