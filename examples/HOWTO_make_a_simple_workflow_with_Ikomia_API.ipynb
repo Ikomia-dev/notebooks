{
 "cells": [
  {
   "cell_type": "markdown",
   "metadata": {
    "id": "GyGbD_GxAOI0"
   },
   "source": [
    "<img src='https://raw.githubusercontent.com/Ikomia-dev/notebooks/main/examples/img/banner_ikomia.png'>\n",
    "\n",
    "\n"
   ]
  },
  {
   "cell_type": "markdown",
   "metadata": {
    "id": "oNcONqwxwgkv"
   },
   "source": [
    "# How to make a simple workflow with Ikomia API"
   ]
  },
  {
   "cell_type": "markdown",
   "metadata": {
    "id": "AKTe7F5nwXI4"
   },
   "source": [
    "This tutorial is made for beginners, you will learn how to use the Ikomia API to easily prototype some Computer Vision workflows.\n",
    "\n",
    "In a few lines of code, you can test and chain different computer vision algorithms.\n",
    "\n",
    "If you like this tutorial, you can support our project here [Ikomia API GitHub](https://github.com/Ikomia-dev/IkomiaApi).\n",
    "\n",
    "## ENJOY 🥰 !!\n",
    "\n",
    "<p float=\"left\">\n",
    "  <img src=\"https://github.com/Ikomia-dev/notebooks/blob/main/examples/img/img_porsche.jpg?raw=true\" width=\"500\" />\n",
    "  <img src=\"https://github.com/Ikomia-dev/notebooks/blob/main/examples/img/img_porsche_res.png?raw=true\" width=\"500\" /> \n",
    "</p>"
   ]
  },
  {
   "cell_type": "markdown",
   "metadata": {
    "id": "x4CdI0J1ej5b"
   },
   "source": [
    "## Setup"
   ]
  },
  {
   "cell_type": "markdown",
   "metadata": {
    "id": "NBmJN2AaDmcI"
   },
   "source": [
    "You need to install Ikomia Python API with pip."
   ]
  },
  {
   "cell_type": "code",
   "execution_count": null,
   "metadata": {
    "colab": {
     "base_uri": "https://localhost:8080/",
     "height": 1000
    },
    "id": "8eSnQYJygrDy",
    "outputId": "7a1ff895-63a8-4b6e-8f1d-a2823f31366a"
   },
   "outputs": [],
   "source": [
    "!pip install ikomia"
   ]
  },
  {
   "cell_type": "markdown",
   "metadata": {
    "id": "kVvL0vVfUGN5"
   },
   "source": [
    "\n",
    "\n",
    "---\n",
    "\n",
    "\n",
    "**-Google Colab ONLY- Restart runtime**\n",
    "\n",
    "Some Python packages have been updated. Please click on the \"RESTART RUNTIME\" button at the end the previous window.\n",
    "\n",
    "\n",
    "\n"
   ]
  },
  {
   "cell_type": "markdown",
   "metadata": {
    "id": "2hS1T6ky1Wcw"
   },
   "source": [
    "---"
   ]
  },
  {
   "cell_type": "markdown",
   "metadata": {
    "id": "JJsRFzl9Au1c"
   },
   "source": [
    "Ikomia API has already more than 180 pre-integrated algorithms (mainly OpenCV) but the most interesting algorithms are in [Ikomia HUB](https://github.com/Ikomia-hub). \n",
    "\n",
    "We push regularly state-of-the-art algorithms from individual repos (think of YOLO v7 for example) or from companies (Facebook Detectron2 or Ultralytics/YOLOv5 for example).\n",
    "\n",
    "That's why, you need to connect to Ikomia HUB when you want to download/install these algorithms."
   ]
  },
  {
   "cell_type": "markdown",
   "metadata": {},
   "source": [
    "If you like our open source project, you can join our community [here](https://members.ikomia.com/accounts/signup/) and get your own credentials !"
   ]
  },
  {
   "cell_type": "code",
   "execution_count": null,
   "metadata": {
    "colab": {
     "base_uri": "https://localhost:8080/"
    },
    "id": "62DlRNwzYCam",
    "outputId": "c9f9aedf-1752-4a9c-9dbb-856660583b24"
   },
   "outputs": [],
   "source": [
    "import ikomia\n",
    "import os\n",
    "\n",
    "# Easy and unsafe authentication | Only for personal use\n",
    "os.environ['IKOMIA_USER'] = \"demo\"\n",
    "os.environ['IKOMIA_PWD'] = \"jH4q72DApbRPa4k\"\n",
    "\n",
    "ikomia.authenticate()"
   ]
  },
  {
   "cell_type": "markdown",
   "metadata": {
    "id": "jEdZ_uDYDqjH"
   },
   "source": [
    "## Create your workflow"
   ]
  },
  {
   "cell_type": "markdown",
   "metadata": {
    "id": "5O-fpfWfiNfW"
   },
   "source": [
    "First, you create a new workflow from scratch. \n",
    "\n",
    "Then we use the YOLOv5 algorithm in order to detect objects in the image and we apply the stylization filter on every detected objects.\n",
    "\n",
    "It will automagically download the YOLOv5 algorithm from Ikomia Hub and install all the Python dependencies (the 1st time, it can take a while, be patient ! )."
   ]
  },
  {
   "cell_type": "code",
   "execution_count": null,
   "metadata": {
    "colab": {
     "base_uri": "https://localhost:8080/",
     "height": 1000
    },
    "id": "bRPYGcRd1Pwh",
    "outputId": "9b14f113-82a9-4377-c1fb-67fb6b45d61d"
   },
   "outputs": [],
   "source": [
    "from ikomia.utils import ik\n",
    "from ikomia.core import task\n",
    "from ikomia.dataprocess import workflow\n",
    "import cv2\n",
    "\n",
    "# Create your worflow\n",
    "wf = workflow.create(\"My first workflow\") \n",
    "\n",
    "# Add algorithms to your workflow\n",
    "yolo_id, yolo = wf.add_task(ik.infer_yolo_v5) \n",
    "stylize_id, stylize = wf.add_task(ik.ocv_stylization) \n",
    "\n",
    "# Connect your algorithms\n",
    "wf.connect_tasks(wf.getRootID(), yolo_id)\n",
    "wf.connect_tasks(yolo_id, stylize_id)"
   ]
  },
  {
   "cell_type": "markdown",
   "metadata": {},
   "source": [
    "## Run and display your results"
   ]
  },
  {
   "cell_type": "code",
   "execution_count": null,
   "metadata": {},
   "outputs": [],
   "source": [
    "# Utility function for displaying image in Jupyter notebooks\n",
    "def imshow(img):\n",
    "    import cv2\n",
    "    import IPython\n",
    "    _,ret = cv2.imencode('.jpg', img) \n",
    "    i = IPython.display.Image(data=ret)\n",
    "    IPython.display.display(i)\n",
    "\n",
    "# Run\n",
    "wf.run_on(url=\"https://cdn.pixabay.com/photo/2020/01/26/18/52/porsche-4795517_960_720.jpg\") # <-- Change image url here if you want\n",
    "\n",
    "# YOLO output image with bounding boxes\n",
    "img_detect = wf.get_image_with_graphics(yolo_id)\n",
    "# Stylization output image\n",
    "img_final = wf.get_image(stylize_id, index=0)\n",
    "\n",
    "img_detect = cv2.cvtColor(img_detect, cv2.COLOR_RGB2BGR)\n",
    "img_final = cv2.cvtColor(img_final, cv2.COLOR_RGB2BGR)\n",
    "\n",
    "imshow(img_detect)\n",
    "imshow(img_final)"
   ]
  },
  {
   "cell_type": "markdown",
   "metadata": {
    "id": "N0xG6b0k1gZJ"
   },
   "source": [
    "## More advanced workflow with manual connection and parameters setting"
   ]
  },
  {
   "cell_type": "code",
   "execution_count": null,
   "metadata": {
    "colab": {
     "base_uri": "https://localhost:8080/",
     "height": 1000
    },
    "id": "lIcEQ5HD1E1O",
    "outputId": "9d3a7b7b-99fd-4fc7-8c62-d8b3f08fb942"
   },
   "outputs": [],
   "source": [
    "from ikomia.utils import ik\n",
    "from ikomia.core import task\n",
    "from ikomia.dataprocess import workflow\n",
    "\n",
    "# Create your worflow\n",
    "wf = workflow.create(\"My first workflow\") \n",
    "\n",
    "# Add algorithms to your workflow\n",
    "yolo_id, yolo = wf.add_task(ik.infer_yolo_v5) \n",
    "obj_filter_id, obj_filter = wf.add_task(ik.ik_obj_detection_filter) \n",
    "stylize_id, stylize = wf.add_task(ik.ocv_stylization) \n",
    "\n",
    "# Connect your algorithms\n",
    "# Auto connection : Ikomia automatically connect input/output tasks\n",
    "wf.connect_tasks(wf.getRootID(), yolo_id)\n",
    "wf.connect_tasks(yolo_id, obj_filter_id)\n",
    "wf.connect_tasks(obj_filter_id, stylize_id)\n",
    "\n",
    "# But sometimes, you need to do more...\n",
    "\n",
    "# Manual connection : ik_obj_detection_filter filters graphics objects so it does not output any image.\n",
    "# That's why you need to connect yourself YOLO output image and Stylization input image.\n",
    "#\n",
    "#                       \n",
    "#     root ---- infer_yolo_v5 -----------------MANUAL CONNECTION----------- ocv_stylization\n",
    "#                             \\                                           /\n",
    "#                              \\                                         /\n",
    "#                                ------- ik_obj_detection_filter -------\n",
    "\n",
    "# We connect the first output from infer_yolo_v5 (index = 0) and the first input from ocv_stylization (index = 0).\n",
    "wf.connect_tasks(yolo_id, stylize_id, [(0, 0)])\n",
    "\n",
    "# By default, our YOLOv5 algorithm uses the pre-trained yolov5s.pt model.\n",
    "# So you can filter output objects by class name (COCO class names).\n",
    "obj_filter_params = {\n",
    "        ik.ik_obj_detection_filter_param.categories: 'giraffe', # <-- change class name here\n",
    "        ik.ik_obj_detection_filter_param.confidence: 0.5 # <--- change confidence here\n",
    "    }\n",
    "wf.set_parameters(task_id=obj_filter_id, params=obj_filter_params)\n",
    "\n",
    "# Run\n",
    "wf.run_on(url=\"https://cdn.pixabay.com/photo/2016/01/30/17/58/zebra-1170177_960_720.jpg\") # <-- change your input image here\n",
    "\n",
    "# YOLO output image with bounding boxes\n",
    "img_detect = wf.get_image_with_graphics(yolo_id)\n",
    "# Stylization output image\n",
    "img_final = wf.get_image(stylize_id, index=0)\n",
    "\n",
    "img_detect = cv2.cvtColor(img_detect, cv2.COLOR_RGB2BGR)\n",
    "img_final = cv2.cvtColor(img_final, cv2.COLOR_RGB2BGR)\n",
    "\n",
    "imshow(img_detect)\n",
    "imshow(img_final)"
   ]
  },
  {
   "cell_type": "markdown",
   "metadata": {
    "id": "rpsaQoYSwma8"
   },
   "source": [
    "## -Google Colab ONLY- Save your custom image in your Google Drive space"
   ]
  },
  {
   "cell_type": "code",
   "execution_count": null,
   "metadata": {
    "colab": {
     "base_uri": "https://localhost:8080/"
    },
    "id": "pKPQ1JUCwdGW",
    "outputId": "72dde86f-aaaa-421e-c8e6-b9311206dfc7"
   },
   "outputs": [],
   "source": [
    "# Uncomment these lines if you're working on Colab\n",
    "\"\"\" from google.colab import drive\n",
    "drive.mount('/content/gdrive')\n",
    "\n",
    "cv2.imwrite(\"/content/gdrive/MyDrive/img_final.png\", img_final) \"\"\""
   ]
  },
  {
   "cell_type": "markdown",
   "metadata": {
    "id": "DyS-Lak6kntB"
   },
   "source": [
    "## -Google Colab ONLY- Download directly your custom image"
   ]
  },
  {
   "cell_type": "code",
   "execution_count": null,
   "metadata": {
    "colab": {
     "base_uri": "https://localhost:8080/",
     "height": 17
    },
    "id": "s_E2W_3hk07U",
    "outputId": "e639ba39-14aa-4b99-8c0b-3034734f09c6"
   },
   "outputs": [],
   "source": [
    "# Uncomment these lines if you're working on Colab\n",
    "\"\"\" from google.colab import files\n",
    "cv2.imwrite(\"/content/img_final.png\", img_final)\n",
    "files.download('/content/img_final.png') \"\"\""
   ]
  }
 ],
 "metadata": {
  "colab": {
   "collapsed_sections": [],
   "provenance": []
  },
  "gpuClass": "standard",
  "kernelspec": {
   "display_name": "Python 3.7.14 64-bit",
   "language": "python",
   "name": "python371464bit5547b284ee9e436e9e8130345a0ff8c9"
  },
  "language_info": {
   "codemirror_mode": {
    "name": "ipython",
    "version": 3
   },
   "file_extension": ".py",
   "mimetype": "text/x-python",
   "name": "python",
   "nbconvert_exporter": "python",
   "pygments_lexer": "ipython3",
   "version": "3.7.14"
  }
 },
 "nbformat": 4,
 "nbformat_minor": 4
}
