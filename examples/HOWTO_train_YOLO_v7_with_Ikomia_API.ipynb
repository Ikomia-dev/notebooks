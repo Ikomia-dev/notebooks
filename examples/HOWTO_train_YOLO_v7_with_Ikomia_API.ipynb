{
 "cells": [
  {
   "cell_type": "markdown",
   "metadata": {
    "id": "GyGbD_GxAOI0"
   },
   "source": [
    "<img src='https://ikomia.com/wp-content/uploads/2022/10/banner.png'>"
   ]
  },
  {
   "cell_type": "markdown",
   "metadata": {
    "id": "WKz9Zij7bN-t"
   },
   "source": [
    "# How to train YOLO v7 with Ikomia API"
   ]
  },
  {
   "cell_type": "markdown",
   "metadata": {
    "id": "CpxHrXhtbWTZ"
   },
   "source": [
    "Object detection is an important task in Computer Vision. Lots of companies use this technology:\n",
    "\n",
    "\n",
    "*   **Smart city** : crowd analysis or infrastructure inspection\n",
    "*   **Retail** : inventory tracking or customer tracking\n",
    "*   **Autonomous vehicles** : vehicle or pedestrian detection\n",
    "*   **Security** : facial recognition or potential threats detection\n",
    "*   **Manufacturing** : quality control or defect detection\n",
    "*   **Healthcare** : many disease recognition\n",
    "\n",
    "If you are familiar with object detection, you know that there exists a lot of algorithms and the latest, **YOLO v7** is one of the most **powerful** at this time of writing.\n",
    "\n",
    "I will not describe the algorithm because you can already find some good articles on the web. You just need to know that YOLO v7 is very fast (real time processing) and accurate. \n",
    "\n",
    "The main bottleneck for many developers is...how can I use this technology in my own problem ?\n",
    "\n",
    "In this tutorial, I show you how it can be EASY to create your own object detector thanks to Ikomia API.\n",
    "\n",
    "Paper : [YOLOv7: Trainable bag-of-freebies sets new state-of-the-art for real-time object detectors](https://arxiv.org/abs/2207.02696)\n",
    "\n",
    "Code : [GitHub repository](https://github.com/wongkinyiu/yolov7)\n",
    "\n",
    "\n",
    "ENJOY 🥰 !!\n",
    "\n",
    "<p float=\"left\">\n",
    "  <img src=\"https://ikomia.com/wp-content/uploads/2022/10/img_foot.png\" width=\"500\" /> \n",
    "    <img src=\"https://ikomia.com/wp-content/uploads/2022/10/img_bbox.png\" width=\"500\" />\n",
    "</p>"
   ]
  },
  {
   "cell_type": "markdown",
   "metadata": {
    "id": "x4CdI0J1ej5b"
   },
   "source": [
    "## Setup"
   ]
  },
  {
   "cell_type": "markdown",
   "metadata": {
    "id": "R5O31W412NRx"
   },
   "source": [
    "Please use a GPU for this tutorial.\n",
    "\n",
    "In the menu, select \"Runtime\" then \"Change runtime type\", choose GPU in \"Hardware accelerator\".\n",
    "\n",
    "Check your GPU with the following command:"
   ]
  },
  {
   "cell_type": "code",
   "execution_count": null,
   "metadata": {
    "id": "OJFMsi47Yrqj"
   },
   "outputs": [],
   "source": [
    "!nvidia-smi"
   ]
  },
  {
   "cell_type": "markdown",
   "metadata": {
    "id": "NBmJN2AaDmcI"
   },
   "source": [
    "First of all, you need to install Ikomia API pip package."
   ]
  },
  {
   "cell_type": "code",
   "execution_count": null,
   "metadata": {
    "id": "8eSnQYJygrDy"
   },
   "outputs": [],
   "source": [
    "!pip install ikomia"
   ]
  },
  {
   "cell_type": "markdown",
   "metadata": {
    "id": "ktbA-VPOATgP"
   },
   "source": [
    "\n",
    "\n",
    "---\n",
    "\n",
    "\n",
    "** -Google Colab ONLY- Restart runtime**\n",
    "\n",
    "Click on the \"RESTART RUNTIME\" button at the end the previous window.\n",
    "\n",
    "\n",
    "\n"
   ]
  },
  {
   "cell_type": "markdown",
   "metadata": {
    "id": "2hS1T6ky1Wcw"
   },
   "source": [
    "---"
   ]
  },
  {
   "cell_type": "markdown",
   "metadata": {
    "id": "JJsRFzl9Au1c"
   },
   "source": [
    "Use your credentials to connect with Ikomia HUB and access more than 60 algorithms and 800+ models.\n",
    "\n",
    "Your credentials are the same as you use to login to our website, if you don't have any credentials, follow this link\n",
    "\n",
    "https://members.ikomia.com/accounts/signup/"
   ]
  },
  {
   "cell_type": "code",
   "execution_count": null,
   "metadata": {
    "id": "62DlRNwzYCam"
   },
   "outputs": [],
   "source": [
    "import ikomia\n",
    "import os\n",
    "\n",
    "# Easy and unsafe authentication | Only for personal use\n",
    "os.environ['IKOMIA_USER'] = \"your_login\"\n",
    "os.environ['IKOMIA_PWD'] = \"your_password\"\n",
    "\n",
    "ikomia.authenticate()"
   ]
  },
  {
   "cell_type": "markdown",
   "metadata": {
    "id": "ZgGi5tjosC8g"
   },
   "source": [
    "## How to train YOLO v7 on a custom YOLO dataset"
   ]
  },
  {
   "cell_type": "markdown",
   "metadata": {
    "id": "pwJit3k190PN"
   },
   "source": [
    "Download your dataset from your preferred tool. In this example, we use a dataset from **Roboflow** which is a great annotation platform used by many developers and companies. The dataset is exported in YOLO format."
   ]
  },
  {
   "cell_type": "code",
   "execution_count": null,
   "metadata": {
    "id": "RpGiTWgeRnIq"
   },
   "outputs": [],
   "source": [
    "!curl -L \"https://universe.roboflow.com/ds/997v9b3SK6?key=qTrYR6x8fv\" > roboflow.zip; unzip roboflow.zip; rm roboflow.zip\n",
    "!cp $(pwd)/valid/* $(pwd)/train/"
   ]
  },
  {
   "cell_type": "markdown",
   "metadata": {
    "id": "BgYm8QNx-ekO"
   },
   "source": [
    "In order to train YOLOv7 on your custom dataset, please create a new workflow from scratch.\n",
    "\n",
    "Then you need 2 components:\n",
    "\n",
    "1.   A YOLO dataset loader which loads dataset in YOLO format and convert it to an Ikomia format\n",
    "2.   The YOLOv7 training algorithm which loads dataset in Ikomia format\n",
    "\n",
    "Add these 2 previous algorithms to your workflow and then it will automagically download all algorithms from Ikomia Hub and install all the Python dependencies (the 1st time, it can take a while, be patient ! )."
   ]
  },
  {
   "cell_type": "markdown",
   "metadata": {
    "id": "jYEO6THt85ml"
   },
   "source": [
    "** -Google Colab ONLY- ** If you want to monitor your training results, you can use TensorBoard by running the following cell."
   ]
  },
  {
   "cell_type": "code",
   "execution_count": null,
   "metadata": {
    "id": "UlLFhQwCZIJS"
   },
   "outputs": [],
   "source": [
    "%load_ext tensorboard\n",
    "%tensorboard --logdir /root/Ikomia/Tensorboard"
   ]
  },
  {
   "cell_type": "markdown",
   "metadata": {
    "id": "I1BKL7hpw15Z"
   },
   "source": [
    "Now, it's time to train your model !"
   ]
  },
  {
   "cell_type": "code",
   "execution_count": null,
   "metadata": {
    "id": "LfICgCeQLJuc"
   },
   "outputs": [],
   "source": [
    "from ikomia.utils import ik\n",
    "from ikomia.core import task\n",
    "from ikomia.dataprocess import workflow\n",
    "import os\n",
    "\n",
    "#----------------------------- Step 1 -----------------------------------#\n",
    "# Create a workflow which will take your dataset as input and\n",
    "# train a YOLOv7 model on it\n",
    "#------------------------------------------------------------------------#\n",
    "wf = workflow.create(\"Train YOLOv7\")\n",
    "\n",
    "#----------------------------- Step 2 -----------------------------------#\n",
    "# First you need to convert darknet YOLO format to IKOMIA format.\n",
    "# Add an Ikomia dataset converter to your workflow.\n",
    "#------------------------------------------------------------------------#\n",
    "dataset_yolo_id, dataset_yolo = wf.add_task(ik.dataset_yolo)\n",
    "\n",
    "# Specify where are the data and class file\n",
    "dataset_yolo_params = {\n",
    "    ik.dataset_yolo_param.data_folder_path: os.getcwd()+\"/train\",\n",
    "    ik.dataset_yolo_param.class_file_path: os.getcwd()+\"/train/_darknet.labels\"\n",
    "}\n",
    "wf.set_parameters(task_id=dataset_yolo_id, params=dataset_yolo_params)\n",
    "\n",
    "#----------------------------- Step 3 -----------------------------------#\n",
    "# Then, you want to train a YOLOv7 model.\n",
    "# Add YOLOv7 training algorithm to your workflow\n",
    "#------------------------------------------------------------------------#\n",
    "yolo7_id, yolo7 = wf.add_task(ik.train_yolo_v7)\n",
    "\n",
    "# Specify where to put the pre-trained model and set hyperparameters\n",
    "train_yolo_v7_params = {\n",
    "    ik.train_yolo_v7_param.output_folder: os.getcwd(),\n",
    "    ik.train_yolo_v7_param.batch_size: 16, # <-- Reduce the batch size if you encounter some \"Cuda out of memory\"\n",
    "    ik.train_yolo_v7_param.epochs: 150\n",
    "}\n",
    "wf.set_parameters(task_id=yolo7_id, params=train_yolo_v7_params)\n",
    "\n",
    "\n",
    "#----------------------------- Step 4 -----------------------------------#\n",
    "# Connect your tasks I/O (Input/Output).\n",
    "# In this example, all connections are automatic because \"dataset_yolo\"\n",
    "# outputs exactly fit with \"train_yolo\" inputs\n",
    "#------------------------------------------------------------------------#\n",
    "wf.connect_tasks(dataset_yolo_id, yolo7_id)\n",
    "#----------------------------- Step 5 -----------------------------------#\n",
    "# Execute your workflow.\n",
    "# It automatically runs all your tasks sequentially.\n",
    "#------------------------------------------------------------------------#\n",
    "wf.run()"
   ]
  },
  {
   "cell_type": "markdown",
   "metadata": {
    "id": "rpsaQoYSwma8"
   },
   "source": [
    "## How to execute YOLOv7 on images"
   ]
  },
  {
   "cell_type": "markdown",
   "metadata": {
    "id": "-H2JCp2SOD2a"
   },
   "source": [
    "Once the training is finished, you may want to experiment the fresh model on new test images. Just use the following code to execute YOLO v7 inference on your image."
   ]
  },
  {
   "cell_type": "code",
   "execution_count": null,
   "metadata": {
    "id": "ecT5qPDywrEi"
   },
   "outputs": [],
   "source": [
    "from ikomia.dataprocess import workflow, registry\n",
    "from ikomia.utils import ik\n",
    "import cv2\n",
    "\n",
    "# Create your workflow for YOLO inference\n",
    "wf = workflow.create(\"YOLOv7 inference\")\n",
    "\n",
    "# Add YOLO v7 to your workflow\n",
    "yolo7_id, yolo7 = wf.add_task(ik.infer_yolo_v7)\n",
    "\n",
    "# Set custom parameters\n",
    "# Comment these 4 lines if you want to use pretrained model on COCO\n",
    "yolo7_params = {\n",
    "    ik.infer_yolo_v7_param.custom_train: True,\n",
    "    ik.infer_yolo_v7_param.custom_model: os.getcwd()+\"/folder_name/weights/best.pt\", # <-- replace \"folder_name\" by the correct folder name in /content/\n",
    "    ik.infer_yolo_v7_param.thr_conf: 0.25\n",
    "}\n",
    "wf.set_parameters(task_id=yolo7_id, params=yolo7_params)\n",
    "\n",
    "# Connect YOLO v7 with the root task\n",
    "wf.connect_tasks(wf.getRootID(), yolo7_id)\n",
    "\n",
    "# Apply YOLO v7 on your image\n",
    "wf.run_on(path=os.getcwd()+\"/train/yt1s-com---Resume-Tottenham-20-West-Bromwich-Premier-League-J23_720p-fps-2_00044_jpeg_jpg.rf.9de8afe0132987f478d16d536e768a67.jpg\")"
   ]
  },
  {
   "cell_type": "markdown",
   "metadata": {},
   "source": [
    "## Display your results"
   ]
  },
  {
   "cell_type": "markdown",
   "metadata": {},
   "source": [
    "Utility function for displaying image"
   ]
  },
  {
   "cell_type": "code",
   "execution_count": null,
   "metadata": {},
   "outputs": [],
   "source": [
    "def imshow(img):\n",
    "    import cv2\n",
    "    import IPython\n",
    "    _,ret = cv2.imencode('.jpg', img) \n",
    "    i = IPython.display.Image(data=ret)\n",
    "    IPython.display.display(i)"
   ]
  },
  {
   "cell_type": "code",
   "execution_count": null,
   "metadata": {},
   "outputs": [],
   "source": [
    "# Get YOLO v7 image result\n",
    "img_bbox = wf.get_image_with_graphics(task_id=yolo7_id)\n",
    "\n",
    "# Display in Colab\n",
    "img_bbox = cv2.cvtColor(img_bbox, cv2.COLOR_BGR2RGB)\n",
    "imshow(img_bbox)"
   ]
  },
  {
   "cell_type": "markdown",
   "metadata": {
    "id": "e8NF6rmzkNjT"
   },
   "source": [
    "## -Google Colab ONLY- Save your YOLO v7 model in your Google Drive account\n",
    "\n"
   ]
  },
  {
   "cell_type": "code",
   "execution_count": null,
   "metadata": {
    "colab": {
     "base_uri": "https://localhost:8080/"
    },
    "id": "8tbX9joziSxe",
    "outputId": "83649d92-c555-4ef3-cf7e-54dd14669a68"
   },
   "outputs": [],
   "source": [
    "# from google.colab import drive\n",
    "# drive.mount('/content/gdrive')\n",
    "\n",
    "# Uncomment and insert the correct \"folder name\" in the following path\n",
    "#%cp /content/foler_name/weights/best.pt /content/gdrive/MyDrive"
   ]
  },
  {
   "cell_type": "markdown",
   "metadata": {
    "id": "DyS-Lak6kntB"
   },
   "source": [
    "## -Google Colab ONLY- Download directly your custom model"
   ]
  },
  {
   "cell_type": "code",
   "execution_count": null,
   "metadata": {
    "colab": {
     "base_uri": "https://localhost:8080/",
     "height": 17
    },
    "id": "s_E2W_3hk07U",
    "outputId": "41ba4234-45b5-4958-804e-4ea3e4d9a5e1"
   },
   "outputs": [],
   "source": [
    "#from google.colab import files\n",
    "\n",
    "# Uncomment and insert the correct \"folder name\" in the following path\n",
    "#files.download('/content/folder_name/weights/best.pt')"
   ]
  }
 ],
 "metadata": {
  "accelerator": "GPU",
  "colab": {
   "collapsed_sections": [],
   "provenance": [],
   "toc_visible": true
  },
  "kernelspec": {
   "display_name": "Python 3 (ipykernel)",
   "language": "python",
   "name": "python3"
  },
  "language_info": {
   "codemirror_mode": {
    "name": "ipython",
    "version": 3
   },
   "file_extension": ".py",
   "mimetype": "text/x-python",
   "name": "python",
   "nbconvert_exporter": "python",
   "pygments_lexer": "ipython3",
   "version": "3.7.14"
  }
 },
 "nbformat": 4,
 "nbformat_minor": 4
}