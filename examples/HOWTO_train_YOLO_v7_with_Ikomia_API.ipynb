{
 "cells": [
  {
   "cell_type": "markdown",
   "metadata": {
    "id": "GyGbD_GxAOI0"
   },
   "source": [
    "<img src='https://github.com/Ikomia-dev/notebooks/blob/main/examples/img/banner_ikomia.png?raw=true'>"
   ]
  },
  {
   "cell_type": "markdown",
   "metadata": {
    "id": "WKz9Zij7bN-t"
   },
   "source": [
    "# How to train YOLO v7 with Ikomia API"
   ]
  },
  {
   "cell_type": "markdown",
   "metadata": {
    "id": "CpxHrXhtbWTZ"
   },
   "source": [
    "Object detection is an important task in Computer Vision. Lots of companies use this technology:\n",
    "\n",
    "\n",
    "*   **Smart city** : crowd analysis or infrastructure inspection\n",
    "*   **Retail** : inventory tracking or customer tracking\n",
    "*   **Autonomous vehicles** : vehicle or pedestrian detection\n",
    "*   **Security** : facial recognition or potential threats detection\n",
    "*   **Manufacturing** : quality control or defect detection\n",
    "*   **Healthcare** : many disease recognition\n",
    "\n",
    "If you are familiar with object detection, you know that there exists a lot of algorithms and the latest, **YOLO v7** is one of the most **powerful** at this time of writing.\n",
    "\n",
    "I will not describe the algorithm because you can already find some good articles on the web. You just need to know that YOLO v7 is very fast (real time processing) and accurate. \n",
    "\n",
    "The main bottleneck for many developers is...how can I use this technology in my own problem ?\n",
    "\n",
    "In this tutorial, I show you how it can be EASY to create your own object detector thanks to Ikomia API.\n",
    "\n",
    "Paper : [YOLOv7: Trainable bag-of-freebies sets new state-of-the-art for real-time object detectors](https://arxiv.org/abs/2207.02696)\n",
    "\n",
    "Code : [GitHub repository](https://github.com/wongkinyiu/yolov7)\n",
    "\n",
    "If you like this tutorial, you can support our project here [Ikomia API GitHub](https://github.com/Ikomia-dev/IkomiaApi)\n",
    "\n",
    "ENJOY 🥰 !!\n",
    "\n",
    "<p float=\"left\">\n",
    "  <img src=\"https://github.com/Ikomia-dev/notebooks/blob/main/examples/img/img_foot.png?raw=true\" width=\"500\" /> \n",
    "  <img src=\"https://github.com/Ikomia-dev/notebooks/blob/main/examples/img/img_foot_bbox.png?raw=true\" width=\"500\" />\n",
    "</p>"
   ]
  },
  {
   "cell_type": "markdown",
   "metadata": {
    "id": "x4CdI0J1ej5b"
   },
   "source": [
    "## Setup"
   ]
  },
  {
   "cell_type": "markdown",
   "metadata": {
    "id": "R5O31W412NRx"
   },
   "source": [
    "Please use a GPU for this tutorial.\n",
    "\n",
    "In the menu, select \"Runtime\" then \"Change runtime type\", choose GPU in \"Hardware accelerator\".\n",
    "\n",
    "Check your GPU with the following command:"
   ]
  },
  {
   "cell_type": "code",
   "execution_count": 1,
   "metadata": {
    "id": "OJFMsi47Yrqj"
   },
   "outputs": [
    {
     "name": "stdout",
     "output_type": "stream",
     "text": [
      "Tue Oct 25 12:26:11 2022       \n",
      "+-----------------------------------------------------------------------------+\n",
      "| NVIDIA-SMI 495.46       Driver Version: 495.46       CUDA Version: 11.5     |\n",
      "|-------------------------------+----------------------+----------------------+\n",
      "| GPU  Name        Persistence-M| Bus-Id        Disp.A | Volatile Uncorr. ECC |\n",
      "| Fan  Temp  Perf  Pwr:Usage/Cap|         Memory-Usage | GPU-Util  Compute M. |\n",
      "|                               |                      |               MIG M. |\n",
      "|===============================+======================+======================|\n",
      "|   0  NVIDIA GeForce ...  Off  | 00000000:01:00.0  On |                  N/A |\n",
      "| N/A   49C    P8     9W /  N/A |   2572MiB /  5934MiB |      2%      Default |\n",
      "|                               |                      |                  N/A |\n",
      "+-------------------------------+----------------------+----------------------+\n",
      "                                                                               \n",
      "+-----------------------------------------------------------------------------+\n",
      "| Processes:                                                                  |\n",
      "|  GPU   GI   CI        PID   Type   Process name                  GPU Memory |\n",
      "|        ID   ID                                                   Usage      |\n",
      "|=============================================================================|\n",
      "|    0   N/A  N/A      1011      G   /usr/lib/Xorg                     543MiB |\n",
      "|    0   N/A  N/A      2657      G   /usr/bin/kwin_x11                  46MiB |\n",
      "|    0   N/A  N/A      2713      G   /usr/bin/plasmashell                1MiB |\n",
      "|    0   N/A  N/A      3020      G   /usr/lib/firefox/firefox          376MiB |\n",
      "|    0   N/A  N/A      3238      G   ...AAAAAAAAA= --shared-files       57MiB |\n",
      "|    0   N/A  N/A      4535      G   ...b/thunderbird/thunderbird      130MiB |\n",
      "|    0   N/A  N/A     15839      G   ...token=6463159267349570967       76MiB |\n",
      "|    0   N/A  N/A     18025      C   ...venv/python3.7/bin/python     1331MiB |\n",
      "+-----------------------------------------------------------------------------+\n"
     ]
    }
   ],
   "source": [
    "!nvidia-smi"
   ]
  },
  {
   "cell_type": "markdown",
   "metadata": {
    "id": "NBmJN2AaDmcI"
   },
   "source": [
    "First of all, you need to install Ikomia API pip package."
   ]
  },
  {
   "cell_type": "code",
   "execution_count": 2,
   "metadata": {
    "id": "8eSnQYJygrDy"
   },
   "outputs": [
    {
     "name": "stdout",
     "output_type": "stream",
     "text": [
      "Looking in indexes: https://pypi.org/simple, https://pypi.ngc.nvidia.com\n",
      "Requirement already satisfied: ikomia in /home/yom/Developpement/python_venv/python3.7/lib/python3.7/site-packages (0.8.0)\n",
      "Requirement already satisfied: Pillow>=8.1.0 in /home/yom/Developpement/python_venv/python3.7/lib/python3.7/site-packages (from ikomia) (8.1.0)\n",
      "Requirement already satisfied: pyyaml in /home/yom/Developpement/python_venv/python3.7/lib/python3.7/site-packages (from ikomia) (6.0)\n",
      "Requirement already satisfied: cython in /home/yom/Developpement/python_venv/python3.7/lib/python3.7/site-packages (from ikomia) (0.29.32)\n",
      "Requirement already satisfied: setuptools==59.5.0 in /home/yom/Developpement/python_venv/python3.7/lib/python3.7/site-packages (from ikomia) (59.5.0)\n",
      "Requirement already satisfied: tqdm>=4.41.0 in /home/yom/Developpement/python_venv/python3.7/lib/python3.7/site-packages (from ikomia) (4.64.1)\n",
      "Requirement already satisfied: matplotlib==3.4.3 in /home/yom/Developpement/python_venv/python3.7/lib/python3.7/site-packages (from ikomia) (3.4.3)\n",
      "Requirement already satisfied: tensorboard>=2.5.0 in /home/yom/Developpement/python_venv/python3.7/lib/python3.7/site-packages (from ikomia) (2.10.1)\n",
      "Requirement already satisfied: requests in /home/yom/Developpement/python_venv/python3.7/lib/python3.7/site-packages (from ikomia) (2.28.1)\n",
      "Requirement already satisfied: numpy>=1.20.3 in /home/yom/Developpement/python_venv/python3.7/lib/python3.7/site-packages (from ikomia) (1.21.6)\n",
      "Requirement already satisfied: mlflow==1.24.0 in /home/yom/Developpement/python_venv/python3.7/lib/python3.7/site-packages (from ikomia) (1.24.0)\n",
      "Requirement already satisfied: python-dotenv>=0.18.0 in /home/yom/Developpement/python_venv/python3.7/lib/python3.7/site-packages (from ikomia) (0.21.0)\n",
      "Requirement already satisfied: python-dateutil>=2.7 in /home/yom/Developpement/python_venv/python3.7/lib/python3.7/site-packages (from matplotlib==3.4.3->ikomia) (2.8.2)\n",
      "Requirement already satisfied: pyparsing>=2.2.1 in /home/yom/Developpement/python_venv/python3.7/lib/python3.7/site-packages (from matplotlib==3.4.3->ikomia) (3.0.9)\n",
      "Requirement already satisfied: cycler>=0.10 in /home/yom/Developpement/python_venv/python3.7/lib/python3.7/site-packages (from matplotlib==3.4.3->ikomia) (0.11.0)\n",
      "Requirement already satisfied: kiwisolver>=1.0.1 in /home/yom/Developpement/python_venv/python3.7/lib/python3.7/site-packages (from matplotlib==3.4.3->ikomia) (1.4.4)\n",
      "Requirement already satisfied: sqlalchemy in /home/yom/Developpement/python_venv/python3.7/lib/python3.7/site-packages (from mlflow==1.24.0->ikomia) (1.4.41)\n",
      "Requirement already satisfied: cloudpickle in /home/yom/Developpement/python_venv/python3.7/lib/python3.7/site-packages (from mlflow==1.24.0->ikomia) (2.2.0)\n",
      "Requirement already satisfied: click>=7.0 in /home/yom/Developpement/python_venv/python3.7/lib/python3.7/site-packages (from mlflow==1.24.0->ikomia) (8.1.3)\n",
      "Requirement already satisfied: databricks-cli>=0.8.7 in /home/yom/Developpement/python_venv/python3.7/lib/python3.7/site-packages (from mlflow==1.24.0->ikomia) (0.17.3)\n",
      "Requirement already satisfied: pytz in /home/yom/Developpement/python_venv/python3.7/lib/python3.7/site-packages (from mlflow==1.24.0->ikomia) (2022.2.1)\n",
      "Requirement already satisfied: querystring-parser in /home/yom/Developpement/python_venv/python3.7/lib/python3.7/site-packages (from mlflow==1.24.0->ikomia) (1.2.4)\n",
      "Requirement already satisfied: scipy in /home/yom/Developpement/python_venv/python3.7/lib/python3.7/site-packages (from mlflow==1.24.0->ikomia) (1.7.3)\n",
      "Requirement already satisfied: gitpython>=2.1.0 in /home/yom/Developpement/python_venv/python3.7/lib/python3.7/site-packages (from mlflow==1.24.0->ikomia) (3.1.27)\n",
      "Requirement already satisfied: importlib-metadata!=4.7.0,>=3.7.0 in /home/yom/Developpement/python_venv/python3.7/lib/python3.7/site-packages (from mlflow==1.24.0->ikomia) (4.12.0)\n",
      "Requirement already satisfied: packaging in /home/yom/Developpement/python_venv/python3.7/lib/python3.7/site-packages (from mlflow==1.24.0->ikomia) (21.3)\n",
      "Requirement already satisfied: Flask in /home/yom/Developpement/python_venv/python3.7/lib/python3.7/site-packages (from mlflow==1.24.0->ikomia) (2.2.2)\n",
      "Requirement already satisfied: protobuf>=3.7.0 in /home/yom/Developpement/python_venv/python3.7/lib/python3.7/site-packages (from mlflow==1.24.0->ikomia) (3.19.5)\n",
      "Requirement already satisfied: sqlparse>=0.3.1 in /home/yom/Developpement/python_venv/python3.7/lib/python3.7/site-packages (from mlflow==1.24.0->ikomia) (0.4.3)\n",
      "Requirement already satisfied: gunicorn in /home/yom/Developpement/python_venv/python3.7/lib/python3.7/site-packages (from mlflow==1.24.0->ikomia) (20.1.0)\n",
      "Requirement already satisfied: prometheus-flask-exporter in /home/yom/Developpement/python_venv/python3.7/lib/python3.7/site-packages (from mlflow==1.24.0->ikomia) (0.20.3)\n",
      "Requirement already satisfied: entrypoints in /home/yom/Developpement/python_venv/python3.7/lib/python3.7/site-packages (from mlflow==1.24.0->ikomia) (0.4)\n",
      "Requirement already satisfied: alembic in /home/yom/Developpement/python_venv/python3.7/lib/python3.7/site-packages (from mlflow==1.24.0->ikomia) (1.8.1)\n",
      "Requirement already satisfied: docker>=4.0.0 in /home/yom/Developpement/python_venv/python3.7/lib/python3.7/site-packages (from mlflow==1.24.0->ikomia) (6.0.0)\n",
      "Requirement already satisfied: pandas in /home/yom/Developpement/python_venv/python3.7/lib/python3.7/site-packages (from mlflow==1.24.0->ikomia) (1.3.5)\n",
      "Requirement already satisfied: oauthlib>=3.1.0 in /home/yom/Developpement/python_venv/python3.7/lib/python3.7/site-packages (from databricks-cli>=0.8.7->mlflow==1.24.0->ikomia) (3.2.1)\n",
      "Requirement already satisfied: pyjwt>=1.7.0 in /home/yom/Developpement/python_venv/python3.7/lib/python3.7/site-packages (from databricks-cli>=0.8.7->mlflow==1.24.0->ikomia) (2.5.0)\n",
      "Requirement already satisfied: tabulate>=0.7.7 in /home/yom/Developpement/python_venv/python3.7/lib/python3.7/site-packages (from databricks-cli>=0.8.7->mlflow==1.24.0->ikomia) (0.8.10)\n",
      "Requirement already satisfied: six>=1.10.0 in /home/yom/Developpement/python_venv/python3.7/lib/python3.7/site-packages (from databricks-cli>=0.8.7->mlflow==1.24.0->ikomia) (1.16.0)\n",
      "Requirement already satisfied: urllib3>=1.26.0 in /home/yom/Developpement/python_venv/python3.7/lib/python3.7/site-packages (from docker>=4.0.0->mlflow==1.24.0->ikomia) (1.26.12)\n",
      "Requirement already satisfied: websocket-client>=0.32.0 in /home/yom/Developpement/python_venv/python3.7/lib/python3.7/site-packages (from docker>=4.0.0->mlflow==1.24.0->ikomia) (1.4.1)\n",
      "Requirement already satisfied: gitdb<5,>=4.0.1 in /home/yom/Developpement/python_venv/python3.7/lib/python3.7/site-packages (from gitpython>=2.1.0->mlflow==1.24.0->ikomia) (4.0.9)\n",
      "Requirement already satisfied: typing-extensions>=3.7.4.3 in /home/yom/Developpement/python_venv/python3.7/lib/python3.7/site-packages (from gitpython>=2.1.0->mlflow==1.24.0->ikomia) (4.3.0)\n",
      "Requirement already satisfied: smmap<6,>=3.0.1 in /home/yom/Developpement/python_venv/python3.7/lib/python3.7/site-packages (from gitdb<5,>=4.0.1->gitpython>=2.1.0->mlflow==1.24.0->ikomia) (5.0.0)\n",
      "Requirement already satisfied: zipp>=0.5 in /home/yom/Developpement/python_venv/python3.7/lib/python3.7/site-packages (from importlib-metadata!=4.7.0,>=3.7.0->mlflow==1.24.0->ikomia) (3.8.1)\n",
      "Requirement already satisfied: certifi>=2017.4.17 in /home/yom/Developpement/python_venv/python3.7/lib/python3.7/site-packages (from requests->ikomia) (2022.9.24)\n",
      "Requirement already satisfied: idna<4,>=2.5 in /home/yom/Developpement/python_venv/python3.7/lib/python3.7/site-packages (from requests->ikomia) (3.4)\n",
      "Requirement already satisfied: charset-normalizer<3,>=2 in /home/yom/Developpement/python_venv/python3.7/lib/python3.7/site-packages (from requests->ikomia) (2.1.1)\n",
      "Requirement already satisfied: wheel>=0.26 in /home/yom/Developpement/python_venv/python3.7/lib/python3.7/site-packages (from tensorboard>=2.5.0->ikomia) (0.36.2)\n",
      "Requirement already satisfied: werkzeug>=1.0.1 in /home/yom/Developpement/python_venv/python3.7/lib/python3.7/site-packages (from tensorboard>=2.5.0->ikomia) (2.2.2)\n",
      "Requirement already satisfied: grpcio>=1.24.3 in /home/yom/Developpement/python_venv/python3.7/lib/python3.7/site-packages (from tensorboard>=2.5.0->ikomia) (1.49.1)\n",
      "Requirement already satisfied: google-auth<3,>=1.6.3 in /home/yom/Developpement/python_venv/python3.7/lib/python3.7/site-packages (from tensorboard>=2.5.0->ikomia) (2.12.0)\n",
      "Requirement already satisfied: google-auth-oauthlib<0.5,>=0.4.1 in /home/yom/Developpement/python_venv/python3.7/lib/python3.7/site-packages (from tensorboard>=2.5.0->ikomia) (0.4.6)\n",
      "Requirement already satisfied: tensorboard-data-server<0.7.0,>=0.6.0 in /home/yom/Developpement/python_venv/python3.7/lib/python3.7/site-packages (from tensorboard>=2.5.0->ikomia) (0.6.1)\n",
      "Requirement already satisfied: tensorboard-plugin-wit>=1.6.0 in /home/yom/Developpement/python_venv/python3.7/lib/python3.7/site-packages (from tensorboard>=2.5.0->ikomia) (1.8.1)\n",
      "Requirement already satisfied: absl-py>=0.4 in /home/yom/Developpement/python_venv/python3.7/lib/python3.7/site-packages (from tensorboard>=2.5.0->ikomia) (1.2.0)\n",
      "Requirement already satisfied: markdown>=2.6.8 in /home/yom/Developpement/python_venv/python3.7/lib/python3.7/site-packages (from tensorboard>=2.5.0->ikomia) (3.4.1)\n",
      "Requirement already satisfied: pyasn1-modules>=0.2.1 in /home/yom/Developpement/python_venv/python3.7/lib/python3.7/site-packages (from google-auth<3,>=1.6.3->tensorboard>=2.5.0->ikomia) (0.2.8)\n",
      "Requirement already satisfied: rsa<5,>=3.1.4 in /home/yom/Developpement/python_venv/python3.7/lib/python3.7/site-packages (from google-auth<3,>=1.6.3->tensorboard>=2.5.0->ikomia) (4.9)\n",
      "Requirement already satisfied: cachetools<6.0,>=2.0.0 in /home/yom/Developpement/python_venv/python3.7/lib/python3.7/site-packages (from google-auth<3,>=1.6.3->tensorboard>=2.5.0->ikomia) (5.2.0)\n",
      "Requirement already satisfied: requests-oauthlib>=0.7.0 in /home/yom/Developpement/python_venv/python3.7/lib/python3.7/site-packages (from google-auth-oauthlib<0.5,>=0.4.1->tensorboard>=2.5.0->ikomia) (1.3.1)\n",
      "Requirement already satisfied: pyasn1<0.5.0,>=0.4.6 in /home/yom/Developpement/python_venv/python3.7/lib/python3.7/site-packages (from pyasn1-modules>=0.2.1->google-auth<3,>=1.6.3->tensorboard>=2.5.0->ikomia) (0.4.8)\n",
      "Requirement already satisfied: MarkupSafe>=2.1.1 in /home/yom/Developpement/python_venv/python3.7/lib/python3.7/site-packages (from werkzeug>=1.0.1->tensorboard>=2.5.0->ikomia) (2.1.1)\n",
      "Requirement already satisfied: importlib-resources in /home/yom/Developpement/python_venv/python3.7/lib/python3.7/site-packages (from alembic->mlflow==1.24.0->ikomia) (5.9.0)\n",
      "Requirement already satisfied: Mako in /home/yom/Developpement/python_venv/python3.7/lib/python3.7/site-packages (from alembic->mlflow==1.24.0->ikomia) (1.2.3)\n",
      "Requirement already satisfied: greenlet!=0.4.17 in /home/yom/Developpement/python_venv/python3.7/lib/python3.7/site-packages (from sqlalchemy->mlflow==1.24.0->ikomia) (1.1.3)\n",
      "Requirement already satisfied: itsdangerous>=2.0 in /home/yom/Developpement/python_venv/python3.7/lib/python3.7/site-packages (from Flask->mlflow==1.24.0->ikomia) (2.1.2)\n",
      "Requirement already satisfied: Jinja2>=3.0 in /home/yom/Developpement/python_venv/python3.7/lib/python3.7/site-packages (from Flask->mlflow==1.24.0->ikomia) (3.1.2)\n",
      "Requirement already satisfied: prometheus-client in /home/yom/Developpement/python_venv/python3.7/lib/python3.7/site-packages (from prometheus-flask-exporter->mlflow==1.24.0->ikomia) (0.14.1)\n",
      "\u001b[33mWARNING: You are using pip version 21.1.2; however, version 22.3 is available.\n",
      "You should consider upgrading via the '/home/yom/Developpement/python_venv/python3.7/bin/python -m pip install --upgrade pip' command.\u001b[0m\n"
     ]
    }
   ],
   "source": [
    "!pip install ikomia"
   ]
  },
  {
   "cell_type": "markdown",
   "metadata": {
    "id": "ktbA-VPOATgP"
   },
   "source": [
    "\n",
    "\n",
    "---\n",
    "\n",
    "\n",
    "**-Google Colab ONLY- Restart runtime**\n",
    "\n",
    "Click on the \"RESTART RUNTIME\" button at the end the previous window.\n",
    "\n",
    "\n",
    "\n"
   ]
  },
  {
   "cell_type": "markdown",
   "metadata": {
    "id": "2hS1T6ky1Wcw"
   },
   "source": [
    "---"
   ]
  },
  {
   "cell_type": "markdown",
   "metadata": {
    "id": "JJsRFzl9Au1c"
   },
   "source": [
    "Use your credentials to connect with Ikomia HUB and access more than 60 algorithms and 800+ models.\n",
    "\n",
    "Your credentials are the same as you use to login to our website, if you don't have any credentials, follow this link\n",
    "\n",
    "https://members.ikomia.com/accounts/signup/"
   ]
  },
  {
   "cell_type": "code",
   "execution_count": 3,
   "metadata": {
    "id": "62DlRNwzYCam"
   },
   "outputs": [
    {
     "name": "stdout",
     "output_type": "stream",
     "text": [
      "Logging started at 2022-10-25 12:26:32\n",
      "Ikomia auto-completion updated for Ikomia HUB algorithms.\n"
     ]
    }
   ],
   "source": [
    "import ikomia\n",
    "import os\n",
    "\n",
    "# Easy and unsafe authentication | Only for personal use\n",
    "os.environ['IKOMIA_USER'] = \"your_login\"\n",
    "os.environ['IKOMIA_PWD'] = \"your_password\"\n",
    "\n",
    "ikomia.authenticate()"
   ]
  },
  {
   "cell_type": "markdown",
   "metadata": {
    "id": "ZgGi5tjosC8g"
   },
   "source": [
    "## How to train YOLO v7 on a custom YOLO dataset"
   ]
  },
  {
   "cell_type": "markdown",
   "metadata": {
    "id": "pwJit3k190PN"
   },
   "source": [
    "Download your dataset from your preferred tool. In this example, we use a dataset from **Roboflow** which is a great annotation platform used by many developers and companies. The dataset is exported in YOLO format."
   ]
  },
  {
   "cell_type": "code",
   "execution_count": 4,
   "metadata": {
    "id": "RpGiTWgeRnIq"
   },
   "outputs": [
    {
     "name": "stdout",
     "output_type": "stream",
     "text": [
      "  % Total    % Received % Xferd  Average Speed   Time    Time     Time  Current\n",
      "                                 Dload  Upload   Total   Spent    Left  Speed\n",
      "100   887  100   887    0     0    456      0  0:00:01  0:00:01 --:--:--   455\n",
      "100 3603k  100 3603k    0     0  1444k      0  0:00:02  0:00:02 --:--:-- 10.5M\n",
      "Archive:  roboflow.zip\n",
      " extracting: README.dataset.txt      \n",
      " extracting: README.roboflow.txt     \n",
      "   creating: test/\n",
      " extracting: test/1-fps-2_00001_jpeg_jpg.rf.e95412d81fb5fe6dd2b3fb120b41ba1a.jpg  \n",
      " extracting: test/1-fps-2_00001_jpeg_jpg.rf.e95412d81fb5fe6dd2b3fb120b41ba1a.txt  \n",
      " extracting: test/1-fps-2_00014_jpeg_jpg.rf.a2541cb929e1b22719488740b5a0ad1f.jpg  \n",
      " extracting: test/1-fps-2_00014_jpeg_jpg.rf.a2541cb929e1b22719488740b5a0ad1f.txt  \n",
      " extracting: test/1-fps-2_00022_jpeg_jpg.rf.81c5748a3929ba5040542c0e6fe39057.jpg  \n",
      " extracting: test/1-fps-2_00022_jpeg_jpg.rf.81c5748a3929ba5040542c0e6fe39057.txt  \n",
      " extracting: test/1-fps-2_00025_jpeg_jpg.rf.3573cdee6c723239c508947693536769.jpg  \n",
      " extracting: test/1-fps-2_00025_jpeg_jpg.rf.3573cdee6c723239c508947693536769.txt  \n",
      " extracting: test/1-fps-2_00032_jpeg_jpg.rf.b296b14a819c31e356d452a2a6cb3520.jpg  \n",
      " extracting: test/1-fps-2_00032_jpeg_jpg.rf.b296b14a819c31e356d452a2a6cb3520.txt  \n",
      " extracting: test/1-fps-2_00041_jpeg_jpg.rf.572e157a0c0a6c88890f2f82e15be2ce.jpg  \n",
      " extracting: test/1-fps-2_00041_jpeg_jpg.rf.572e157a0c0a6c88890f2f82e15be2ce.txt  \n",
      " extracting: test/1-fps-2_00055_jpeg_jpg.rf.a6a6e943001d8779349b2dec43f883c6.jpg  \n",
      " extracting: test/1-fps-2_00055_jpeg_jpg.rf.a6a6e943001d8779349b2dec43f883c6.txt  \n",
      " extracting: test/1-fps-2_00208_jpeg_jpg.rf.5796f9c013dba1ff4c1a04bd0964c877.jpg  \n",
      " extracting: test/1-fps-2_00208_jpeg_jpg.rf.5796f9c013dba1ff4c1a04bd0964c877.txt  \n",
      " extracting: test/1-fps-2_00213_jpeg_jpg.rf.c9a1329d35c00aae301c266f6afcd5c8.jpg  \n",
      " extracting: test/1-fps-2_00213_jpeg_jpg.rf.c9a1329d35c00aae301c266f6afcd5c8.txt  \n",
      " extracting: test/1-fps-2_00267_jpeg_jpg.rf.27ebb7ceca390bb0e42296e4d478cbde.jpg  \n",
      " extracting: test/1-fps-2_00267_jpeg_jpg.rf.27ebb7ceca390bb0e42296e4d478cbde.txt  \n",
      " extracting: test/1-fps-2_00269_jpeg_jpg.rf.aa4d5b3e1ed45fc97678a89ded219b79.jpg  \n",
      " extracting: test/1-fps-2_00269_jpeg_jpg.rf.aa4d5b3e1ed45fc97678a89ded219b79.txt  \n",
      " extracting: test/1-fps-2_00282_jpeg_jpg.rf.de50bafc1e3afc4ef832ff42b815ebd1.jpg  \n",
      " extracting: test/1-fps-2_00282_jpeg_jpg.rf.de50bafc1e3afc4ef832ff42b815ebd1.txt  \n",
      " extracting: test/1-fps-2_00339_jpeg_jpg.rf.6518ce896da436a18387bc1b22a117a7.jpg  \n",
      " extracting: test/1-fps-2_00339_jpeg_jpg.rf.6518ce896da436a18387bc1b22a117a7.txt  \n",
      " extracting: test/1-fps-2_00340_jpeg_jpg.rf.e650fc9e4b865922650f0f89ea20ded8.jpg  \n",
      " extracting: test/1-fps-2_00340_jpeg_jpg.rf.e650fc9e4b865922650f0f89ea20ded8.txt  \n",
      " extracting: test/1-fps-2_00365_jpeg_jpg.rf.ad55b313defae884f54a0749c88c58f3.jpg  \n",
      " extracting: test/1-fps-2_00365_jpeg_jpg.rf.ad55b313defae884f54a0749c88c58f3.txt  \n",
      " extracting: test/_darknet.labels    \n",
      " extracting: test/yt1s-com---Resume-Liverpool-01-Burnley-Premier-League-J18-fps-2_00053_jpeg_jpg.rf.ab6d98fa8187b9efe0244328cc0b0298.jpg  \n",
      " extracting: test/yt1s-com---Resume-Liverpool-01-Burnley-Premier-League-J18-fps-2_00053_jpeg_jpg.rf.ab6d98fa8187b9efe0244328cc0b0298.txt  \n",
      "   creating: train/\n",
      " extracting: train/1-fps-2_00002_jpeg_jpg.rf.d5c9bf8634267eba6fa74e7e823655dc.jpg  \n",
      " extracting: train/1-fps-2_00002_jpeg_jpg.rf.d5c9bf8634267eba6fa74e7e823655dc.txt  \n",
      " extracting: train/1-fps-2_00005_jpeg_jpg.rf.203fca9bd0751a50af6246e72d282e93.jpg  \n",
      " extracting: train/1-fps-2_00005_jpeg_jpg.rf.203fca9bd0751a50af6246e72d282e93.txt  \n",
      " extracting: train/1-fps-2_00006_jpeg_jpg.rf.39b7cd59d2ae200e88bbc3895921c3a1.jpg  \n",
      " extracting: train/1-fps-2_00006_jpeg_jpg.rf.39b7cd59d2ae200e88bbc3895921c3a1.txt  \n",
      " extracting: train/1-fps-2_00008_jpeg_jpg.rf.57cc5c06b2aab0a9b39f7d6407df6222.jpg  \n",
      " extracting: train/1-fps-2_00008_jpeg_jpg.rf.57cc5c06b2aab0a9b39f7d6407df6222.txt  \n",
      " extracting: train/1-fps-2_00009_jpeg_jpg.rf.9c9d7285cb3e55c7905fbc6f905c92f2.jpg  \n",
      " extracting: train/1-fps-2_00009_jpeg_jpg.rf.9c9d7285cb3e55c7905fbc6f905c92f2.txt  \n",
      " extracting: train/1-fps-2_00010_jpeg_jpg.rf.992762889b8d1a801b72329ae273d043.jpg  \n",
      " extracting: train/1-fps-2_00010_jpeg_jpg.rf.992762889b8d1a801b72329ae273d043.txt  \n",
      " extracting: train/1-fps-2_00011_jpeg_jpg.rf.fc4863389c1b7d029d41924898014815.jpg  \n",
      " extracting: train/1-fps-2_00011_jpeg_jpg.rf.fc4863389c1b7d029d41924898014815.txt  \n",
      " extracting: train/1-fps-2_00012_jpeg_jpg.rf.5c8f6a707eda2d4e7f9536a2a8702ccb.jpg  \n",
      " extracting: train/1-fps-2_00012_jpeg_jpg.rf.5c8f6a707eda2d4e7f9536a2a8702ccb.txt  \n",
      " extracting: train/1-fps-2_00019_jpeg_jpg.rf.90f69853ad23d318b3e6f40136128ca2.jpg  \n",
      " extracting: train/1-fps-2_00019_jpeg_jpg.rf.90f69853ad23d318b3e6f40136128ca2.txt  \n",
      " extracting: train/1-fps-2_00021_jpeg_jpg.rf.a5b0e9005741308857d6ff1bc28db518.jpg  \n",
      " extracting: train/1-fps-2_00021_jpeg_jpg.rf.a5b0e9005741308857d6ff1bc28db518.txt  \n",
      " extracting: train/1-fps-2_00026_jpeg_jpg.rf.175b7594c82f7d6299891857526f63f1.jpg  \n",
      " extracting: train/1-fps-2_00026_jpeg_jpg.rf.175b7594c82f7d6299891857526f63f1.txt  \n",
      " extracting: train/1-fps-2_00027_jpeg_jpg.rf.7b0e21449359075e80736b9b9ce367b4.jpg  \n",
      " extracting: train/1-fps-2_00027_jpeg_jpg.rf.7b0e21449359075e80736b9b9ce367b4.txt  \n",
      " extracting: train/1-fps-2_00030_jpeg_jpg.rf.139cb9fe376e4b7b6367ac5ffd351093.jpg  \n",
      " extracting: train/1-fps-2_00030_jpeg_jpg.rf.139cb9fe376e4b7b6367ac5ffd351093.txt  \n",
      " extracting: train/1-fps-2_00031_jpeg_jpg.rf.02a1c3cb63583720f693f8b3cab0e453.jpg  \n",
      " extracting: train/1-fps-2_00031_jpeg_jpg.rf.02a1c3cb63583720f693f8b3cab0e453.txt  \n",
      " extracting: train/1-fps-2_00033_jpeg_jpg.rf.de7557528c67363197fd96bf850c2f21.jpg  \n",
      " extracting: train/1-fps-2_00033_jpeg_jpg.rf.de7557528c67363197fd96bf850c2f21.txt  \n",
      " extracting: train/1-fps-2_00034_jpeg_jpg.rf.62fda8504499f647ad38e911eaca280f.jpg  \n",
      " extracting: train/1-fps-2_00034_jpeg_jpg.rf.62fda8504499f647ad38e911eaca280f.txt  \n",
      " extracting: train/1-fps-2_00035_jpeg_jpg.rf.eb89cafe5d5dcb25e10ea7aaa05ae725.jpg  \n",
      " extracting: train/1-fps-2_00035_jpeg_jpg.rf.eb89cafe5d5dcb25e10ea7aaa05ae725.txt  \n",
      " extracting: train/1-fps-2_00036_jpeg_jpg.rf.aabcdbf3549cbae31cb8dd3bc898bccc.jpg  \n",
      " extracting: train/1-fps-2_00036_jpeg_jpg.rf.aabcdbf3549cbae31cb8dd3bc898bccc.txt  \n",
      " extracting: train/1-fps-2_00037_jpeg_jpg.rf.24eedbe4c26283a11f2fc77f641a8b65.jpg  \n",
      " extracting: train/1-fps-2_00037_jpeg_jpg.rf.24eedbe4c26283a11f2fc77f641a8b65.txt  \n",
      " extracting: train/1-fps-2_00038_jpeg_jpg.rf.e4767887b84ec3277f3e5dd4a31c6519.jpg  \n",
      " extracting: train/1-fps-2_00038_jpeg_jpg.rf.e4767887b84ec3277f3e5dd4a31c6519.txt  \n",
      " extracting: train/1-fps-2_00039_jpeg_jpg.rf.4635c8545ece8a4aca1d5eddeacc6f2a.jpg  \n",
      " extracting: train/1-fps-2_00039_jpeg_jpg.rf.4635c8545ece8a4aca1d5eddeacc6f2a.txt  \n",
      " extracting: train/1-fps-2_00040_jpeg_jpg.rf.2d5d6fccbdb5fc8ce6c7c6f7c6fe4c7e.jpg  \n",
      " extracting: train/1-fps-2_00040_jpeg_jpg.rf.2d5d6fccbdb5fc8ce6c7c6f7c6fe4c7e.txt  \n",
      " extracting: train/1-fps-2_00042_jpeg_jpg.rf.18373dff787d69c1c15ec9bb97550475.jpg  \n",
      " extracting: train/1-fps-2_00042_jpeg_jpg.rf.18373dff787d69c1c15ec9bb97550475.txt  \n",
      " extracting: train/1-fps-2_00043_jpeg_jpg.rf.0f62b2587058bc471de5e4896840398d.jpg  \n",
      " extracting: train/1-fps-2_00043_jpeg_jpg.rf.0f62b2587058bc471de5e4896840398d.txt  \n",
      " extracting: train/1-fps-2_00044_jpeg_jpg.rf.8f5ef2dfdd794b7e4123cc19acc15387.jpg  \n",
      " extracting: train/1-fps-2_00044_jpeg_jpg.rf.8f5ef2dfdd794b7e4123cc19acc15387.txt  \n",
      " extracting: train/1-fps-2_00045_jpeg_jpg.rf.bf71b7012ac75a2716ecc3e0a2bddf3e.jpg  \n",
      " extracting: train/1-fps-2_00045_jpeg_jpg.rf.bf71b7012ac75a2716ecc3e0a2bddf3e.txt  \n",
      " extracting: train/1-fps-2_00047_jpeg_jpg.rf.1d5f4079db6a1f042c070a8ea659650e.jpg  \n",
      " extracting: train/1-fps-2_00047_jpeg_jpg.rf.1d5f4079db6a1f042c070a8ea659650e.txt  \n",
      " extracting: train/1-fps-2_00048_jpeg_jpg.rf.4740415335252d8cd3c9e12e793de2e6.jpg  \n",
      " extracting: train/1-fps-2_00048_jpeg_jpg.rf.4740415335252d8cd3c9e12e793de2e6.txt  \n",
      " extracting: train/1-fps-2_00049_jpeg_jpg.rf.93179ab6647b75a7fa1a5e5da1500db0.jpg  \n",
      " extracting: train/1-fps-2_00049_jpeg_jpg.rf.93179ab6647b75a7fa1a5e5da1500db0.txt  \n",
      " extracting: train/1-fps-2_00050_jpeg_jpg.rf.5d43917466560073273587a12933df62.jpg  \n",
      " extracting: train/1-fps-2_00050_jpeg_jpg.rf.5d43917466560073273587a12933df62.txt  \n",
      " extracting: train/1-fps-2_00051_jpeg_jpg.rf.337cf20b00fd361ad00dd7f8baa4ec3c.jpg  \n",
      " extracting: train/1-fps-2_00051_jpeg_jpg.rf.337cf20b00fd361ad00dd7f8baa4ec3c.txt  \n",
      " extracting: train/1-fps-2_00052_jpeg_jpg.rf.758074e9cc9e4245687235c77e9e4f7f.jpg  \n",
      " extracting: train/1-fps-2_00052_jpeg_jpg.rf.758074e9cc9e4245687235c77e9e4f7f.txt  \n",
      " extracting: train/1-fps-2_00054_jpeg_jpg.rf.cbf2c4f4ffcbca3bcc7edcb19d4c17b8.jpg  \n",
      " extracting: train/1-fps-2_00054_jpeg_jpg.rf.cbf2c4f4ffcbca3bcc7edcb19d4c17b8.txt  \n",
      " extracting: train/1-fps-2_00124_jpeg_jpg.rf.55c09a9429df4e9595f09d63841d5fc2.jpg  \n",
      " extracting: train/1-fps-2_00124_jpeg_jpg.rf.55c09a9429df4e9595f09d63841d5fc2.txt  \n",
      " extracting: train/1-fps-2_00125_jpeg_jpg.rf.7202815f30d8aa0b0aaeee616c8a3b8f.jpg  \n",
      " extracting: train/1-fps-2_00125_jpeg_jpg.rf.7202815f30d8aa0b0aaeee616c8a3b8f.txt  \n",
      " extracting: train/1-fps-2_00176_jpeg_jpg.rf.ccada790ddfaed6f9e6ed801f9058e9c.jpg  \n",
      " extracting: train/1-fps-2_00176_jpeg_jpg.rf.ccada790ddfaed6f9e6ed801f9058e9c.txt  \n",
      " extracting: train/1-fps-2_00181_jpeg_jpg.rf.824c8ce8adddb73386b6aca3f43353ee.jpg  \n",
      " extracting: train/1-fps-2_00181_jpeg_jpg.rf.824c8ce8adddb73386b6aca3f43353ee.txt  \n",
      " extracting: train/1-fps-2_00183_jpeg_jpg.rf.9f86b3ab58456176839a015edaafbc31.jpg  \n",
      " extracting: train/1-fps-2_00183_jpeg_jpg.rf.9f86b3ab58456176839a015edaafbc31.txt  \n",
      " extracting: train/1-fps-2_00184_jpeg_jpg.rf.c914cb1add3202c49a87724eab903aa7.jpg  \n",
      " extracting: train/1-fps-2_00184_jpeg_jpg.rf.c914cb1add3202c49a87724eab903aa7.txt  \n",
      " extracting: train/1-fps-2_00185_jpeg_jpg.rf.90107a0afb2bcae1e13802b2fd269b73.jpg  \n",
      " extracting: train/1-fps-2_00185_jpeg_jpg.rf.90107a0afb2bcae1e13802b2fd269b73.txt  \n",
      " extracting: train/1-fps-2_00187_jpeg_jpg.rf.9268a6f9c88ef02e81c055d795558d47.jpg  \n",
      " extracting: train/1-fps-2_00187_jpeg_jpg.rf.9268a6f9c88ef02e81c055d795558d47.txt  \n",
      " extracting: train/1-fps-2_00190_jpeg_jpg.rf.31a0a168a4e712d52b510537297c3f76.jpg  \n",
      " extracting: train/1-fps-2_00190_jpeg_jpg.rf.31a0a168a4e712d52b510537297c3f76.txt  \n",
      " extracting: train/1-fps-2_00191_jpeg_jpg.rf.07329704fcaf99385c00462f1815e001.jpg  \n",
      " extracting: train/1-fps-2_00191_jpeg_jpg.rf.07329704fcaf99385c00462f1815e001.txt  \n",
      " extracting: train/1-fps-2_00192_jpeg_jpg.rf.56cd575c915999e6dd93339bd6996a6f.jpg  \n",
      " extracting: train/1-fps-2_00192_jpeg_jpg.rf.56cd575c915999e6dd93339bd6996a6f.txt  \n",
      " extracting: train/1-fps-2_00197_jpeg_jpg.rf.a6850812a147c8df4b7f781108333cf3.jpg  \n",
      " extracting: train/1-fps-2_00197_jpeg_jpg.rf.a6850812a147c8df4b7f781108333cf3.txt  \n",
      " extracting: train/1-fps-2_00198_jpeg_jpg.rf.97e6169c2afb2222549cc044947b5ade.jpg  \n",
      " extracting: train/1-fps-2_00198_jpeg_jpg.rf.97e6169c2afb2222549cc044947b5ade.txt  \n",
      " extracting: train/1-fps-2_00199_jpeg_jpg.rf.9d8c0ba2507e5df6d5a017785dcc1ea0.jpg  \n",
      " extracting: train/1-fps-2_00199_jpeg_jpg.rf.9d8c0ba2507e5df6d5a017785dcc1ea0.txt  \n",
      " extracting: train/1-fps-2_00200_jpeg_jpg.rf.3404c221c46eee4a001ffebce3d4c58f.jpg  \n",
      " extracting: train/1-fps-2_00200_jpeg_jpg.rf.3404c221c46eee4a001ffebce3d4c58f.txt  \n",
      " extracting: train/1-fps-2_00210_jpeg_jpg.rf.06b343455a0200d0868ac732edec7131.jpg  \n",
      " extracting: train/1-fps-2_00210_jpeg_jpg.rf.06b343455a0200d0868ac732edec7131.txt  \n",
      " extracting: train/1-fps-2_00212_jpeg_jpg.rf.eb4ff91e5285b7873990323e225a0272.jpg  \n",
      " extracting: train/1-fps-2_00212_jpeg_jpg.rf.eb4ff91e5285b7873990323e225a0272.txt  \n",
      " extracting: train/1-fps-2_00272_jpeg_jpg.rf.04581a7622fb690547a557b2dc8fe534.jpg  \n",
      " extracting: train/1-fps-2_00272_jpeg_jpg.rf.04581a7622fb690547a557b2dc8fe534.txt  \n",
      " extracting: train/1-fps-2_00273_jpeg_jpg.rf.99250b44bda188fbb4c6d02eabe5ab98.jpg  \n",
      " extracting: train/1-fps-2_00273_jpeg_jpg.rf.99250b44bda188fbb4c6d02eabe5ab98.txt  \n",
      " extracting: train/1-fps-2_00274_jpeg_jpg.rf.c25351017ed5acb9814df67ce5d4b15e.jpg  \n",
      " extracting: train/1-fps-2_00274_jpeg_jpg.rf.c25351017ed5acb9814df67ce5d4b15e.txt  \n",
      " extracting: train/1-fps-2_00275_jpeg_jpg.rf.da55edeb04e79ee0f303604c5b6d4854.jpg  \n",
      " extracting: train/1-fps-2_00275_jpeg_jpg.rf.da55edeb04e79ee0f303604c5b6d4854.txt  \n",
      " extracting: train/1-fps-2_00276_jpeg_jpg.rf.8e5a4579d52a2aa33941403e161e29ba.jpg  \n",
      " extracting: train/1-fps-2_00276_jpeg_jpg.rf.8e5a4579d52a2aa33941403e161e29ba.txt  \n",
      " extracting: train/1-fps-2_00278_jpeg_jpg.rf.eec6bc98d2c00fe7c957680def17dbe9.jpg  \n",
      " extracting: train/1-fps-2_00278_jpeg_jpg.rf.eec6bc98d2c00fe7c957680def17dbe9.txt  \n",
      " extracting: train/1-fps-2_00279_jpeg_jpg.rf.462ade11badff05006b69cac93bb38a4.jpg  \n",
      " extracting: train/1-fps-2_00279_jpeg_jpg.rf.462ade11badff05006b69cac93bb38a4.txt  \n",
      " extracting: train/1-fps-2_00281_jpeg_jpg.rf.0b93b4a5587517e342a2ca90f1e17194.jpg  \n",
      " extracting: train/1-fps-2_00281_jpeg_jpg.rf.0b93b4a5587517e342a2ca90f1e17194.txt  \n",
      " extracting: train/1-fps-2_00283_jpeg_jpg.rf.88f065275312f4f0ea49561b53b5e95f.jpg  \n",
      " extracting: train/1-fps-2_00283_jpeg_jpg.rf.88f065275312f4f0ea49561b53b5e95f.txt  \n",
      " extracting: train/1-fps-2_00308_jpeg_jpg.rf.04ddb5d3b18ea17c485c2960564c5230.jpg  \n",
      " extracting: train/1-fps-2_00308_jpeg_jpg.rf.04ddb5d3b18ea17c485c2960564c5230.txt  \n",
      " extracting: train/1-fps-2_00326_jpeg_jpg.rf.f7ef782729777afea3b9da40f0894485.jpg  \n",
      " extracting: train/1-fps-2_00326_jpeg_jpg.rf.f7ef782729777afea3b9da40f0894485.txt  \n",
      " extracting: train/1-fps-2_00351_jpeg_jpg.rf.6c2718f3b3dab73e43401a7da876d008.jpg  \n",
      " extracting: train/1-fps-2_00351_jpeg_jpg.rf.6c2718f3b3dab73e43401a7da876d008.txt  \n",
      " extracting: train/1-fps-2_00354_jpeg_jpg.rf.53fa2c5498b77833ed2e385943917f14.jpg  \n",
      " extracting: train/1-fps-2_00354_jpeg_jpg.rf.53fa2c5498b77833ed2e385943917f14.txt  \n",
      " extracting: train/1-fps-2_00355_jpeg_jpg.rf.2f5373cc9ab77d3cf56190129361dff2.jpg  \n",
      " extracting: train/1-fps-2_00355_jpeg_jpg.rf.2f5373cc9ab77d3cf56190129361dff2.txt  \n",
      " extracting: train/1-fps-2_00356_jpeg_jpg.rf.8908ea295f2ab893b11e6cc1935864f4.jpg  \n",
      " extracting: train/1-fps-2_00356_jpeg_jpg.rf.8908ea295f2ab893b11e6cc1935864f4.txt  \n",
      " extracting: train/1-fps-2_00361_jpeg_jpg.rf.801a2a0c0def4ef45f224e9a6661f42e.jpg  \n",
      " extracting: train/1-fps-2_00361_jpeg_jpg.rf.801a2a0c0def4ef45f224e9a6661f42e.txt  \n",
      " extracting: train/1-fps-2_00362_jpeg_jpg.rf.e6676cbbf54c635cf02788970d4d8fc6.jpg  \n",
      " extracting: train/1-fps-2_00362_jpeg_jpg.rf.e6676cbbf54c635cf02788970d4d8fc6.txt  \n",
      " extracting: train/1-fps-2_00363_jpeg_jpg.rf.d63ad2f9090e944c3c09963791de54de.jpg  \n",
      " extracting: train/1-fps-2_00363_jpeg_jpg.rf.d63ad2f9090e944c3c09963791de54de.txt  \n",
      " extracting: train/1-fps-2_00364_jpeg_jpg.rf.1bc787dba888dc08545893520c7a6bed.jpg  \n",
      " extracting: train/1-fps-2_00364_jpeg_jpg.rf.1bc787dba888dc08545893520c7a6bed.txt  \n",
      " extracting: train/1-fps-2_00703_jpeg_jpg.rf.6dc169b0ac69d09f76e59978b7eb22e1.jpg  \n",
      " extracting: train/1-fps-2_00703_jpeg_jpg.rf.6dc169b0ac69d09f76e59978b7eb22e1.txt  \n",
      " extracting: train/1-fps-2_00704_jpeg_jpg.rf.b6ac30ae0a93bae02abfe975bf7919ae.jpg  \n",
      " extracting: train/1-fps-2_00704_jpeg_jpg.rf.b6ac30ae0a93bae02abfe975bf7919ae.txt  \n",
      " extracting: train/1-fps-2_00705_jpeg_jpg.rf.155d59f07d0988c30c3f1141bac48985.jpg  \n",
      " extracting: train/1-fps-2_00705_jpeg_jpg.rf.155d59f07d0988c30c3f1141bac48985.txt  \n",
      " extracting: train/1-fps-2_00708_jpeg_jpg.rf.6798459ffc32ec9131643713cbf04b38.jpg  \n",
      " extracting: train/1-fps-2_00708_jpeg_jpg.rf.6798459ffc32ec9131643713cbf04b38.txt  \n",
      " extracting: train/1-fps-2_00709_jpeg_jpg.rf.31aaf2da4199a4d0fa29615626f1ab1b.jpg  \n",
      " extracting: train/1-fps-2_00709_jpeg_jpg.rf.31aaf2da4199a4d0fa29615626f1ab1b.txt  \n",
      " extracting: train/1-fps-2_00716_jpeg_jpg.rf.ac6c5f167ad396577501f06f961a633d.jpg  \n",
      " extracting: train/1-fps-2_00716_jpeg_jpg.rf.ac6c5f167ad396577501f06f961a633d.txt  \n",
      " extracting: train/1-fps-2_00718_jpeg_jpg.rf.6c4e0cde1abaa69001be6a07e7313baf.jpg  \n",
      " extracting: train/1-fps-2_00718_jpeg_jpg.rf.6c4e0cde1abaa69001be6a07e7313baf.txt  \n",
      " extracting: train/1-fps-2_00719_jpeg_jpg.rf.609684f8bda94f6d85c7eae33e3aace5.jpg  \n",
      " extracting: train/1-fps-2_00719_jpeg_jpg.rf.609684f8bda94f6d85c7eae33e3aace5.txt  \n",
      " extracting: train/1-fps-2_00722_jpeg_jpg.rf.2dc32e9969f4c992f1c37940a5ab4633.jpg  \n",
      " extracting: train/1-fps-2_00722_jpeg_jpg.rf.2dc32e9969f4c992f1c37940a5ab4633.txt  \n",
      " extracting: train/_darknet.labels   \n",
      " extracting: train/yt1s-com---Resume-Liverpool-01-Burnley-Premier-League-J18-fps-2_00050_jpeg_jpg.rf.af5436e83819b6ecaa1f7c8538e287c4.jpg  \n",
      " extracting: train/yt1s-com---Resume-Liverpool-01-Burnley-Premier-League-J18-fps-2_00050_jpeg_jpg.rf.af5436e83819b6ecaa1f7c8538e287c4.txt  \n",
      " extracting: train/yt1s-com---Resume-Liverpool-01-Burnley-Premier-League-J18-fps-2_00051_jpeg_jpg.rf.986dc68ab7f67f8d70e9fde0e36eb4e7.jpg  \n",
      " extracting: train/yt1s-com---Resume-Liverpool-01-Burnley-Premier-League-J18-fps-2_00051_jpeg_jpg.rf.986dc68ab7f67f8d70e9fde0e36eb4e7.txt  \n",
      " extracting: train/yt1s-com---Resume-Liverpool-01-Burnley-Premier-League-J18-fps-2_00052_jpeg_jpg.rf.8d8d69db52333a5128bd27ea929e1db7.jpg  \n",
      " extracting: train/yt1s-com---Resume-Liverpool-01-Burnley-Premier-League-J18-fps-2_00052_jpeg_jpg.rf.8d8d69db52333a5128bd27ea929e1db7.txt  \n",
      " extracting: train/yt1s-com---Resume-Liverpool-01-Burnley-Premier-League-J18-fps-2_00055_jpeg_jpg.rf.8b66c4699efbcc05fc84a4cab5980794.jpg  \n",
      " extracting: train/yt1s-com---Resume-Liverpool-01-Burnley-Premier-League-J18-fps-2_00055_jpeg_jpg.rf.8b66c4699efbcc05fc84a4cab5980794.txt  \n",
      " extracting: train/yt1s-com---Resume-Liverpool-01-Burnley-Premier-League-J18-fps-2_00056_jpeg_jpg.rf.ade653c956e15c803ef2b685ca1b5fc0.jpg  \n",
      " extracting: train/yt1s-com---Resume-Liverpool-01-Burnley-Premier-League-J18-fps-2_00056_jpeg_jpg.rf.ade653c956e15c803ef2b685ca1b5fc0.txt  \n",
      " extracting: train/yt1s-com---Resume-Liverpool-01-Burnley-Premier-League-J18-fps-2_00058_jpeg_jpg.rf.89397ba8880e0311d6ea92df64308074.jpg  \n",
      " extracting: train/yt1s-com---Resume-Liverpool-01-Burnley-Premier-League-J18-fps-2_00058_jpeg_jpg.rf.89397ba8880e0311d6ea92df64308074.txt  \n",
      " extracting: train/yt1s-com---Resume-Liverpool-01-Burnley-Premier-League-J18-fps-2_00059_jpeg_jpg.rf.afd36c12e2000e996ffe8068e49d2a50.jpg  \n",
      " extracting: train/yt1s-com---Resume-Liverpool-01-Burnley-Premier-League-J18-fps-2_00059_jpeg_jpg.rf.afd36c12e2000e996ffe8068e49d2a50.txt  \n",
      " extracting: train/yt1s-com---Resume-Liverpool-01-Burnley-Premier-League-J18-fps-2_00060_jpeg_jpg.rf.267ec869aa86c3c41c0977132852f040.jpg  \n",
      " extracting: train/yt1s-com---Resume-Liverpool-01-Burnley-Premier-League-J18-fps-2_00060_jpeg_jpg.rf.267ec869aa86c3c41c0977132852f040.txt  \n",
      " extracting: train/yt1s-com---Resume-Liverpool-01-Burnley-Premier-League-J18-fps-2_00061_jpeg_jpg.rf.cf7a7310defe79efe92b4976228c4f38.jpg  \n",
      " extracting: train/yt1s-com---Resume-Liverpool-01-Burnley-Premier-League-J18-fps-2_00061_jpeg_jpg.rf.cf7a7310defe79efe92b4976228c4f38.txt  \n",
      " extracting: train/yt1s-com---Resume-Liverpool-01-Burnley-Premier-League-J18-fps-2_00064_jpeg_jpg.rf.6ed2cb037b025a13707b4972ff1bc84f.jpg  \n",
      " extracting: train/yt1s-com---Resume-Liverpool-01-Burnley-Premier-League-J18-fps-2_00064_jpeg_jpg.rf.6ed2cb037b025a13707b4972ff1bc84f.txt  \n",
      " extracting: train/yt1s-com---Resume-Liverpool-01-Burnley-Premier-League-J18-fps-2_00065_jpeg_jpg.rf.908eb1b5b07daee1010f520b021fe37a.jpg  \n",
      " extracting: train/yt1s-com---Resume-Liverpool-01-Burnley-Premier-League-J18-fps-2_00065_jpeg_jpg.rf.908eb1b5b07daee1010f520b021fe37a.txt  \n",
      " extracting: train/yt1s-com---Resume-Liverpool-14-Manchester-City-Premier-League-J23-fps-2_00004_jpeg_jpg.rf.b964fbba28dbffb04e0aa45174d82fb7.jpg  \n",
      " extracting: train/yt1s-com---Resume-Liverpool-14-Manchester-City-Premier-League-J23-fps-2_00004_jpeg_jpg.rf.b964fbba28dbffb04e0aa45174d82fb7.txt  \n",
      " extracting: train/yt1s-com---Resume-Liverpool-14-Manchester-City-Premier-League-J23-fps-2_00006_jpeg_jpg.rf.9ea2ce8adbbb87c214a98b3b950c95d3.jpg  \n",
      " extracting: train/yt1s-com---Resume-Liverpool-14-Manchester-City-Premier-League-J23-fps-2_00006_jpeg_jpg.rf.9ea2ce8adbbb87c214a98b3b950c95d3.txt  \n",
      " extracting: train/yt1s-com---Resume-Liverpool-14-Manchester-City-Premier-League-J23-fps-2_00008_jpeg_jpg.rf.5bc0b4e9c1497b4f622b6aa11b0a0d77.jpg  \n",
      " extracting: train/yt1s-com---Resume-Liverpool-14-Manchester-City-Premier-League-J23-fps-2_00008_jpeg_jpg.rf.5bc0b4e9c1497b4f622b6aa11b0a0d77.txt  \n",
      " extracting: train/yt1s-com---Resume-Liverpool-14-Manchester-City-Premier-League-J23-fps-2_00012_jpeg_jpg.rf.4c8e7a3684302149f6016e0217e6a71d.jpg  \n",
      " extracting: train/yt1s-com---Resume-Liverpool-14-Manchester-City-Premier-League-J23-fps-2_00012_jpeg_jpg.rf.4c8e7a3684302149f6016e0217e6a71d.txt  \n",
      " extracting: train/yt1s-com---Resume-Liverpool-14-Manchester-City-Premier-League-J23-fps-2_00013_jpeg_jpg.rf.9b4286da58939f2cb9b3f51a828a766b.jpg  \n",
      " extracting: train/yt1s-com---Resume-Liverpool-14-Manchester-City-Premier-League-J23-fps-2_00013_jpeg_jpg.rf.9b4286da58939f2cb9b3f51a828a766b.txt  \n",
      " extracting: train/yt1s-com---Resume-Liverpool-14-Manchester-City-Premier-League-J23-fps-2_00014_jpeg_jpg.rf.b1034dc362612dda3a77c4b1f08a5395.jpg  \n",
      " extracting: train/yt1s-com---Resume-Liverpool-14-Manchester-City-Premier-League-J23-fps-2_00014_jpeg_jpg.rf.b1034dc362612dda3a77c4b1f08a5395.txt  \n",
      " extracting: train/yt1s-com---Resume-Liverpool-14-Manchester-City-Premier-League-J23-fps-2_00015_jpeg_jpg.rf.7bf2a73d1a118ec0f0bacf3cc20f6b95.jpg  \n",
      " extracting: train/yt1s-com---Resume-Liverpool-14-Manchester-City-Premier-League-J23-fps-2_00015_jpeg_jpg.rf.7bf2a73d1a118ec0f0bacf3cc20f6b95.txt  \n",
      " extracting: train/yt1s-com---Resume-Liverpool-14-Manchester-City-Premier-League-J23-fps-2_00016_jpeg_jpg.rf.9492671b1c1e92cb13e0063371f04aed.jpg  \n",
      " extracting: train/yt1s-com---Resume-Liverpool-14-Manchester-City-Premier-League-J23-fps-2_00016_jpeg_jpg.rf.9492671b1c1e92cb13e0063371f04aed.txt  \n",
      " extracting: train/yt1s-com---Resume-Liverpool-14-Manchester-City-Premier-League-J23-fps-2_00017_jpeg_jpg.rf.14c042f72ea1c6869ccdefb0603fe2e4.jpg  \n",
      " extracting: train/yt1s-com---Resume-Liverpool-14-Manchester-City-Premier-League-J23-fps-2_00017_jpeg_jpg.rf.14c042f72ea1c6869ccdefb0603fe2e4.txt  \n",
      " extracting: train/yt1s-com---Resume-Liverpool-14-Manchester-City-Premier-League-J23-fps-2_00018_jpeg_jpg.rf.2cde7dff2a3e167cbc2f77191ab679d8.jpg  \n",
      " extracting: train/yt1s-com---Resume-Liverpool-14-Manchester-City-Premier-League-J23-fps-2_00018_jpeg_jpg.rf.2cde7dff2a3e167cbc2f77191ab679d8.txt  \n",
      " extracting: train/yt1s-com---Resume-Liverpool-14-Manchester-City-Premier-League-J23-fps-2_00029_jpeg_jpg.rf.80b642a48a41c064f1fd00dbc9d7b9fd.jpg  \n",
      " extracting: train/yt1s-com---Resume-Liverpool-14-Manchester-City-Premier-League-J23-fps-2_00029_jpeg_jpg.rf.80b642a48a41c064f1fd00dbc9d7b9fd.txt  \n",
      " extracting: train/yt1s-com---Resume-Liverpool-14-Manchester-City-Premier-League-J23-fps-2_00030_jpeg_jpg.rf.14c0d24ec1ae9c9377eecfbfbd0e6a1f.jpg  \n",
      " extracting: train/yt1s-com---Resume-Liverpool-14-Manchester-City-Premier-League-J23-fps-2_00030_jpeg_jpg.rf.14c0d24ec1ae9c9377eecfbfbd0e6a1f.txt  \n",
      " extracting: train/yt1s-com---Resume-Tottenham-20-West-Bromwich-Premier-League-J23_720p-fps-2_00002_jpeg_jpg.rf.f10784c57d18c8f61f23fdee03ea528f.jpg  \n",
      " extracting: train/yt1s-com---Resume-Tottenham-20-West-Bromwich-Premier-League-J23_720p-fps-2_00002_jpeg_jpg.rf.f10784c57d18c8f61f23fdee03ea528f.txt  \n",
      " extracting: train/yt1s-com---Resume-Tottenham-20-West-Bromwich-Premier-League-J23_720p-fps-2_00005_jpeg_jpg.rf.3d99f2b20db6ad76aff2c778684ac49c.jpg  \n",
      " extracting: train/yt1s-com---Resume-Tottenham-20-West-Bromwich-Premier-League-J23_720p-fps-2_00005_jpeg_jpg.rf.3d99f2b20db6ad76aff2c778684ac49c.txt  \n",
      " extracting: train/yt1s-com---Resume-Tottenham-20-West-Bromwich-Premier-League-J23_720p-fps-2_00006_jpeg_jpg.rf.710f6eb95ab3dd9a803b870ff3417fc4.jpg  \n",
      " extracting: train/yt1s-com---Resume-Tottenham-20-West-Bromwich-Premier-League-J23_720p-fps-2_00006_jpeg_jpg.rf.710f6eb95ab3dd9a803b870ff3417fc4.txt  \n",
      " extracting: train/yt1s-com---Resume-Tottenham-20-West-Bromwich-Premier-League-J23_720p-fps-2_00007_jpeg_jpg.rf.5ccfc060e8912a575b8ae822a66712e4.jpg  \n",
      " extracting: train/yt1s-com---Resume-Tottenham-20-West-Bromwich-Premier-League-J23_720p-fps-2_00007_jpeg_jpg.rf.5ccfc060e8912a575b8ae822a66712e4.txt  \n",
      " extracting: train/yt1s-com---Resume-Tottenham-20-West-Bromwich-Premier-League-J23_720p-fps-2_00008_jpeg_jpg.rf.dbc7dff6d79dc70bca368766edeed39a.jpg  \n",
      " extracting: train/yt1s-com---Resume-Tottenham-20-West-Bromwich-Premier-League-J23_720p-fps-2_00008_jpeg_jpg.rf.dbc7dff6d79dc70bca368766edeed39a.txt  \n",
      " extracting: train/yt1s-com---Resume-Tottenham-20-West-Bromwich-Premier-League-J23_720p-fps-2_00011_jpeg_jpg.rf.c488cfb700abc1ec431f7f9704ef00df.jpg  \n",
      " extracting: train/yt1s-com---Resume-Tottenham-20-West-Bromwich-Premier-League-J23_720p-fps-2_00011_jpeg_jpg.rf.c488cfb700abc1ec431f7f9704ef00df.txt  \n",
      " extracting: train/yt1s-com---Resume-Tottenham-20-West-Bromwich-Premier-League-J23_720p-fps-2_00013_jpeg_jpg.rf.eec7dcda3473ec0b98516b90e368ec07.jpg  \n",
      " extracting: train/yt1s-com---Resume-Tottenham-20-West-Bromwich-Premier-League-J23_720p-fps-2_00013_jpeg_jpg.rf.eec7dcda3473ec0b98516b90e368ec07.txt  \n",
      " extracting: train/yt1s-com---Resume-Tottenham-20-West-Bromwich-Premier-League-J23_720p-fps-2_00014_jpeg_jpg.rf.b7d18cb1ac8dc066ca26db4deafba90a.jpg  \n",
      " extracting: train/yt1s-com---Resume-Tottenham-20-West-Bromwich-Premier-League-J23_720p-fps-2_00014_jpeg_jpg.rf.b7d18cb1ac8dc066ca26db4deafba90a.txt  \n",
      " extracting: train/yt1s-com---Resume-Tottenham-20-West-Bromwich-Premier-League-J23_720p-fps-2_00015_jpeg_jpg.rf.b13029bf8c50980b30088587a103fc5a.jpg  \n",
      " extracting: train/yt1s-com---Resume-Tottenham-20-West-Bromwich-Premier-League-J23_720p-fps-2_00015_jpeg_jpg.rf.b13029bf8c50980b30088587a103fc5a.txt  \n",
      " extracting: train/yt1s-com---Resume-Tottenham-20-West-Bromwich-Premier-League-J23_720p-fps-2_00022_jpeg_jpg.rf.0e018e67dcfa9ae84fa30d5c58ebaff2.jpg  \n",
      " extracting: train/yt1s-com---Resume-Tottenham-20-West-Bromwich-Premier-League-J23_720p-fps-2_00022_jpeg_jpg.rf.0e018e67dcfa9ae84fa30d5c58ebaff2.txt  \n",
      " extracting: train/yt1s-com---Resume-Tottenham-20-West-Bromwich-Premier-League-J23_720p-fps-2_00043_jpeg_jpg.rf.af7791dc174e68b70820d3cdfc5890d8.jpg  \n",
      " extracting: train/yt1s-com---Resume-Tottenham-20-West-Bromwich-Premier-League-J23_720p-fps-2_00043_jpeg_jpg.rf.af7791dc174e68b70820d3cdfc5890d8.txt  \n",
      " extracting: train/yt1s-com---Resume-Tottenham-20-West-Bromwich-Premier-League-J23_720p-fps-2_00044_jpeg_jpg.rf.9de8afe0132987f478d16d536e768a67.jpg  \n",
      " extracting: train/yt1s-com---Resume-Tottenham-20-West-Bromwich-Premier-League-J23_720p-fps-2_00044_jpeg_jpg.rf.9de8afe0132987f478d16d536e768a67.txt  \n",
      " extracting: train/yt1s-com---Resume-Tottenham-20-West-Bromwich-Premier-League-J23_720p-fps-2_00045_jpeg_jpg.rf.bc5bd9164d755e7aae36d773dfff76bd.jpg  \n",
      " extracting: train/yt1s-com---Resume-Tottenham-20-West-Bromwich-Premier-League-J23_720p-fps-2_00045_jpeg_jpg.rf.bc5bd9164d755e7aae36d773dfff76bd.txt  \n",
      "   creating: valid/\n",
      " extracting: valid/1-fps-2_00007_jpeg_jpg.rf.a3d1f8280daeb1829020234f994c1375.jpg  \n",
      " extracting: valid/1-fps-2_00007_jpeg_jpg.rf.a3d1f8280daeb1829020234f994c1375.txt  \n",
      " extracting: valid/1-fps-2_00013_jpeg_jpg.rf.3a0fbd70915fc17e7a6df84613ff095b.jpg  \n",
      " extracting: valid/1-fps-2_00013_jpeg_jpg.rf.3a0fbd70915fc17e7a6df84613ff095b.txt  \n",
      " extracting: valid/1-fps-2_00015_jpeg_jpg.rf.e9a4cb857308e1659c0c18d1408fad52.jpg  \n",
      " extracting: valid/1-fps-2_00015_jpeg_jpg.rf.e9a4cb857308e1659c0c18d1408fad52.txt  \n",
      " extracting: valid/1-fps-2_00020_jpeg_jpg.rf.4253ffeef743458782bad560cc44a35a.jpg  \n",
      " extracting: valid/1-fps-2_00020_jpeg_jpg.rf.4253ffeef743458782bad560cc44a35a.txt  \n",
      " extracting: valid/1-fps-2_00023_jpeg_jpg.rf.133d2d3a34afc80e367f8c493b135e9b.jpg  \n",
      " extracting: valid/1-fps-2_00023_jpeg_jpg.rf.133d2d3a34afc80e367f8c493b135e9b.txt  \n",
      " extracting: valid/1-fps-2_00024_jpeg_jpg.rf.61ef4d0487b8204a9733804f25975a19.jpg  \n",
      " extracting: valid/1-fps-2_00024_jpeg_jpg.rf.61ef4d0487b8204a9733804f25975a19.txt  \n",
      " extracting: valid/1-fps-2_00046_jpeg_jpg.rf.89a2b84a22b5c7edc3e5e1c2a43e59a7.jpg  \n",
      " extracting: valid/1-fps-2_00046_jpeg_jpg.rf.89a2b84a22b5c7edc3e5e1c2a43e59a7.txt  \n",
      " extracting: valid/1-fps-2_00053_jpeg_jpg.rf.81648fe641be3a3207f92bb090a6141c.jpg  \n",
      " extracting: valid/1-fps-2_00053_jpeg_jpg.rf.81648fe641be3a3207f92bb090a6141c.txt  \n",
      " extracting: valid/1-fps-2_00175_jpeg_jpg.rf.975c6d7b37f5a518ed525b2406f38c0b.jpg  \n",
      " extracting: valid/1-fps-2_00175_jpeg_jpg.rf.975c6d7b37f5a518ed525b2406f38c0b.txt  \n",
      " extracting: valid/1-fps-2_00177_jpeg_jpg.rf.bfdd01a3ec683094347356bb9fd67d10.jpg  \n",
      " extracting: valid/1-fps-2_00177_jpeg_jpg.rf.bfdd01a3ec683094347356bb9fd67d10.txt  \n",
      " extracting: valid/1-fps-2_00182_jpeg_jpg.rf.a8bb7485596317c4e1518caec6a1c9f7.jpg  \n",
      " extracting: valid/1-fps-2_00182_jpeg_jpg.rf.a8bb7485596317c4e1518caec6a1c9f7.txt  \n",
      " extracting: valid/1-fps-2_00186_jpeg_jpg.rf.241ccb993871e7b9197a0c0e762bfb67.jpg  \n",
      " extracting: valid/1-fps-2_00186_jpeg_jpg.rf.241ccb993871e7b9197a0c0e762bfb67.txt  \n",
      " extracting: valid/1-fps-2_00211_jpeg_jpg.rf.6de1b434f630e728ec30266fe2240b5b.jpg  \n",
      " extracting: valid/1-fps-2_00211_jpeg_jpg.rf.6de1b434f630e728ec30266fe2240b5b.txt  \n",
      " extracting: valid/1-fps-2_00235_jpeg_jpg.rf.a4fdaa9319f36e7c76e1e24e0bebec56.jpg  \n",
      " extracting: valid/1-fps-2_00235_jpeg_jpg.rf.a4fdaa9319f36e7c76e1e24e0bebec56.txt  \n",
      " extracting: valid/1-fps-2_00270_jpeg_jpg.rf.4d0a286a7b714ff029fb05b3e568d71b.jpg  \n",
      " extracting: valid/1-fps-2_00270_jpeg_jpg.rf.4d0a286a7b714ff029fb05b3e568d71b.txt  \n",
      " extracting: valid/1-fps-2_00271_jpeg_jpg.rf.e8f480092df04658eac482347a890e79.jpg  \n",
      " extracting: valid/1-fps-2_00271_jpeg_jpg.rf.e8f480092df04658eac482347a890e79.txt  \n",
      " extracting: valid/1-fps-2_00277_jpeg_jpg.rf.eb26cb443ec0ed92448f290afc5e5a3d.jpg  \n",
      " extracting: valid/1-fps-2_00277_jpeg_jpg.rf.eb26cb443ec0ed92448f290afc5e5a3d.txt  \n",
      " extracting: valid/1-fps-2_00284_jpeg_jpg.rf.91161fc07b5cd2ce365ec8dda9d8fb13.jpg  \n",
      " extracting: valid/1-fps-2_00284_jpeg_jpg.rf.91161fc07b5cd2ce365ec8dda9d8fb13.txt  \n",
      " extracting: valid/1-fps-2_00307_jpeg_jpg.rf.a0f29094925e9db95b2fa2c3aee7c53b.jpg  \n",
      " extracting: valid/1-fps-2_00307_jpeg_jpg.rf.a0f29094925e9db95b2fa2c3aee7c53b.txt  \n",
      " extracting: valid/1-fps-2_00350_jpeg_jpg.rf.a8303b1a8625ccf6475f0dcca01010c1.jpg  \n",
      " extracting: valid/1-fps-2_00350_jpeg_jpg.rf.a8303b1a8625ccf6475f0dcca01010c1.txt  \n",
      " extracting: valid/1-fps-2_00353_jpeg_jpg.rf.84b9bea2b3ce59c0e61b5661cd71077d.jpg  \n",
      " extracting: valid/1-fps-2_00353_jpeg_jpg.rf.84b9bea2b3ce59c0e61b5661cd71077d.txt  \n",
      " extracting: valid/1-fps-2_00366_jpeg_jpg.rf.e47f25dd758202517164077ee46a4b97.jpg  \n",
      " extracting: valid/1-fps-2_00366_jpeg_jpg.rf.e47f25dd758202517164077ee46a4b97.txt  \n",
      " extracting: valid/1-fps-2_00706_jpeg_jpg.rf.f4536faa03ebfe7fdeaeda9ef29fffc8.jpg  \n",
      " extracting: valid/1-fps-2_00706_jpeg_jpg.rf.f4536faa03ebfe7fdeaeda9ef29fffc8.txt  \n",
      " extracting: valid/2-fps-2_04600_jpeg_jpg.rf.ce79b8a9f887d7b5b3822d45017b0f79.jpg  \n",
      " extracting: valid/2-fps-2_04600_jpeg_jpg.rf.ce79b8a9f887d7b5b3822d45017b0f79.txt  \n",
      " extracting: valid/_darknet.labels   \n",
      " extracting: valid/yt1s-com---Resume-Liverpool-01-Burnley-Premier-League-J18-fps-2_00049_jpeg_jpg.rf.7ad199c83454c363f36013fe94db1ca3.jpg  \n",
      " extracting: valid/yt1s-com---Resume-Liverpool-01-Burnley-Premier-League-J18-fps-2_00049_jpeg_jpg.rf.7ad199c83454c363f36013fe94db1ca3.txt  \n",
      " extracting: valid/yt1s-com---Resume-Liverpool-01-Burnley-Premier-League-J18-fps-2_00054_jpeg_jpg.rf.6c8fd82566098d703bd0494703fd1794.jpg  \n",
      " extracting: valid/yt1s-com---Resume-Liverpool-01-Burnley-Premier-League-J18-fps-2_00054_jpeg_jpg.rf.6c8fd82566098d703bd0494703fd1794.txt  \n",
      " extracting: valid/yt1s-com---Resume-Liverpool-01-Burnley-Premier-League-J18-fps-2_00057_jpeg_jpg.rf.8a3860eb31d5ca58c3f92e97db2cb04f.jpg  \n",
      " extracting: valid/yt1s-com---Resume-Liverpool-01-Burnley-Premier-League-J18-fps-2_00057_jpeg_jpg.rf.8a3860eb31d5ca58c3f92e97db2cb04f.txt  \n",
      " extracting: valid/yt1s-com---Resume-Liverpool-14-Manchester-City-Premier-League-J23-fps-2_00002_jpeg_jpg.rf.f742fbda4aeb042c2e34825baca67e7d.jpg  \n",
      " extracting: valid/yt1s-com---Resume-Liverpool-14-Manchester-City-Premier-League-J23-fps-2_00002_jpeg_jpg.rf.f742fbda4aeb042c2e34825baca67e7d.txt  \n",
      " extracting: valid/yt1s-com---Resume-Liverpool-14-Manchester-City-Premier-League-J23-fps-2_00003_jpeg_jpg.rf.3d0b05df63c80b37d12d026959cf5388.jpg  \n",
      " extracting: valid/yt1s-com---Resume-Liverpool-14-Manchester-City-Premier-League-J23-fps-2_00003_jpeg_jpg.rf.3d0b05df63c80b37d12d026959cf5388.txt  \n",
      " extracting: valid/yt1s-com---Resume-Liverpool-14-Manchester-City-Premier-League-J23-fps-2_00005_jpeg_jpg.rf.c0cb412b650cec65c3bbf12948a03efd.jpg  \n",
      " extracting: valid/yt1s-com---Resume-Liverpool-14-Manchester-City-Premier-League-J23-fps-2_00005_jpeg_jpg.rf.c0cb412b650cec65c3bbf12948a03efd.txt  \n",
      " extracting: valid/yt1s-com---Resume-Liverpool-14-Manchester-City-Premier-League-J23-fps-2_00007_jpeg_jpg.rf.b031dad7adff0264c4ba1872bfcd6633.jpg  \n",
      " extracting: valid/yt1s-com---Resume-Liverpool-14-Manchester-City-Premier-League-J23-fps-2_00007_jpeg_jpg.rf.b031dad7adff0264c4ba1872bfcd6633.txt  \n",
      " extracting: valid/yt1s-com---Resume-Liverpool-14-Manchester-City-Premier-League-J23-fps-2_00028_jpeg_jpg.rf.763c766c83ebeffcd7fdbe91f9864a7d.jpg  \n",
      " extracting: valid/yt1s-com---Resume-Liverpool-14-Manchester-City-Premier-League-J23-fps-2_00028_jpeg_jpg.rf.763c766c83ebeffcd7fdbe91f9864a7d.txt  \n",
      " extracting: valid/yt1s-com---Resume-Tottenham-20-West-Bromwich-Premier-League-J23_720p-fps-2_00010_jpeg_jpg.rf.23fdde6b55cba5c91fe83bfa315dc4b7.jpg  \n",
      " extracting: valid/yt1s-com---Resume-Tottenham-20-West-Bromwich-Premier-League-J23_720p-fps-2_00010_jpeg_jpg.rf.23fdde6b55cba5c91fe83bfa315dc4b7.txt  \n"
     ]
    }
   ],
   "source": [
    "!curl -L \"https://universe.roboflow.com/ds/997v9b3SK6?key=qTrYR6x8fv\" > roboflow.zip; unzip roboflow.zip; rm roboflow.zip\n",
    "!cp $(pwd)/valid/* $(pwd)/train/"
   ]
  },
  {
   "cell_type": "markdown",
   "metadata": {
    "id": "BgYm8QNx-ekO"
   },
   "source": [
    "In order to train YOLOv7 on your custom dataset, please create a new workflow from scratch.\n",
    "\n",
    "Then you need 2 components:\n",
    "\n",
    "1.   A YOLO dataset loader which loads dataset in YOLO format and convert it to an Ikomia format\n",
    "2.   The YOLOv7 training algorithm which loads dataset in Ikomia format\n",
    "\n",
    "Add these 2 previous algorithms to your workflow and then it will automagically download all algorithms from Ikomia Hub and install all the Python dependencies (the 1st time, it can take a while, be patient ! )."
   ]
  },
  {
   "cell_type": "markdown",
   "metadata": {
    "id": "jYEO6THt85ml"
   },
   "source": [
    "** -Google Colab ONLY- ** If you want to monitor your training results, you can use TensorBoard by running the following cell."
   ]
  },
  {
   "cell_type": "code",
   "execution_count": null,
   "metadata": {
    "id": "UlLFhQwCZIJS"
   },
   "outputs": [],
   "source": [
    "%load_ext tensorboard\n",
    "%tensorboard --logdir /root/Ikomia/Tensorboard"
   ]
  },
  {
   "cell_type": "markdown",
   "metadata": {
    "id": "I1BKL7hpw15Z"
   },
   "source": [
    "Now, it's time to train your model !"
   ]
  },
  {
   "cell_type": "code",
   "execution_count": 5,
   "metadata": {
    "id": "LfICgCeQLJuc"
   },
   "outputs": [
    {
     "name": "stdout",
     "output_type": "stream",
     "text": [
      "MLflow server is started at http://localhost:5000\n",
      "Tensorboard server is started at http://localhost:6006\n",
      "Preparing dataset...\n",
      "A valid YoloV5 dataset structure already exists, skip building a new one\n",
      "Collecting configuration parameters...\n",
      "Start training...\n",
      "YOLOV7 🚀 2022-10-10 torch 1.9.0+cu111 CUDA:0 (NVIDIA GeForce RTX 2060, 5934.5625MB)\n",
      "\n",
      "Namespace(adam=False, anchors=[[12, 16, 19, 36, 40, 28], [36, 75, 76, 55, 72, 146], [142, 110, 192, 243, 459, 401]], artifact_alias='latest', backbone=[[-1, 1, 'Conv', [32, 3, 1]], [-1, 1, 'Conv', [64, 3, 2]], [-1, 1, 'Conv', [64, 3, 1]], [-1, 1, 'Conv', [128, 3, 2]], [-1, 1, 'Conv', [64, 1, 1]], [-2, 1, 'Conv', [64, 1, 1]], [-1, 1, 'Conv', [64, 3, 1]], [-1, 1, 'Conv', [64, 3, 1]], [-1, 1, 'Conv', [64, 3, 1]], [-1, 1, 'Conv', [64, 3, 1]], [[-1, -3, -5, -6], 1, 'Concat', [1]], [-1, 1, 'Conv', [256, 1, 1]], [-1, 1, 'MP', []], [-1, 1, 'Conv', [128, 1, 1]], [-3, 1, 'Conv', [128, 1, 1]], [-1, 1, 'Conv', [128, 3, 2]], [[-1, -3], 1, 'Concat', [1]], [-1, 1, 'Conv', [128, 1, 1]], [-2, 1, 'Conv', [128, 1, 1]], [-1, 1, 'Conv', [128, 3, 1]], [-1, 1, 'Conv', [128, 3, 1]], [-1, 1, 'Conv', [128, 3, 1]], [-1, 1, 'Conv', [128, 3, 1]], [[-1, -3, -5, -6], 1, 'Concat', [1]], [-1, 1, 'Conv', [512, 1, 1]], [-1, 1, 'MP', []], [-1, 1, 'Conv', [256, 1, 1]], [-3, 1, 'Conv', [256, 1, 1]], [-1, 1, 'Conv', [256, 3, 2]], [[-1, -3], 1, 'Concat', [1]], [-1, 1, 'Conv', [256, 1, 1]], [-2, 1, 'Conv', [256, 1, 1]], [-1, 1, 'Conv', [256, 3, 1]], [-1, 1, 'Conv', [256, 3, 1]], [-1, 1, 'Conv', [256, 3, 1]], [-1, 1, 'Conv', [256, 3, 1]], [[-1, -3, -5, -6], 1, 'Concat', [1]], [-1, 1, 'Conv', [1024, 1, 1]], [-1, 1, 'MP', []], [-1, 1, 'Conv', [512, 1, 1]], [-3, 1, 'Conv', [512, 1, 1]], [-1, 1, 'Conv', [512, 3, 2]], [[-1, -3], 1, 'Concat', [1]], [-1, 1, 'Conv', [256, 1, 1]], [-2, 1, 'Conv', [256, 1, 1]], [-1, 1, 'Conv', [256, 3, 1]], [-1, 1, 'Conv', [256, 3, 1]], [-1, 1, 'Conv', [256, 3, 1]], [-1, 1, 'Conv', [256, 3, 1]], [[-1, -3, -5, -6], 1, 'Concat', [1]], [-1, 1, 'Conv', [1024, 1, 1]]], batch_size=1, bbox_interval=-1, bucket='', cache_images=False, cfg='', data='/home/yom/Ikomia/Plugins/Python/train_yolo_v7/dataset/dataset.yaml', depth_multiple=1.0, device='', entity=None, epochs=10, evolve=False, exist_ok=False, global_rank=-1, head=[[-1, 1, 'SPPCSPC', [512]], [-1, 1, 'Conv', [256, 1, 1]], [-1, 1, 'nn.Upsample', ['None', 2, 'nearest']], [37, 1, 'Conv', [256, 1, 1]], [[-1, -2], 1, 'Concat', [1]], [-1, 1, 'Conv', [256, 1, 1]], [-2, 1, 'Conv', [256, 1, 1]], [-1, 1, 'Conv', [128, 3, 1]], [-1, 1, 'Conv', [128, 3, 1]], [-1, 1, 'Conv', [128, 3, 1]], [-1, 1, 'Conv', [128, 3, 1]], [[-1, -2, -3, -4, -5, -6], 1, 'Concat', [1]], [-1, 1, 'Conv', [256, 1, 1]], [-1, 1, 'Conv', [128, 1, 1]], [-1, 1, 'nn.Upsample', ['None', 2, 'nearest']], [24, 1, 'Conv', [128, 1, 1]], [[-1, -2], 1, 'Concat', [1]], [-1, 1, 'Conv', [128, 1, 1]], [-2, 1, 'Conv', [128, 1, 1]], [-1, 1, 'Conv', [64, 3, 1]], [-1, 1, 'Conv', [64, 3, 1]], [-1, 1, 'Conv', [64, 3, 1]], [-1, 1, 'Conv', [64, 3, 1]], [[-1, -2, -3, -4, -5, -6], 1, 'Concat', [1]], [-1, 1, 'Conv', [128, 1, 1]], [-1, 1, 'MP', []], [-1, 1, 'Conv', [128, 1, 1]], [-3, 1, 'Conv', [128, 1, 1]], [-1, 1, 'Conv', [128, 3, 2]], [[-1, -3, 63], 1, 'Concat', [1]], [-1, 1, 'Conv', [256, 1, 1]], [-2, 1, 'Conv', [256, 1, 1]], [-1, 1, 'Conv', [128, 3, 1]], [-1, 1, 'Conv', [128, 3, 1]], [-1, 1, 'Conv', [128, 3, 1]], [-1, 1, 'Conv', [128, 3, 1]], [[-1, -2, -3, -4, -5, -6], 1, 'Concat', [1]], [-1, 1, 'Conv', [256, 1, 1]], [-1, 1, 'MP', []], [-1, 1, 'Conv', [256, 1, 1]], [-3, 1, 'Conv', [256, 1, 1]], [-1, 1, 'Conv', [256, 3, 2]], [[-1, -3, 51], 1, 'Concat', [1]], [-1, 1, 'Conv', [512, 1, 1]], [-2, 1, 'Conv', [512, 1, 1]], [-1, 1, 'Conv', [256, 3, 1]], [-1, 1, 'Conv', [256, 3, 1]], [-1, 1, 'Conv', [256, 3, 1]], [-1, 1, 'Conv', [256, 3, 1]], [[-1, -2, -3, -4, -5, -6], 1, 'Concat', [1]], [-1, 1, 'Conv', [512, 1, 1]], [75, 1, 'RepConv', [256, 3, 1]], [88, 1, 'RepConv', [512, 3, 1]], [101, 1, 'RepConv', [1024, 3, 1]], [[102, 103, 104], 1, 'IDetect', ['nc', 'anchors']]], hyp='/home/yom/Ikomia/Plugins/Python/train_yolo_v7/yolov7/data/hyp.scratch.p5.yaml', image_weights=False, img_size=[640, 640], label_smoothing=0.0, linear_lr=False, local_rank=-1, multi_scale=False, name='25-10-2022T12h27m48s', nc=80, noautoanchor=False, nosave=False, notest=False, project='/home/yom/Developpement/notebooks/examples', quad=False, rect=False, resume=False, save_dir='/home/yom/Developpement/notebooks/examples/25-10-2022T12h27m48s', save_period=-1, single_cls=False, stop_train=False, sync_bn=False, tb_dir='/home/yom/Ikomia/Tensorboard/25-10-2022T12h27m48s', total_batch_size=1, upload_dataset=False, weights='/home/yom/Ikomia/Plugins/Python/train_yolo_v7/models/yolov7.pt', width_multiple=1.0, workers=8, world_size=1)\n",
      "\u001b[34m\u001b[1mtensorboard: \u001b[0mStart with 'tensorboard --logdir /home/yom/Developpement/notebooks/examples', view at http://localhost:6006/\n",
      "\u001b[34m\u001b[1mhyperparameters: \u001b[0mlr0=0.00015625, lrf=0.1, momentum=0.937, weight_decay=0.0005, warmup_epochs=3.0, warmup_momentum=0.8, warmup_bias_lr=0.1, box=0.05, cls=0.3, cls_pw=1.0, obj=0.7, obj_pw=1.0, iou_t=0.2, anchor_t=4.0, fl_gamma=0.0, hsv_h=0.015, hsv_s=0.7, hsv_v=0.4, degrees=0.0, translate=0.2, scale=0.9, shear=0.0, perspective=0.0, flipud=0.0, fliplr=0.5, mosaic=1.0, mixup=0.15, copy_paste=0.0, paste_in=0.15\n",
      "\u001b[34m\u001b[1mwandb: \u001b[0mInstall Weights & Biases for YOLOR logging with 'pip install wandb' (recommended)\n",
      "Overriding model.yaml nc=80 with nc=3\n",
      "\n",
      "                 from  n    params  module                                  arguments                     \n",
      "  0                -1  1       928  train_yolo_v7.yolov7.models.common.Conv [3, 32, 3, 1]                 \n",
      "  1                -1  1     18560  train_yolo_v7.yolov7.models.common.Conv [32, 64, 3, 2]                \n",
      "  2                -1  1     36992  train_yolo_v7.yolov7.models.common.Conv [64, 64, 3, 1]                \n",
      "  3                -1  1     73984  train_yolo_v7.yolov7.models.common.Conv [64, 128, 3, 2]               \n",
      "  4                -1  1      8320  train_yolo_v7.yolov7.models.common.Conv [128, 64, 1, 1]               \n",
      "  5                -2  1      8320  train_yolo_v7.yolov7.models.common.Conv [128, 64, 1, 1]               \n",
      "  6                -1  1     36992  train_yolo_v7.yolov7.models.common.Conv [64, 64, 3, 1]                \n",
      "  7                -1  1     36992  train_yolo_v7.yolov7.models.common.Conv [64, 64, 3, 1]                \n",
      "  8                -1  1     36992  train_yolo_v7.yolov7.models.common.Conv [64, 64, 3, 1]                \n",
      "  9                -1  1     36992  train_yolo_v7.yolov7.models.common.Conv [64, 64, 3, 1]                \n",
      " 10  [-1, -3, -5, -6]  1         0  train_yolo_v7.yolov7.models.common.Concat[1]                           \n",
      " 11                -1  1     66048  train_yolo_v7.yolov7.models.common.Conv [256, 256, 1, 1]              \n",
      " 12                -1  1         0  train_yolo_v7.yolov7.models.common.MP   []                            \n",
      " 13                -1  1     33024  train_yolo_v7.yolov7.models.common.Conv [256, 128, 1, 1]              \n",
      " 14                -3  1     33024  train_yolo_v7.yolov7.models.common.Conv [256, 128, 1, 1]              \n",
      " 15                -1  1    147712  train_yolo_v7.yolov7.models.common.Conv [128, 128, 3, 2]              \n",
      " 16          [-1, -3]  1         0  train_yolo_v7.yolov7.models.common.Concat[1]                           \n",
      " 17                -1  1     33024  train_yolo_v7.yolov7.models.common.Conv [256, 128, 1, 1]              \n",
      " 18                -2  1     33024  train_yolo_v7.yolov7.models.common.Conv [256, 128, 1, 1]              \n",
      " 19                -1  1    147712  train_yolo_v7.yolov7.models.common.Conv [128, 128, 3, 1]              \n",
      " 20                -1  1    147712  train_yolo_v7.yolov7.models.common.Conv [128, 128, 3, 1]              \n",
      " 21                -1  1    147712  train_yolo_v7.yolov7.models.common.Conv [128, 128, 3, 1]              \n",
      " 22                -1  1    147712  train_yolo_v7.yolov7.models.common.Conv [128, 128, 3, 1]              \n",
      " 23  [-1, -3, -5, -6]  1         0  train_yolo_v7.yolov7.models.common.Concat[1]                           \n",
      " 24                -1  1    263168  train_yolo_v7.yolov7.models.common.Conv [512, 512, 1, 1]              \n",
      " 25                -1  1         0  train_yolo_v7.yolov7.models.common.MP   []                            \n",
      " 26                -1  1    131584  train_yolo_v7.yolov7.models.common.Conv [512, 256, 1, 1]              \n",
      " 27                -3  1    131584  train_yolo_v7.yolov7.models.common.Conv [512, 256, 1, 1]              \n",
      " 28                -1  1    590336  train_yolo_v7.yolov7.models.common.Conv [256, 256, 3, 2]              \n",
      " 29          [-1, -3]  1         0  train_yolo_v7.yolov7.models.common.Concat[1]                           \n",
      " 30                -1  1    131584  train_yolo_v7.yolov7.models.common.Conv [512, 256, 1, 1]              \n",
      " 31                -2  1    131584  train_yolo_v7.yolov7.models.common.Conv [512, 256, 1, 1]              \n",
      " 32                -1  1    590336  train_yolo_v7.yolov7.models.common.Conv [256, 256, 3, 1]              \n",
      " 33                -1  1    590336  train_yolo_v7.yolov7.models.common.Conv [256, 256, 3, 1]              \n",
      " 34                -1  1    590336  train_yolo_v7.yolov7.models.common.Conv [256, 256, 3, 1]              \n",
      " 35                -1  1    590336  train_yolo_v7.yolov7.models.common.Conv [256, 256, 3, 1]              \n",
      " 36  [-1, -3, -5, -6]  1         0  train_yolo_v7.yolov7.models.common.Concat[1]                           \n",
      " 37                -1  1   1050624  train_yolo_v7.yolov7.models.common.Conv [1024, 1024, 1, 1]            \n",
      " 38                -1  1         0  train_yolo_v7.yolov7.models.common.MP   []                            \n",
      " 39                -1  1    525312  train_yolo_v7.yolov7.models.common.Conv [1024, 512, 1, 1]             \n",
      " 40                -3  1    525312  train_yolo_v7.yolov7.models.common.Conv [1024, 512, 1, 1]             \n",
      " 41                -1  1   2360320  train_yolo_v7.yolov7.models.common.Conv [512, 512, 3, 2]              \n",
      " 42          [-1, -3]  1         0  train_yolo_v7.yolov7.models.common.Concat[1]                           \n",
      " 43                -1  1    262656  train_yolo_v7.yolov7.models.common.Conv [1024, 256, 1, 1]             \n",
      " 44                -2  1    262656  train_yolo_v7.yolov7.models.common.Conv [1024, 256, 1, 1]             \n",
      " 45                -1  1    590336  train_yolo_v7.yolov7.models.common.Conv [256, 256, 3, 1]              \n",
      " 46                -1  1    590336  train_yolo_v7.yolov7.models.common.Conv [256, 256, 3, 1]              \n",
      " 47                -1  1    590336  train_yolo_v7.yolov7.models.common.Conv [256, 256, 3, 1]              \n",
      " 48                -1  1    590336  train_yolo_v7.yolov7.models.common.Conv [256, 256, 3, 1]              \n",
      " 49  [-1, -3, -5, -6]  1         0  train_yolo_v7.yolov7.models.common.Concat[1]                           \n",
      " 50                -1  1   1050624  train_yolo_v7.yolov7.models.common.Conv [1024, 1024, 1, 1]            \n",
      " 51                -1  1   7609344  train_yolo_v7.yolov7.models.common.SPPCSPC[1024, 512, 1]                \n",
      " 52                -1  1    131584  train_yolo_v7.yolov7.models.common.Conv [512, 256, 1, 1]              \n",
      " 53                -1  1         0  torch.nn.modules.upsampling.Upsample    [None, 2, 'nearest']          \n",
      " 54                37  1    262656  train_yolo_v7.yolov7.models.common.Conv [1024, 256, 1, 1]             \n",
      " 55          [-1, -2]  1         0  train_yolo_v7.yolov7.models.common.Concat[1]                           \n",
      " 56                -1  1    131584  train_yolo_v7.yolov7.models.common.Conv [512, 256, 1, 1]              \n",
      " 57                -2  1    131584  train_yolo_v7.yolov7.models.common.Conv [512, 256, 1, 1]              \n",
      " 58                -1  1    295168  train_yolo_v7.yolov7.models.common.Conv [256, 128, 3, 1]              \n",
      " 59                -1  1    147712  train_yolo_v7.yolov7.models.common.Conv [128, 128, 3, 1]              \n",
      " 60                -1  1    147712  train_yolo_v7.yolov7.models.common.Conv [128, 128, 3, 1]              \n",
      " 61                -1  1    147712  train_yolo_v7.yolov7.models.common.Conv [128, 128, 3, 1]              \n",
      " 62[-1, -2, -3, -4, -5, -6]  1         0  train_yolo_v7.yolov7.models.common.Concat[1]                           \n",
      " 63                -1  1    262656  train_yolo_v7.yolov7.models.common.Conv [1024, 256, 1, 1]             \n",
      " 64                -1  1     33024  train_yolo_v7.yolov7.models.common.Conv [256, 128, 1, 1]              \n",
      " 65                -1  1         0  torch.nn.modules.upsampling.Upsample    [None, 2, 'nearest']          \n",
      " 66                24  1     65792  train_yolo_v7.yolov7.models.common.Conv [512, 128, 1, 1]              \n",
      " 67          [-1, -2]  1         0  train_yolo_v7.yolov7.models.common.Concat[1]                           \n",
      " 68                -1  1     33024  train_yolo_v7.yolov7.models.common.Conv [256, 128, 1, 1]              \n",
      " 69                -2  1     33024  train_yolo_v7.yolov7.models.common.Conv [256, 128, 1, 1]              \n",
      " 70                -1  1     73856  train_yolo_v7.yolov7.models.common.Conv [128, 64, 3, 1]               \n",
      " 71                -1  1     36992  train_yolo_v7.yolov7.models.common.Conv [64, 64, 3, 1]                \n",
      " 72                -1  1     36992  train_yolo_v7.yolov7.models.common.Conv [64, 64, 3, 1]                \n",
      " 73                -1  1     36992  train_yolo_v7.yolov7.models.common.Conv [64, 64, 3, 1]                \n",
      " 74[-1, -2, -3, -4, -5, -6]  1         0  train_yolo_v7.yolov7.models.common.Concat[1]                           \n",
      " 75                -1  1     65792  train_yolo_v7.yolov7.models.common.Conv [512, 128, 1, 1]              \n",
      " 76                -1  1         0  train_yolo_v7.yolov7.models.common.MP   []                            \n",
      " 77                -1  1     16640  train_yolo_v7.yolov7.models.common.Conv [128, 128, 1, 1]              \n",
      " 78                -3  1     16640  train_yolo_v7.yolov7.models.common.Conv [128, 128, 1, 1]              \n",
      " 79                -1  1    147712  train_yolo_v7.yolov7.models.common.Conv [128, 128, 3, 2]              \n",
      " 80      [-1, -3, 63]  1         0  train_yolo_v7.yolov7.models.common.Concat[1]                           \n",
      " 81                -1  1    131584  train_yolo_v7.yolov7.models.common.Conv [512, 256, 1, 1]              \n",
      " 82                -2  1    131584  train_yolo_v7.yolov7.models.common.Conv [512, 256, 1, 1]              \n",
      " 83                -1  1    295168  train_yolo_v7.yolov7.models.common.Conv [256, 128, 3, 1]              \n",
      " 84                -1  1    147712  train_yolo_v7.yolov7.models.common.Conv [128, 128, 3, 1]              \n",
      " 85                -1  1    147712  train_yolo_v7.yolov7.models.common.Conv [128, 128, 3, 1]              \n",
      " 86                -1  1    147712  train_yolo_v7.yolov7.models.common.Conv [128, 128, 3, 1]              \n",
      " 87[-1, -2, -3, -4, -5, -6]  1         0  train_yolo_v7.yolov7.models.common.Concat[1]                           \n",
      " 88                -1  1    262656  train_yolo_v7.yolov7.models.common.Conv [1024, 256, 1, 1]             \n",
      " 89                -1  1         0  train_yolo_v7.yolov7.models.common.MP   []                            \n",
      " 90                -1  1     66048  train_yolo_v7.yolov7.models.common.Conv [256, 256, 1, 1]              \n",
      " 91                -3  1     66048  train_yolo_v7.yolov7.models.common.Conv [256, 256, 1, 1]              \n",
      " 92                -1  1    590336  train_yolo_v7.yolov7.models.common.Conv [256, 256, 3, 2]              \n",
      " 93      [-1, -3, 51]  1         0  train_yolo_v7.yolov7.models.common.Concat[1]                           \n",
      " 94                -1  1    525312  train_yolo_v7.yolov7.models.common.Conv [1024, 512, 1, 1]             \n",
      " 95                -2  1    525312  train_yolo_v7.yolov7.models.common.Conv [1024, 512, 1, 1]             \n",
      " 96                -1  1   1180160  train_yolo_v7.yolov7.models.common.Conv [512, 256, 3, 1]              \n",
      " 97                -1  1    590336  train_yolo_v7.yolov7.models.common.Conv [256, 256, 3, 1]              \n",
      " 98                -1  1    590336  train_yolo_v7.yolov7.models.common.Conv [256, 256, 3, 1]              \n",
      " 99                -1  1    590336  train_yolo_v7.yolov7.models.common.Conv [256, 256, 3, 1]              \n",
      "100[-1, -2, -3, -4, -5, -6]  1         0  train_yolo_v7.yolov7.models.common.Concat[1]                           \n",
      "101                -1  1   1049600  train_yolo_v7.yolov7.models.common.Conv [2048, 512, 1, 1]             \n",
      "102                75  1    328704  train_yolo_v7.yolov7.models.common.RepConv[128, 256, 3, 1]              \n",
      "103                88  1   1312768  train_yolo_v7.yolov7.models.common.RepConv[256, 512, 3, 1]              \n",
      "104               101  1   5246976  train_yolo_v7.yolov7.models.common.RepConv[512, 1024, 3, 1]             \n",
      "105   [102, 103, 104]  1     43080  train_yolo_v7.yolov7.models.yolo.Detect [3, [[12, 16, 19, 36, 40, 28], [36, 75, 76, 55, 72, 146], [142, 110, 192, 243, 459, 401]], [256, 512, 1024]]\n"
     ]
    },
    {
     "name": "stderr",
     "output_type": "stream",
     "text": [
      "/home/yom/Developpement/python_venv/python3.7/lib/python3.7/site-packages/torch/nn/functional.py:718: UserWarning: Named tensors and all their associated APIs are an experimental feature and subject to change. Please do not use them for anything important until they are released as stable. (Triggered internally at  /pytorch/c10/core/TensorImpl.h:1156.)\n",
      "  return torch.max_pool2d(input, kernel_size, stride, padding, dilation, ceil_mode)\n"
     ]
    },
    {
     "name": "stdout",
     "output_type": "stream",
     "text": [
      "Model Summary: 407 layers, 37205480 parameters, 37205480 gradients, 105.1 GFLOPS\n",
      "\n",
      "Transferred 554/560 items from /home/yom/Ikomia/Plugins/Python/train_yolo_v7/models/yolov7.pt\n",
      "Scaled weight_decay = 0.0005\n",
      "Optimizer groups: 95 .bias, 95 conv.weight, 92 other\n"
     ]
    },
    {
     "name": "stderr",
     "output_type": "stream",
     "text": [
      "\u001b[34m\u001b[1mtrain: \u001b[0mScanning '/home/yom/Ikomia/Plugins/Python/train_yolo_v7/dataset/labels/train.cache' images and labels... 133 found, 0 missing, 0 empty, 0 corrupted: 100%|██████████████████████████████████████████████████████████████████████████████████████████████████████████████████████████████████████████████████████████████████████████████| 133/133 [00:00<?, ?it/s]\u001b[0m\n",
      "\u001b[34m\u001b[1mval: \u001b[0mScanning '/home/yom/Ikomia/Plugins/Python/train_yolo_v7/dataset/labels/val.cache' images and labels... 14 found, 0 missing, 0 empty, 0 corrupted: 100%|█████████████████████████████████████████████████████████████████████████████████████████████████████████████████████████████████████████████████████████████████████████████████████| 14/14 [00:00<?, ?it/s]\u001b[0m\n"
     ]
    },
    {
     "name": "stdout",
     "output_type": "stream",
     "text": [
      "\n",
      "\u001b[34m\u001b[1mautoanchor: \u001b[0mAnalyzing anchors... anchors/target = 5.33, Best Possible Recall (BPR) = 1.0000\n",
      "Image sizes 640 train, 640 test\n",
      "Using 0 dataloader workers\n",
      "Logging results to /home/yom/Developpement/notebooks/examples/25-10-2022T12h27m48s\n",
      "Starting training for 10 epochs...\n",
      "\n",
      "     Epoch   gpu_mem       box       obj       cls     total    labels  img_size\n"
     ]
    },
    {
     "name": "stderr",
     "output_type": "stream",
     "text": [
      "       0/9     1.39G   0.06625   0.02772   0.01539    0.1094        47       640: 100%|████████████████████████████████████████████████████████████████████████████████████████████████████████████████████████████████████████████████████████████████████████████████████████████████████████████████████████████████████████████████| 133/133 [00:16<00:00,  7.85it/s]\n",
      "               Class      Images      Labels           P           R      mAP@.5  mAP@.5:.95: 100%|████████████████████████████████████████████████████████████████████████████████████████████████████████████████████████████████████████████████████████████████████████████████████████████████████████████████████████████████████████| 7/7 [00:01<00:00,  5.18it/s]\n"
     ]
    },
    {
     "name": "stdout",
     "output_type": "stream",
     "text": [
      "                 all          14         187     0.00206      0.0141    9.91e-05    1.69e-05\n",
      "\n",
      "     Epoch   gpu_mem       box       obj       cls     total    labels  img_size\n"
     ]
    },
    {
     "name": "stderr",
     "output_type": "stream",
     "text": [
      "       1/9     1.97G   0.06914   0.02668   0.01592    0.1117        10       640: 100%|████████████████████████████████████████████████████████████████████████████████████████████████████████████████████████████████████████████████████████████████████████████████████████████████████████████████████████████████████████████████| 133/133 [00:14<00:00,  9.17it/s]\n",
      "               Class      Images      Labels           P           R      mAP@.5  mAP@.5:.95: 100%|████████████████████████████████████████████████████████████████████████████████████████████████████████████████████████████████████████████████████████████████████████████████████████████████████████████████████████████████████████| 7/7 [00:00<00:00, 25.04it/s]\n"
     ]
    },
    {
     "name": "stdout",
     "output_type": "stream",
     "text": [
      "                 all          14         187     0.00222      0.0475    0.000157     3.7e-05\n",
      "\n",
      "     Epoch   gpu_mem       box       obj       cls     total    labels  img_size\n"
     ]
    },
    {
     "name": "stderr",
     "output_type": "stream",
     "text": [
      "       2/9     1.97G   0.06802   0.02772   0.01566    0.1114        10       640: 100%|████████████████████████████████████████████████████████████████████████████████████████████████████████████████████████████████████████████████████████████████████████████████████████████████████████████████████████████████████████████████| 133/133 [00:15<00:00,  8.70it/s]\n",
      "               Class      Images      Labels           P           R      mAP@.5  mAP@.5:.95: 100%|████████████████████████████████████████████████████████████████████████████████████████████████████████████████████████████████████████████████████████████████████████████████████████████████████████████████████████████████████████| 7/7 [00:00<00:00, 21.90it/s]\n"
     ]
    },
    {
     "name": "stdout",
     "output_type": "stream",
     "text": [
      "                 all          14         187     0.00198      0.0141    9.38e-05    1.84e-05\n",
      "\n",
      "     Epoch   gpu_mem       box       obj       cls     total    labels  img_size\n"
     ]
    },
    {
     "name": "stderr",
     "output_type": "stream",
     "text": [
      "       3/9     1.97G   0.06995   0.02688   0.01589    0.1127        13       640: 100%|████████████████████████████████████████████████████████████████████████████████████████████████████████████████████████████████████████████████████████████████████████████████████████████████████████████████████████████████████████████████| 133/133 [00:15<00:00,  8.42it/s]\n",
      "               Class      Images      Labels           P           R      mAP@.5  mAP@.5:.95: 100%|████████████████████████████████████████████████████████████████████████████████████████████████████████████████████████████████████████████████████████████████████████████████████████████████████████████████████████████████████████| 7/7 [00:00<00:00, 23.57it/s]\n"
     ]
    },
    {
     "name": "stdout",
     "output_type": "stream",
     "text": [
      "                 all          14         187     0.00418      0.0121     0.00023    4.39e-05\n",
      "\n",
      "     Epoch   gpu_mem       box       obj       cls     total    labels  img_size\n"
     ]
    },
    {
     "name": "stderr",
     "output_type": "stream",
     "text": [
      "       4/9     1.97G   0.06611   0.02604   0.01433    0.1065        49       640: 100%|████████████████████████████████████████████████████████████████████████████████████████████████████████████████████████████████████████████████████████████████████████████████████████████████████████████████████████████████████████████████| 133/133 [00:15<00:00,  8.74it/s]\n",
      "               Class      Images      Labels           P           R      mAP@.5  mAP@.5:.95: 100%|████████████████████████████████████████████████████████████████████████████████████████████████████████████████████████████████████████████████████████████████████████████████████████████████████████████████████████████████████████| 7/7 [00:00<00:00, 22.78it/s]\n"
     ]
    },
    {
     "name": "stdout",
     "output_type": "stream",
     "text": [
      "                 all          14         187     0.00418      0.0121     0.00023    4.39e-05\n",
      "\n",
      "     Epoch   gpu_mem       box       obj       cls     total    labels  img_size\n"
     ]
    },
    {
     "name": "stderr",
     "output_type": "stream",
     "text": [
      "       5/9     1.97G   0.06433   0.02592   0.01455    0.1048        34       640: 100%|████████████████████████████████████████████████████████████████████████████████████████████████████████████████████████████████████████████████████████████████████████████████████████████████████████████████████████████████████████████████| 133/133 [00:15<00:00,  8.53it/s]\n",
      "               Class      Images      Labels           P           R      mAP@.5  mAP@.5:.95: 100%|████████████████████████████████████████████████████████████████████████████████████████████████████████████████████████████████████████████████████████████████████████████████████████████████████████████████████████████████████████| 7/7 [00:00<00:00, 23.32it/s]\n"
     ]
    },
    {
     "name": "stdout",
     "output_type": "stream",
     "text": [
      "                 all          14         187     0.00418      0.0121     0.00023    4.39e-05\n",
      "\n",
      "     Epoch   gpu_mem       box       obj       cls     total    labels  img_size\n"
     ]
    },
    {
     "name": "stderr",
     "output_type": "stream",
     "text": [
      "       6/9     1.97G   0.07073   0.02689   0.01624    0.1139         7       640: 100%|████████████████████████████████████████████████████████████████████████████████████████████████████████████████████████████████████████████████████████████████████████████████████████████████████████████████████████████████████████████████| 133/133 [00:15<00:00,  8.47it/s]\n",
      "               Class      Images      Labels           P           R      mAP@.5  mAP@.5:.95: 100%|████████████████████████████████████████████████████████████████████████████████████████████████████████████████████████████████████████████████████████████████████████████████████████████████████████████████████████████████████████| 7/7 [00:00<00:00, 23.34it/s]\n"
     ]
    },
    {
     "name": "stdout",
     "output_type": "stream",
     "text": [
      "                 all          14         187     0.00418      0.0121     0.00023    4.39e-05\n",
      "\n",
      "     Epoch   gpu_mem       box       obj       cls     total    labels  img_size\n"
     ]
    },
    {
     "name": "stderr",
     "output_type": "stream",
     "text": [
      "       7/9     1.97G   0.06601   0.02606   0.01508    0.1072        15       640: 100%|████████████████████████████████████████████████████████████████████████████████████████████████████████████████████████████████████████████████████████████████████████████████████████████████████████████████████████████████████████████████| 133/133 [00:15<00:00,  8.34it/s]\n",
      "               Class      Images      Labels           P           R      mAP@.5  mAP@.5:.95: 100%|████████████████████████████████████████████████████████████████████████████████████████████████████████████████████████████████████████████████████████████████████████████████████████████████████████████████████████████████████████| 7/7 [00:00<00:00, 18.64it/s]\n"
     ]
    },
    {
     "name": "stdout",
     "output_type": "stream",
     "text": [
      "                 all          14         187     0.00238      0.0202    0.000161    2.61e-05\n",
      "\n",
      "     Epoch   gpu_mem       box       obj       cls     total    labels  img_size\n"
     ]
    },
    {
     "name": "stderr",
     "output_type": "stream",
     "text": [
      "       8/9     1.97G    0.0686   0.02629   0.01592    0.1108        20       640: 100%|████████████████████████████████████████████████████████████████████████████████████████████████████████████████████████████████████████████████████████████████████████████████████████████████████████████████████████████████████████████████| 133/133 [00:15<00:00,  8.44it/s]\n",
      "               Class      Images      Labels           P           R      mAP@.5  mAP@.5:.95: 100%|████████████████████████████████████████████████████████████████████████████████████████████████████████████████████████████████████████████████████████████████████████████████████████████████████████████████████████████████████████| 7/7 [00:00<00:00, 23.86it/s]\n"
     ]
    },
    {
     "name": "stdout",
     "output_type": "stream",
     "text": [
      "                 all          14         187     0.00298      0.0596    0.000285    3.76e-05\n",
      "\n",
      "     Epoch   gpu_mem       box       obj       cls     total    labels  img_size\n"
     ]
    },
    {
     "name": "stderr",
     "output_type": "stream",
     "text": [
      "       9/9     1.97G   0.06602   0.02629   0.01463    0.1069        22       640: 100%|████████████████████████████████████████████████████████████████████████████████████████████████████████████████████████████████████████████████████████████████████████████████████████████████████████████████████████████████████████████████| 133/133 [00:16<00:00,  8.22it/s]\n",
      "               Class      Images      Labels           P           R      mAP@.5  mAP@.5:.95: 100%|████████████████████████████████████████████████████████████████████████████████████████████████████████████████████████████████████████████████████████████████████████████████████████████████████████████████████████████████████████| 7/7 [00:00<00:00, 18.70it/s]\n"
     ]
    },
    {
     "name": "stdout",
     "output_type": "stream",
     "text": [
      "                 all          14         187     0.00282      0.0263    0.000264    4.28e-05\n",
      "              futbol          14          12           0           0           0           0\n",
      "              player          14         165     0.00847      0.0788    0.000792    0.000128\n",
      "            referree          14          10           0           0           0           0\n",
      "10 epochs completed in 0.047 hours.\n",
      "\n"
     ]
    }
   ],
   "source": [
    "from ikomia.utils import ik\n",
    "from ikomia.core import task\n",
    "from ikomia.dataprocess import workflow\n",
    "import os\n",
    "\n",
    "#----------------------------- Step 1 -----------------------------------#\n",
    "# Create a workflow which will take your dataset as input and\n",
    "# train a YOLOv7 model on it\n",
    "#------------------------------------------------------------------------#\n",
    "wf = workflow.create(\"Train YOLOv7\")\n",
    "\n",
    "#----------------------------- Step 2 -----------------------------------#\n",
    "# First you need to convert darknet YOLO format to IKOMIA format.\n",
    "# Add an Ikomia dataset converter to your workflow.\n",
    "#------------------------------------------------------------------------#\n",
    "dataset_yolo_id, dataset_yolo = wf.add_task(ik.dataset_yolo)\n",
    "\n",
    "# Specify where are the data and class file\n",
    "dataset_yolo_params = {\n",
    "    ik.dataset_yolo_param.data_folder_path: os.getcwd()+\"/train\",\n",
    "    ik.dataset_yolo_param.class_file_path: os.getcwd()+\"/train/_darknet.labels\"\n",
    "}\n",
    "wf.set_parameters(task_id=dataset_yolo_id, params=dataset_yolo_params)\n",
    "\n",
    "#----------------------------- Step 3 -----------------------------------#\n",
    "# Then, you want to train a YOLOv7 model.\n",
    "# Add YOLOv7 training algorithm to your workflow\n",
    "#------------------------------------------------------------------------#\n",
    "yolo7_id, yolo7 = wf.add_task(ik.train_yolo_v7)\n",
    "\n",
    "# Specify where to put the pre-trained model and set hyperparameters\n",
    "train_yolo_v7_params = {\n",
    "    ik.train_yolo_v7_param.output_folder: os.getcwd(),\n",
    "    ik.train_yolo_v7_param.batch_size: 16, # <-- Reduce the batch size if you encounter some \"Cuda out of memory\"\n",
    "    ik.train_yolo_v7_param.epochs: 150 \n",
    "}\n",
    "wf.set_parameters(task_id=yolo7_id, params=train_yolo_v7_params)\n",
    "\n",
    "\n",
    "#----------------------------- Step 4 -----------------------------------#\n",
    "# Connect your tasks I/O (Input/Output).\n",
    "# In this example, all connections are automatic because \"dataset_yolo\"\n",
    "# outputs exactly fit with \"train_yolo\" inputs\n",
    "#------------------------------------------------------------------------#\n",
    "wf.connect_tasks(dataset_yolo_id, yolo7_id)\n",
    "#----------------------------- Step 5 -----------------------------------#\n",
    "# Execute your workflow.\n",
    "# It automatically runs all your tasks sequentially.\n",
    "#------------------------------------------------------------------------#\n",
    "wf.run()"
   ]
  },
  {
   "cell_type": "markdown",
   "metadata": {
    "id": "rpsaQoYSwma8"
   },
   "source": [
    "## How to execute YOLOv7 on images"
   ]
  },
  {
   "cell_type": "markdown",
   "metadata": {
    "id": "-H2JCp2SOD2a"
   },
   "source": [
    "Once the training is finished, you may want to experiment the fresh model on new test images. Just use the following code to execute YOLO v7 inference on your image."
   ]
  },
  {
   "cell_type": "code",
   "execution_count": 6,
   "metadata": {
    "id": "ecT5qPDywrEi"
   },
   "outputs": [
    {
     "name": "stdout",
     "output_type": "stream",
     "text": [
      "Will run on cuda\n",
      "Downloading model for yolov7\n",
      "Fusing layers... \n",
      "Model Summary: 407 layers, 37620125 parameters, 37620125 gradients, 106.5 GFLOPS\n"
     ]
    }
   ],
   "source": [
    "from ikomia.dataprocess import workflow, registry\n",
    "from ikomia.utils import ik\n",
    "import cv2\n",
    "\n",
    "# Create your workflow for YOLO inference\n",
    "wf = workflow.create(\"YOLOv7 inference\")\n",
    "\n",
    "# Add YOLO v7 to your workflow\n",
    "yolo7_id, yolo7 = wf.add_task(ik.infer_yolo_v7)\n",
    "\n",
    "# Set custom parameters\n",
    "# Uncomment these 6 lines if you want to use your custom model\n",
    "# yolo7_params = {\n",
    "#     ik.infer_yolo_v7_param.custom_train: True,\n",
    "#     ik.infer_yolo_v7_param.custom_model: os.getcwd()+\"/folder_name/weights/best.pt\", # <-- replace \"folder_name\" by the correct folder name in your current folder (/content/ for Google Colab)\n",
    "#     ik.infer_yolo_v7_param.thr_conf: 0.25\n",
    "# }\n",
    "# wf.set_parameters(task_id=yolo7_id, params=yolo7_params)\n",
    "\n",
    "# Connect YOLO v7 with the root task\n",
    "wf.connect_tasks(wf.getRootID(), yolo7_id)\n",
    "\n",
    "# Apply YOLO v7 on your image\n",
    "# By default, YOLOv7 runs with a pre-trained model based on COCO\n",
    "# To use your custom model, set the parameters above\n",
    "wf.run_on(path=os.getcwd()+\"/train/yt1s-com---Resume-Tottenham-20-West-Bromwich-Premier-League-J23_720p-fps-2_00044_jpeg_jpg.rf.9de8afe0132987f478d16d536e768a67.jpg\")"
   ]
  },
  {
   "cell_type": "markdown",
   "metadata": {},
   "source": [
    "## Display your results"
   ]
  },
  {
   "cell_type": "code",
   "execution_count": 8,
   "metadata": {},
   "outputs": [
    {
     "data": {
      "image/png": "[encoded data removed]",
      "text/plain": [
       "<IPython.core.display.Image object>"
      ]
     },
     "metadata": {},
     "output_type": "display_data"
    }
   ],
   "source": [
    "# Utility function for displaying image\n",
    "def imshow(img):\n",
    "    import cv2\n",
    "    import IPython\n",
    "    _,ret = cv2.imencode('.jpg', img) \n",
    "    i = IPython.display.Image(data=ret)\n",
    "    IPython.display.display(i)\n",
    "    \n",
    "# Get YOLO v7 image result\n",
    "img_bbox = wf.get_image_with_graphics(task_id=yolo7_id)\n",
    "\n",
    "# Display in Colab\n",
    "img_bbox = cv2.cvtColor(img_bbox, cv2.COLOR_BGR2RGB)\n",
    "imshow(img_bbox)"
   ]
  },
  {
   "cell_type": "markdown",
   "metadata": {
    "id": "e8NF6rmzkNjT"
   },
   "source": [
    "## -Google Colab ONLY- Save your YOLO v7 model in your Google Drive account\n",
    "\n"
   ]
  },
  {
   "cell_type": "code",
   "execution_count": null,
   "metadata": {
    "colab": {
     "base_uri": "https://localhost:8080/"
    },
    "id": "8tbX9joziSxe",
    "outputId": "83649d92-c555-4ef3-cf7e-54dd14669a68"
   },
   "outputs": [],
   "source": [
    "# from google.colab import drive\n",
    "# drive.mount('/content/gdrive')\n",
    "\n",
    "# Uncomment and insert the correct \"folder name\" in the following path\n",
    "#%cp /content/foler_name/weights/best.pt /content/gdrive/MyDrive"
   ]
  },
  {
   "cell_type": "markdown",
   "metadata": {
    "id": "DyS-Lak6kntB"
   },
   "source": [
    "## -Google Colab ONLY- Download directly your custom model"
   ]
  },
  {
   "cell_type": "code",
   "execution_count": null,
   "metadata": {
    "colab": {
     "base_uri": "https://localhost:8080/",
     "height": 17
    },
    "id": "s_E2W_3hk07U",
    "outputId": "41ba4234-45b5-4958-804e-4ea3e4d9a5e1"
   },
   "outputs": [],
   "source": [
    "#from google.colab import files\n",
    "\n",
    "# Uncomment and insert the correct \"folder name\" in the following path\n",
    "#files.download('/content/folder_name/weights/best.pt')"
   ]
  }
 ],
 "metadata": {
  "accelerator": "GPU",
  "colab": {
   "collapsed_sections": [],
   "provenance": [],
   "toc_visible": true
  },
  "kernelspec": {
   "display_name": "Python 3 (ipykernel)",
   "language": "python",
   "name": "python3"
  },
  "language_info": {
   "codemirror_mode": {
    "name": "ipython",
    "version": 3
   },
   "file_extension": ".py",
   "mimetype": "text/x-python",
   "name": "python",
   "nbconvert_exporter": "python",
   "pygments_lexer": "ipython3",
   "version": "3.7.14"
  }
 },
 "nbformat": 4,
 "nbformat_minor": 4
}
