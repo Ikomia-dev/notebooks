{
 "cells": [
  {
   "cell_type": "markdown",
   "metadata": {
    "id": "9jhW6_ynZ2pS"
   },
   "source": [
    "<img src='https://ikomia.com/wp-content/uploads/2022/10/banner.png'>\n",
    "\n",
    "\n"
   ]
  },
  {
   "cell_type": "markdown",
   "metadata": {
    "id": "hQfRa5xGZ2pX"
   },
   "source": [
    "# How to use Detectron2 Object Detection with Ikomia API"
   ]
  },
  {
   "cell_type": "markdown",
   "metadata": {
    "id": "5vJS53BiZ2pa"
   },
   "source": [
    "[Detectron2](https://github.com/facebookresearch/detectron2) is Python Library created by Facebook and providing many algorithms for object detection, object segmentation or pose estimation.\n",
    "\n",
    "Detectron2 is open source, maintained by Facebook and you can built your own project on top of it.\n",
    "\n",
    "In this tutorial, we present how it can be very easy to use Detectron2 Object Detection algorithms with a few lines of code.\n",
    "\n",
    "## ENJOY 🥰 !!\n",
    "\n",
    "<p float=\"left\">\n",
    "  <img src=\"http://images.cocodataset.org/val2017/000000439715.jpg\" width=\"500\" />\n",
    "  <img src=\"https://ikomia.com/wp-content/uploads/2022/10/img_d2.png\" width=\"500\" /> \n",
    "</p>"
   ]
  },
  {
   "cell_type": "markdown",
   "metadata": {
    "id": "x4CdI0J1ej5b"
   },
   "source": [
    "## Setup"
   ]
  },
  {
   "cell_type": "markdown",
   "metadata": {
    "id": "NBmJN2AaDmcI"
   },
   "source": [
    "You need to install Ikomia Python API on Google Colab with pip."
   ]
  },
  {
   "cell_type": "code",
   "execution_count": null,
   "metadata": {
    "colab": {
     "base_uri": "https://localhost:8080/",
     "height": 1000
    },
    "id": "8eSnQYJygrDy",
    "outputId": "5588f89a-c9cb-4dde-bcea-a96e00745919"
   },
   "outputs": [],
   "source": [
    "!pip install ikomia"
   ]
  },
  {
   "cell_type": "markdown",
   "metadata": {
    "id": "ktbA-VPOATgP"
   },
   "source": [
    "\n",
    "\n",
    "---\n",
    "\n",
    "\n",
    "**-Google Colab ONLY- Restart runtime**\n",
    "\n",
    "Some Python packages have been updated. Please click on the \"RESTART RUNTIME\" button at the end the previous window.\n",
    "\n",
    "\n",
    "\n"
   ]
  },
  {
   "cell_type": "markdown",
   "metadata": {
    "id": "2hS1T6ky1Wcw"
   },
   "source": [
    "---"
   ]
  },
  {
   "cell_type": "markdown",
   "metadata": {
    "id": "JJsRFzl9Au1c"
   },
   "source": [
    "Use your credentials to connect with Ikomia Hub and access more than 60 algorithms and 800+ models.\n",
    "\n",
    "Your credentials are the same as you use to login to our website, if you don't have any credentials, follow this link\n",
    "\n",
    "https://members.ikomia.com/accounts/signup/"
   ]
  },
  {
   "cell_type": "code",
   "execution_count": null,
   "metadata": {
    "colab": {
     "base_uri": "https://localhost:8080/"
    },
    "id": "62DlRNwzYCam",
    "outputId": "1d9f3087-c621-46c7-9838-56036a578d4d"
   },
   "outputs": [],
   "source": [
    "import ikomia\n",
    "import os\n",
    "\n",
    "# Easy and unsafe authentication | Only for personal use\n",
    "os.environ['IKOMIA_USER'] = \"your_login\"\n",
    "os.environ['IKOMIA_PWD'] = \"your_password\"\n",
    "\n",
    "ikomia.authenticate()"
   ]
  },
  {
   "cell_type": "markdown",
   "metadata": {
    "id": "jEdZ_uDYDqjH"
   },
   "source": [
    "## Apply Detectron2 Object Detection algorithms on your images\n",
    "\n",
    "First, you create a new workflow from scratch.\n",
    "\n",
    "Then you add the Detectron2 algorithm and it will automagically download the algorithm from Ikomia Hub and install all the Python dependencies (the 1st time, it can take a while, be patient ! )."
   ]
  },
  {
   "cell_type": "code",
   "execution_count": null,
   "metadata": {
    "id": "bRPYGcRd1Pwh"
   },
   "outputs": [],
   "source": [
    "from ikomia.utils import ik\n",
    "from ikomia.dataprocess import workflow, displayIO\n",
    "\n",
    "# Create workflow from scratch\n",
    "wf = workflow.create(\"Detectron2 Object Detection Demo\")\n",
    "\n",
    "# Add algorithms to your workflow\n",
    "d2_id, d2 = wf.add_task(ik.infer_detectron2_detection)\n",
    "\n",
    "# Connect your tasks\n",
    "wf.connect_tasks(wf.getRootID(), d2_id)"
   ]
  },
  {
   "cell_type": "markdown",
   "metadata": {
    "id": "_MvDkGjQCtRV"
   },
   "source": [
    "Once Detectron2 is installed, you can check the available pre-trained models by code."
   ]
  },
  {
   "cell_type": "code",
   "execution_count": null,
   "metadata": {
    "colab": {
     "base_uri": "https://localhost:8080/"
    },
    "id": "IS0PJjHYvwVt",
    "outputId": "186064e8-0b9e-411c-8988-456888d480b2"
   },
   "outputs": [],
   "source": [
    "import detectron2\n",
    "import os\n",
    "\n",
    "config_paths = os.path.dirname(detectron2.__file__) + \"/model_zoo\"\n",
    "\n",
    "available_cfg = []\n",
    "for root, dirs, files in os.walk(config_paths, topdown=False):\n",
    "    for name in files:\n",
    "        file_path = os.path.join(root, name)\n",
    "        possible_cfg = os.path.join(*file_path.split('/')[-2:])\n",
    "        if \"Detection\" in possible_cfg and possible_cfg.endswith('.yaml') and 'rpn' not in possible_cfg:\n",
    "            available_cfg.append(possible_cfg.replace('.yaml', ''))\n",
    "for model_name in available_cfg:\n",
    "    print(model_name)"
   ]
  },
  {
   "cell_type": "markdown",
   "metadata": {
    "id": "NKPLZWQ1LtQp"
   },
   "source": [
    "Download your image by changing the url."
   ]
  },
  {
   "cell_type": "code",
   "execution_count": null,
   "metadata": {
    "colab": {
     "base_uri": "https://localhost:8080/"
    },
    "id": "QYNohwcoKU4n",
    "outputId": "5a5ddc60-53a0-41f8-b8ca-d45bbdf1eb26"
   },
   "outputs": [],
   "source": [
    "!wget http://images.cocodataset.org/val2017/000000439715.jpg -O image.jpg"
   ]
  },
  {
   "cell_type": "markdown",
   "metadata": {
    "id": "7eX8QVkgMAF3"
   },
   "source": [
    "Now select your preferred model and run on your image."
   ]
  },
  {
   "cell_type": "code",
   "execution_count": null,
   "metadata": {
    "colab": {
     "base_uri": "https://localhost:8080/",
     "height": 497
    },
    "id": "8GnJyWEUwoOF",
    "outputId": "408ca135-820a-4a09-8918-7265a8521ad2"
   },
   "outputs": [],
   "source": [
    "from ikomia.core import task\n",
    "import cv2\n",
    "\n",
    "# Set your preferred model\n",
    "d2_params = {\n",
    "    ik.infer_detectron2_detection_param.model_name: \"COCO-Detection/faster_rcnn_R_50_C4_3x\" # <-- change your model here\n",
    "}\n",
    "wf.set_parameters(task_id=d2_id, params=d2_params)\n",
    "\n",
    "# Run\n",
    "wf.run_on(path=os.getcwd()+\"/image.jpg\")"
   ]
  },
  {
   "cell_type": "markdown",
   "metadata": {},
   "source": [
    "## Display your results"
   ]
  },
  {
   "cell_type": "markdown",
   "metadata": {},
   "source": [
    "Utility function for displaying image"
   ]
  },
  {
   "cell_type": "code",
   "execution_count": null,
   "metadata": {},
   "outputs": [],
   "source": [
    "def imshow(img):\n",
    "    import cv2\n",
    "    import IPython\n",
    "    _,ret = cv2.imencode('.jpg', img) \n",
    "    i = IPython.display.Image(data=ret)\n",
    "    IPython.display.display(i)"
   ]
  },
  {
   "cell_type": "code",
   "execution_count": null,
   "metadata": {},
   "outputs": [],
   "source": [
    "# Display\n",
    "img_d2 = wf.get_image_with_graphics(d2_id)\n",
    "\n",
    "img_d2 = cv2.cvtColor(img_d2, cv2.COLOR_RGB2BGR)\n",
    "imshow(img_d2)"
   ]
  },
  {
   "cell_type": "markdown",
   "metadata": {
    "id": "rpsaQoYSwma8"
   },
   "source": [
    "## -Google Colab ONLY- Save your custom image in your Google Drive space"
   ]
  },
  {
   "cell_type": "code",
   "execution_count": null,
   "metadata": {
    "colab": {
     "base_uri": "https://localhost:8080/"
    },
    "id": "pKPQ1JUCwdGW",
    "outputId": "afcb97f5-8fc8-4da2-dae5-446d17246ad9"
   },
   "outputs": [],
   "source": [
    "# Uncomment these lines if you're working on Colab\n",
    "# from google.colab import drive\n",
    "# drive.mount('/content/gdrive')\n",
    "\n",
    "# cv2.imwrite(\"/content/gdrive/MyDrive/img_d2.png\", img_d2)"
   ]
  },
  {
   "cell_type": "markdown",
   "metadata": {
    "id": "DyS-Lak6kntB"
   },
   "source": [
    "## -Google Colab ONLY- Download directly your custom image"
   ]
  },
  {
   "cell_type": "code",
   "execution_count": null,
   "metadata": {
    "colab": {
     "base_uri": "https://localhost:8080/",
     "height": 17
    },
    "id": "s_E2W_3hk07U",
    "outputId": "e639ba39-14aa-4b99-8c0b-3034734f09c6"
   },
   "outputs": [],
   "source": [
    "# Uncomment these lines if you're working on Colab\n",
    "# from google.colab import files\n",
    "# cv2.imwrite(\"/content/img_d2.png\", img_d2)\n",
    "# files.download('/content/img_d2.png')"
   ]
  }
 ],
 "metadata": {
  "colab": {
   "collapsed_sections": [],
   "provenance": []
  },
  "gpuClass": "standard",
  "kernelspec": {
   "display_name": "Python 3 (ipykernel)",
   "language": "python",
   "name": "python3"
  },
  "language_info": {
   "codemirror_mode": {
    "name": "ipython",
    "version": 3
   },
   "file_extension": ".py",
   "mimetype": "text/x-python",
   "name": "python",
   "nbconvert_exporter": "python",
   "pygments_lexer": "ipython3",
   "version": "3.7.14"
  }
 },
 "nbformat": 4,
 "nbformat_minor": 4
}