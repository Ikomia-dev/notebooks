{
 "cells": [
  {
   "cell_type": "markdown",
   "metadata": {
    "id": "9jhW6_ynZ2pS"
   },
   "source": [
    "<img src='https://github.com/Ikomia-dev/notebooks/blob/main/examples/img/banner_ikomia.png?raw=true'>\n",
    "\n",
    "\n"
   ]
  },
  {
   "cell_type": "markdown",
   "metadata": {
    "id": "hQfRa5xGZ2pX"
   },
   "source": [
    "# How to use Detectron2 Object Detection with Ikomia API"
   ]
  },
  {
   "cell_type": "markdown",
   "metadata": {
    "id": "5vJS53BiZ2pa"
   },
   "source": [
    "[Detectron2](https://github.com/facebookresearch/detectron2) is Python Library created by Facebook and providing many algorithms for object detection, object segmentation or pose estimation.\n",
    "\n",
    "Detectron2 is open source, maintained by Facebook and you can built your own project on top of it.\n",
    "\n",
    "In this tutorial, we present how it can be very easy to use Detectron2 Object Detection algorithms with a few lines of code.\n",
    "\n",
    "If you like this tutorial, you can support our project here [Ikomia API GitHub](https://github.com/Ikomia-dev/IkomiaApi).\n",
    "\n",
    "## ENJOY 🥰 !!\n",
    "\n",
    "<p float=\"left\">\n",
    "  <img src=\"https://github.com/Ikomia-dev/notebooks/blob/main/examples/img/img_d2_original.jpg?raw=true\" width=\"500\" />\n",
    "  <img src=\"https://github.com/Ikomia-dev/notebooks/blob/main/examples/img/img_d2.png?raw=true\" width=\"500\" /> \n",
    "</p>"
   ]
  },
  {
   "cell_type": "markdown",
   "metadata": {
    "id": "x4CdI0J1ej5b"
   },
   "source": [
    "## Setup"
   ]
  },
  {
   "cell_type": "markdown",
   "metadata": {
    "id": "NBmJN2AaDmcI"
   },
   "source": [
    "You need to install Ikomia Python API on Google Colab with pip."
   ]
  },
  {
   "cell_type": "code",
   "execution_count": null,
   "metadata": {
    "colab": {
     "base_uri": "https://localhost:8080/",
     "height": 1000
    },
    "id": "8eSnQYJygrDy",
    "outputId": "5588f89a-c9cb-4dde-bcea-a96e00745919"
   },
   "outputs": [],
   "source": [
    "!pip install ikomia"
   ]
  },
  {
   "cell_type": "markdown",
   "metadata": {
    "id": "ktbA-VPOATgP"
   },
   "source": [
    "\n",
    "\n",
    "---\n",
    "\n",
    "\n",
    "**-Google Colab ONLY- Restart runtime**\n",
    "\n",
    "Some Python packages have been updated. Please click on the \"RESTART RUNTIME\" button at the end the previous window.\n",
    "\n",
    "\n",
    "\n"
   ]
  },
  {
   "cell_type": "markdown",
   "metadata": {
    "id": "2hS1T6ky1Wcw"
   },
   "source": [
    "---"
   ]
  },
  {
   "cell_type": "markdown",
   "metadata": {
    "id": "JJsRFzl9Au1c"
   },
   "source": [
    "Ikomia API has already more than 180 pre-integrated algorithms (mainly OpenCV) but the most interesting algorithms are in [Ikomia HUB](https://github.com/Ikomia-hub). \n",
    "\n",
    "We push regularly state-of-the-art algorithms from individual repos (think of YOLO v7 for example) or from companies (Facebook Detectron2 or Ultralytics/YOLOv5 for example)."
   ]
  },
  {
   "cell_type": "markdown",
   "metadata": {
    "id": "jEdZ_uDYDqjH"
   },
   "source": [
    "## Apply Detectron2 Object Detection algorithms on your images\n",
    "\n",
    "First, you create a new workflow from scratch.\n",
    "\n",
    "Then you add the Detectron2 algorithm and it will automagically download the algorithm from Ikomia Hub and install all the Python dependencies (the 1st time, it can take a while, be patient ! )."
   ]
  },
  {
   "cell_type": "code",
   "execution_count": null,
   "metadata": {
    "id": "bRPYGcRd1Pwh"
   },
   "outputs": [],
   "source": [
    "from ikomia.dataprocess.workflow import Workflow\n",
    "from ikomia.utils import ik\n",
    "\n",
    "# Create workflow from scratch\n",
    "wf = Workflow()\n",
    "\n",
    "# Add algorithms to your workflow\n",
    "d2 = wf.add_task(ik.infer_detectron2_detection(), auto_connect=True)"
   ]
  },
  {
   "cell_type": "markdown",
   "metadata": {
    "id": "_MvDkGjQCtRV"
   },
   "source": [
    "Once Detectron2 is installed, you can check the available pre-trained models by code."
   ]
  },
  {
   "cell_type": "code",
   "execution_count": null,
   "metadata": {
    "colab": {
     "base_uri": "https://localhost:8080/"
    },
    "id": "IS0PJjHYvwVt",
    "outputId": "186064e8-0b9e-411c-8988-456888d480b2"
   },
   "outputs": [],
   "source": [
    "import detectron2\n",
    "import os\n",
    "\n",
    "config_paths = os.path.dirname(detectron2.__file__) + \"/model_zoo\"\n",
    "\n",
    "available_cfg = []\n",
    "for root, dirs, files in os.walk(config_paths, topdown=False):\n",
    "    for name in files:\n",
    "        file_path = os.path.join(root, name)\n",
    "        possible_cfg = os.path.join(*file_path.split('/')[-2:])\n",
    "        if \"Detection\" in possible_cfg and possible_cfg.endswith('.yaml') and 'rpn' not in possible_cfg:\n",
    "            available_cfg.append(possible_cfg.replace('.yaml', ''))\n",
    "for model_name in available_cfg:\n",
    "    print(model_name)"
   ]
  },
  {
   "cell_type": "markdown",
   "metadata": {
    "id": "NKPLZWQ1LtQp"
   },
   "source": [
    "Select your image by changing the url."
   ]
  },
  {
   "cell_type": "code",
   "execution_count": null,
   "metadata": {
    "colab": {
     "base_uri": "https://localhost:8080/"
    },
    "id": "QYNohwcoKU4n",
    "outputId": "5a5ddc60-53a0-41f8-b8ca-d45bbdf1eb26"
   },
   "outputs": [],
   "source": [
    "import requests\n",
    "\n",
    "# Download the image\n",
    "url = \"http://images.cocodataset.org/val2017/000000439715.jpg\"\n",
    "response = requests.get(url, stream=True)\n",
    "with open(\"image.jpg\", \"wb\") as file:\n",
    "    for chunk in response.iter_content(chunk_size=8192):\n",
    "        file.write(chunk)"
   ]
  },
  {
   "cell_type": "markdown",
   "metadata": {
    "id": "7eX8QVkgMAF3"
   },
   "source": [
    "Now select your preferred model. Then run and test !"
   ]
  },
  {
   "cell_type": "code",
   "execution_count": null,
   "metadata": {
    "colab": {
     "base_uri": "https://localhost:8080/",
     "height": 497
    },
    "id": "8GnJyWEUwoOF",
    "outputId": "408ca135-820a-4a09-8918-7265a8521ad2"
   },
   "outputs": [],
   "source": [
    "# Set your preferred model\n",
    "d2_params = {\n",
    "    ik.infer_detectron2_detection.model_name: \"COCO-Detection/faster_rcnn_R_50_C4_3x\" # <-- change your model here\n",
    "}\n",
    "d2.set_parameters(d2_params)"
   ]
  },
  {
   "cell_type": "markdown",
   "metadata": {},
   "source": [
    "## Run and display your results"
   ]
  },
  {
   "cell_type": "code",
   "execution_count": null,
   "metadata": {},
   "outputs": [],
   "source": [
    "from ikomia.utils.displayIO import display\n",
    "from PIL import ImageShow\n",
    "ImageShow.register(ImageShow.IPythonViewer(), 0)\n",
    "\n",
    "# Run\n",
    "wf.run_on(path=os.getcwd()+\"/image.jpg\")\n",
    "\n",
    "# Display\n",
    "img_d2 = d2.get_image_with_graphics()\n",
    "\n",
    "display(img_d2)"
   ]
  },
  {
   "cell_type": "markdown",
   "metadata": {
    "id": "rpsaQoYSwma8",
    "tags": []
   },
   "source": [
    "## -Google Colab ONLY- Save your custom image in your Google Drive space"
   ]
  },
  {
   "cell_type": "code",
   "execution_count": null,
   "metadata": {
    "colab": {
     "base_uri": "https://localhost:8080/"
    },
    "id": "pKPQ1JUCwdGW",
    "outputId": "afcb97f5-8fc8-4da2-dae5-446d17246ad9"
   },
   "outputs": [],
   "source": [
    "# Uncomment these lines if you're working on Colab\n",
    "# from google.colab import drive\n",
    "# drive.mount('/content/gdrive')\n",
    "\n",
    "# cv2.imwrite(\"/content/gdrive/MyDrive/img_d2.png\", img_d2)"
   ]
  },
  {
   "cell_type": "markdown",
   "metadata": {
    "id": "DyS-Lak6kntB"
   },
   "source": [
    "## -Google Colab ONLY- Download directly your custom image"
   ]
  },
  {
   "cell_type": "code",
   "execution_count": null,
   "metadata": {
    "colab": {
     "base_uri": "https://localhost:8080/",
     "height": 17
    },
    "id": "s_E2W_3hk07U",
    "outputId": "e639ba39-14aa-4b99-8c0b-3034734f09c6"
   },
   "outputs": [],
   "source": [
    "# Uncomment these lines if you're working on Colab\n",
    "# from google.colab import files\n",
    "# cv2.imwrite(\"/content/img_d2.png\", img_d2)\n",
    "# files.download('/content/img_d2.png')"
   ]
  }
 ],
 "metadata": {
  "colab": {
   "collapsed_sections": [],
   "provenance": []
  },
  "gpuClass": "standard",
  "kernelspec": {
   "display_name": "venv37",
   "language": "python",
   "name": "venv37"
  },
  "language_info": {
   "codemirror_mode": {
    "name": "ipython",
    "version": 3
   },
   "file_extension": ".py",
   "mimetype": "text/x-python",
   "name": "python",
   "nbconvert_exporter": "python",
   "pygments_lexer": "ipython3",
   "version": "3.7.9"
  }
 },
 "nbformat": 4,
 "nbformat_minor": 4
}
