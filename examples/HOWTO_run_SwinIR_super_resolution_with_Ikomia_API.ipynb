{
 "cells": [
  {
   "attachments": {},
   "cell_type": "markdown",
   "metadata": {},
   "source": [
    "<img src='https://github.com/Ikomia-dev/notebooks/blob/main/examples/img/banner_ikomia.png?raw=true'>\n",
    "\n",
    "\n"
   ]
  },
  {
   "attachments": {},
   "cell_type": "markdown",
   "metadata": {},
   "source": [
    "# How to run SwinIR with the Ikomia API "
   ]
  },
  {
   "cell_type": "markdown",
   "metadata": {},
   "source": [
    "SwinIR is an open-source model that ranks among the best for various super-resolution tasks, showcasing remarkable effectiveness, showcasing remarkable effectiveness and adaptability across diverse real-world degradation scenarios.\n",
    "![SwinIR illustration](https://assets-global.website-files.com/645cec60ffb18d5ebb37da4b/653a1a9a4a8367e11c5b58f2_Picture1%20(1).jpg)\n"
   ]
  },
  {
   "attachments": {},
   "cell_type": "markdown",
   "metadata": {},
   "source": [
    "## Setup"
   ]
  },
  {
   "cell_type": "markdown",
   "metadata": {},
   "source": [
    "Please use a GPU for this tutorial.\n",
    "\n",
    "In the Google colab menu, select \"Runtime\" then \"Change runtime type\", choose GPU in \"Hardware accelerator\".\n",
    "\n",
    "Check your GPU with the following command:"
   ]
  },
  {
   "cell_type": "code",
   "execution_count": null,
   "metadata": {},
   "outputs": [],
   "source": [
    "!nvidia-smi"
   ]
  },
  {
   "attachments": {},
   "cell_type": "markdown",
   "metadata": {},
   "source": [
    "First, you need to install Ikomia API pip package."
   ]
  },
  {
   "cell_type": "code",
   "execution_count": null,
   "metadata": {},
   "outputs": [],
   "source": [
    "!pip install ikomia"
   ]
  },
  {
   "cell_type": "markdown",
   "metadata": {},
   "source": [
    "---\n",
    "\n",
    "**-Google Colab ONLY- Restart runtime**\n",
    "\n",
    "Click on the \"RESTART RUNTIME\" button at the end the previous window.\n",
    "\n",
    "---"
   ]
  },
  {
   "attachments": {},
   "cell_type": "markdown",
   "metadata": {},
   "source": [
    "## Run the face detector and blurring on your image"
   ]
  },
  {
   "cell_type": "code",
   "execution_count": null,
   "metadata": {},
   "outputs": [],
   "source": [
    "from ikomia.dataprocess.workflow import Workflow\n",
    "from ikomia.utils.displayIO import display\n",
    "\n",
    "\n",
    "# Init your workflow\n",
    "wf = Workflow()    \n",
    "\n",
    "\n",
    "# Add the SwinIR algorithm\n",
    "swinir = wf.add_task(name=\"infer_swinir_super_resolution\", auto_connect=True)\n",
    "\n",
    "swinir.set_parameters({\n",
    "    \"use_gan\": \"True\",\n",
    "    \"large_model\": \"True\",\n",
    "    \"cuda\": \"True\",\n",
    "    \"tile\": \"256\",\n",
    "    \"overlap_ratio\": \"0.1\",\n",
    "    \"scale\": \"4\"\n",
    "})\n",
    "\n",
    "# Run on your image  \n",
    "wf.run_on(url=\"https://github.com/JingyunLiang/SwinIR/blob/main/figs/ETH_LR.png?raw=true\")"
   ]
  },
  {
   "cell_type": "code",
   "execution_count": null,
   "metadata": {},
   "outputs": [],
   "source": [
    "# Display image on Google Colab\n",
    "from PIL import ImageShow\n",
    "ImageShow.register(ImageShow.IPythonViewer(), 0)\n",
    "\n",
    "display(swinir.get_input(0).get_image())"
   ]
  },
  {
   "cell_type": "code",
   "execution_count": null,
   "metadata": {},
   "outputs": [],
   "source": [
    "display(swinir.get_output(0).get_image())"
   ]
  }
 ],
 "metadata": {
  "kernelspec": {
   "display_name": "venvapi",
   "language": "python",
   "name": "venvapi"
  },
  "language_info": {
   "codemirror_mode": {
    "name": "ipython",
    "version": 3
   },
   "file_extension": ".py",
   "mimetype": "text/x-python",
   "name": "python",
   "nbconvert_exporter": "python",
   "pygments_lexer": "ipython3",
   "version": "3.9.13"
  },
  "orig_nbformat": 4
 },
 "nbformat": 4,
 "nbformat_minor": 2
}
