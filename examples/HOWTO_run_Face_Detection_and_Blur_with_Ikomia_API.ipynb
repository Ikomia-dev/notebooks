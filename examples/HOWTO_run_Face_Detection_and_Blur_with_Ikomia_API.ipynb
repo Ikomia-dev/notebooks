{
 "cells": [
  {
   "attachments": {},
   "cell_type": "markdown",
   "metadata": {},
   "source": [
    "<img src='https://github.com/Ikomia-dev/notebooks/blob/main/examples/img/banner_ikomia.png?raw=true'>\n",
    "\n",
    "\n"
   ]
  },
  {
   "attachments": {},
   "cell_type": "markdown",
   "metadata": {},
   "source": [
    "# How to run Kornia face detector and face blurring with the Ikomia API "
   ]
  },
  {
   "attachments": {},
   "cell_type": "markdown",
   "metadata": {},
   "source": [
    "Kornia is an open-source computer vision library for Python, specifically designed for use with the PyTorch deep learning framework. It provides differentiable computer vision applications, such as Deep Edge detection, Semantic and Panoptic segmentation, Object Detection and Tracking, Image classification…\n",
    "\n",
    "The Kornia face detection uses a light weight deep learning model named YuNet. It offers a millisecond-level detection speed, making it ideal for edge computing.\n",
    "\n",
    "For more info on Kornia: https://github.com/kornia/kornia"
   ]
  },
  {
   "attachments": {},
   "cell_type": "markdown",
   "metadata": {},
   "source": [
    "## Setup"
   ]
  },
  {
   "attachments": {},
   "cell_type": "markdown",
   "metadata": {},
   "source": [
    "You need to install Ikomia Python API with pip (and update numpy in Colab)\n"
   ]
  },
  {
   "cell_type": "code",
   "execution_count": null,
   "metadata": {},
   "outputs": [],
   "source": [
    "!pip install ikomia"
   ]
  },
  {
   "attachments": {},
   "cell_type": "markdown",
   "metadata": {},
   "source": [
    "## Run the face detector and blurring on your image"
   ]
  },
  {
   "cell_type": "code",
   "execution_count": 15,
   "metadata": {},
   "outputs": [
    {
     "name": "stdout",
     "output_type": "stream",
     "text": [
      "Will run on cuda\n",
      "Workflow Untitled run successfully in 256.8126 ms.\n"
     ]
    }
   ],
   "source": [
    "from ikomia.dataprocess.workflow import Workflow\n",
    "from ikomia.utils.displayIO import display\n",
    "\n",
    "# Init the workflow\n",
    "wf = Workflow()\n",
    "\n",
    "# Add and connect algorithms\n",
    "face = wf.add_task(name=\"infer_face_detection_kornia\", auto_connect=True)\n",
    "face.set_parameters({\n",
    "            \"conf_thres\": \"0.5\",\n",
    "                })\n",
    "\n",
    "blur = wf.add_task(name=\"ocv_blur\", auto_connect=True)\n",
    "\n",
    "# Set parameters\n",
    "blur.set_parameters({\n",
    "            \"kSizeWidth\": \"61\", \n",
    "            \"kSizeHeight\":\"61\"\n",
    "            })\n",
    "\n",
    "# Run on your image\n",
    "wf.run_on(path=\"path/to/your/image.png\")\n",
    "\n",
    "# Inspect results\n",
    "display(face.get_image_with_graphics())\n",
    "display(blur.get_output(0).get_image())\n"
   ]
  },
  {
   "attachments": {},
   "cell_type": "markdown",
   "metadata": {},
   "source": [
    "## Run on your webcam (Jupyter notebook)"
   ]
  },
  {
   "cell_type": "code",
   "execution_count": null,
   "metadata": {},
   "outputs": [],
   "source": [
    "from ikomia.dataprocess.workflow import Workflow\n",
    "from ikomia.utils.displayIO import display\n",
    "import cv2\n",
    "\n",
    "stream = cv2.VideoCapture(0)\n",
    "\n",
    "# Init the workflow\n",
    "wf = Workflow()\n",
    "\n",
    "# Add and connect algorithms\n",
    "face = wf.add_task(name=\"infer_face_detection_kornia\", auto_connect=True)\n",
    "face.set_parameters({\n",
    "            \"conf_thres\": \"0.5\",\n",
    "                })\n",
    "\n",
    "blur = wf.add_task(name=\"ocv_blur\", auto_connect=True)\n",
    "\n",
    "# Set parameters\n",
    "blur.set_parameters({\n",
    "            \"kSizeWidth\": \"61\", \n",
    "            \"kSizeHeight\":\"61\"\n",
    "            })\n",
    "\n",
    "\n",
    "while True:\n",
    "    # Read image from stream\n",
    "    ret, frame = stream.read()\n",
    "\n",
    "    # Test if streaming is OK\n",
    "    if not ret:\n",
    "        continue\n",
    "    \n",
    "    # Display image with OpenCV\n",
    "    frame = cv2.cvtColor(frame, cv2.COLOR_BGR2RGB)\n",
    "\n",
    "    # Run workflow on image\n",
    "    wf.run_on(frame)\n",
    "    \n",
    "    # Display results from \"cvt\"\n",
    "    display(blur.get_output(0).get_image(), title=\"Demo - press 'q' to quit \", viewer=\"opencv\")\n",
    "\n",
    "    # Press 'q' to quit the streaming process\n",
    "    if cv2.waitKey(1) & 0xFF == ord('q'):\n",
    "        break\n",
    "\n",
    "# After the loop release the stream object\n",
    "stream.release()\n",
    "# Destroy all windows\n",
    "cv2.destroyAllWindows()\n"
   ]
  },
  {
   "attachments": {},
   "cell_type": "markdown",
   "metadata": {},
   "source": [
    "## -Google Colab ONLY- Save your custom image in your Google Drive space"
   ]
  },
  {
   "cell_type": "code",
   "execution_count": null,
   "metadata": {},
   "outputs": [],
   "source": [
    "# Uncomment these lines if you're working on Colab\n",
    "\"\"\" from google.colab import drive\n",
    "drive.mount('/content/gdrive')\n",
    "\n",
    "cv2.imwrite(\"/content/gdrive/MyDrive/paint_img.png\", img_paint) \"\"\""
   ]
  },
  {
   "attachments": {},
   "cell_type": "markdown",
   "metadata": {},
   "source": [
    "## -Google Colab ONLY- Download directly your custom image"
   ]
  },
  {
   "cell_type": "code",
   "execution_count": null,
   "metadata": {},
   "outputs": [],
   "source": [
    "# Uncomment these lines if you're working on Colab\n",
    "\"\"\" from google.colab import files\n",
    "cv2.imwrite(\"/content/paint_img.png\", img_paint)\n",
    "files.download('/content/paint_img.png') \"\"\""
   ]
  }
 ],
 "metadata": {
  "kernelspec": {
   "display_name": "venvapi",
   "language": "python",
   "name": "venvapi"
  },
  "language_info": {
   "codemirror_mode": {
    "name": "ipython",
    "version": 3
   },
   "file_extension": ".py",
   "mimetype": "text/x-python",
   "name": "python",
   "nbconvert_exporter": "python",
   "pygments_lexer": "ipython3",
   "version": "3.9.13"
  },
  "orig_nbformat": 4
 },
 "nbformat": 4,
 "nbformat_minor": 2
}
