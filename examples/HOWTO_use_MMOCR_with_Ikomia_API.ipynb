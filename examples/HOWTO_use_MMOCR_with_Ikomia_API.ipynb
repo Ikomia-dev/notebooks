{
 "cells": [
  {
   "attachments": {},
   "cell_type": "markdown",
   "metadata": {},
   "source": [
    "<img src='https://github.com/Ikomia-dev/notebooks/blob/main/examples/img/banner_ikomia.png?raw=true'>\n",
    "\n",
    "\n"
   ]
  },
  {
   "attachments": {},
   "cell_type": "markdown",
   "metadata": {},
   "source": [
    "# Easy text extraction with MMOCR "
   ]
  },
  {
   "attachments": {},
   "cell_type": "markdown",
   "metadata": {},
   "source": [
    "MMOCR shines as a top-tier Optical Character Recognition (OCR) toolbox, especially within the Python community.\n",
    "\n",
    "\n",
    "![MMOCR illustration](https://assets-global.website-files.com/645cec60ffb18d5ebb37da4b/652519f32d43293fdac8e303_ikomia_output3.jpg)"
   ]
  },
  {
   "attachments": {},
   "cell_type": "markdown",
   "metadata": {},
   "source": [
    "## Setup"
   ]
  },
  {
   "attachments": {},
   "cell_type": "markdown",
   "metadata": {},
   "source": [
    "You need to install Ikomia Python API with pip\n"
   ]
  },
  {
   "cell_type": "code",
   "execution_count": null,
   "metadata": {},
   "outputs": [],
   "source": [
    "!pip install ikomia"
   ]
  },
  {
   "attachments": {},
   "cell_type": "markdown",
   "metadata": {},
   "source": [
    "## Run MMOCR on your image"
   ]
  },
  {
   "cell_type": "markdown",
   "metadata": {},
   "source": [
    "---\n",
    "\n",
    "**-Google Colab ONLY- Restart runtime after the first run of the workflow below** \n",
    "\n",
    "Click on the \"RESTART RUNTIME\" button at the end the previous window.\n",
    "\n",
    "---"
   ]
  },
  {
   "cell_type": "code",
   "execution_count": null,
   "metadata": {},
   "outputs": [],
   "source": [
    "from ikomia.dataprocess.workflow import Workflow\n",
    "\n",
    "# Init your workflow\n",
    "wf = Workflow()\n",
    "\n",
    "# Add text detection algorithm\n",
    "text_det = wf.add_task(name=\"infer_mmlab_text_detection\", auto_connect=True)\n",
    "\n",
    "# Add text recognition algorithm\n",
    "text_rec = wf.add_task(name=\"infer_mmlab_text_recognition\", auto_connect=True)\n",
    "\n",
    "# Run the workflow on image\n",
    "wf.run_on(url=\"https://aforismi.meglio.it/img/frasi/doing-nothing-nothing-to-do.jpg\")\n"
   ]
  },
  {
   "cell_type": "code",
   "execution_count": null,
   "metadata": {},
   "outputs": [],
   "source": [
    "from PIL import Image\n",
    "from IPython.display import display\n",
    "\n",
    "# Display results\n",
    "img_output = text_rec.get_output(0)\n",
    "recognition_output = text_rec.get_output(1)\n",
    "image_data = img_output.get_image_with_mask_and_graphics(recognition_output)\n",
    "\n",
    "# Create a PIL Image from the NumPy array\n",
    "image = Image.fromarray(image_data)\n",
    "\n",
    "# Display the image\n",
    "display(image)"
   ]
  }
 ],
 "metadata": {
  "kernelspec": {
   "display_name": "venvapi",
   "language": "python",
   "name": "venvapi"
  },
  "language_info": {
   "codemirror_mode": {
    "name": "ipython",
    "version": 3
   },
   "file_extension": ".py",
   "mimetype": "text/x-python",
   "name": "python",
   "nbconvert_exporter": "python",
   "pygments_lexer": "ipython3",
   "version": "3.9.13"
  },
  "orig_nbformat": 4
 },
 "nbformat": 4,
 "nbformat_minor": 2
}
