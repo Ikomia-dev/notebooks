{
 "cells": [
  {
   "attachments": {},
   "cell_type": "markdown",
   "metadata": {},
   "source": [
    "<img src='https://github.com/Ikomia-dev/notebooks/blob/main/examples/img/banner_ikomia.png?raw=true'>\n",
    "\n",
    "\n"
   ]
  },
  {
   "attachments": {},
   "cell_type": "markdown",
   "metadata": {},
   "source": [
    "# How to run Grounding Dino with the Ikomia API "
   ]
  },
  {
   "attachments": {},
   "cell_type": "markdown",
   "metadata": {},
   "source": [
    "[GroundingDINO](https://github.com/IDEA-Research/GroundingDINO) is a cutting-edge zero-shot object detection model that marries the powerful [DINO](https://github.com/facebookresearch/dino) architecture with grounded pre-training. \n",
    "\n",
    "Developed by [IDEA-Research](https://www.idea.edu.cn/), GroundingDINO can detect arbitrary objects based on human inputs, such as category names or referring expressions.\n",
    "\n",
    "\n"
   ]
  },
  {
   "attachments": {},
   "cell_type": "markdown",
   "metadata": {},
   "source": [
    "## Setup"
   ]
  },
  {
   "cell_type": "markdown",
   "metadata": {},
   "source": [
    "Please use a GPU for this tutorial.\n",
    "\n",
    "In the Google colab menu, select \"Runtime\" then \"Change runtime type\", choose GPU in \"Hardware accelerator\".\n",
    "\n",
    "Check your GPU with the following command:"
   ]
  },
  {
   "cell_type": "code",
   "execution_count": null,
   "metadata": {},
   "outputs": [],
   "source": [
    "!nvidia-smi"
   ]
  },
  {
   "attachments": {},
   "cell_type": "markdown",
   "metadata": {},
   "source": [
    "First, you need to install Ikomia API pip package."
   ]
  },
  {
   "cell_type": "code",
   "execution_count": null,
   "metadata": {},
   "outputs": [],
   "source": [
    "!pip install ikomia"
   ]
  },
  {
   "attachments": {},
   "cell_type": "markdown",
   "metadata": {},
   "source": [
    "## Run the face detector and blurring on your image"
   ]
  },
  {
   "cell_type": "code",
   "execution_count": null,
   "metadata": {},
   "outputs": [],
   "source": [
    "from ikomia.dataprocess.workflow import Workflow\n",
    "from ikomia.utils.displayIO import display\n",
    "\n",
    "\n",
    "# Init your workflow\n",
    "wf = Workflow()    \n",
    "\n",
    "# Add the Grounding DINO Object Detector\n",
    "dino = wf.add_task(name=\"infer_grounding_dino\", auto_connect=True)\n",
    "\n",
    "# Set the parameters\n",
    "dino.set_parameters({\n",
    "    \"model_name\": \"Swin-B\",\n",
    "    \"prompt\": \"laptops . smartphone . headphone .\",\n",
    "    \"conf_thres\": \"0.35\",\n",
    "    \"conf_thres_text\": \"0.25\"\n",
    "})\n",
    "\n",
    "\n",
    "# Run on your image  \n",
    "# wf.run_on(path=\"path/to/your/image.png\")\n",
    "wf.run_on(url=\"https://raw.githubusercontent.com/Ikomia-dev/notebooks/main/examples/img/img_work.jpg\")\n",
    "\n",
    "\n",
    "# Inspect your results\n",
    "display(dino.get_image_with_graphics())"
   ]
  },
  {
   "cell_type": "code",
   "execution_count": null,
   "metadata": {},
   "outputs": [],
   "source": [
    "# Display image on Google Colab\n",
    "from PIL import ImageShow\n",
    "ImageShow.register(ImageShow.IPythonViewer(), 0)\n",
    "\n",
    "display(dino.get_image_with_graphics())"
   ]
  }
 ],
 "metadata": {
  "kernelspec": {
   "display_name": "venvapi",
   "language": "python",
   "name": "venvapi"
  },
  "language_info": {
   "codemirror_mode": {
    "name": "ipython",
    "version": 3
   },
   "file_extension": ".py",
   "mimetype": "text/x-python",
   "name": "python",
   "nbconvert_exporter": "python",
   "pygments_lexer": "ipython3",
   "version": "3.9.13"
  },
  "orig_nbformat": 4
 },
 "nbformat": 4,
 "nbformat_minor": 2
}
