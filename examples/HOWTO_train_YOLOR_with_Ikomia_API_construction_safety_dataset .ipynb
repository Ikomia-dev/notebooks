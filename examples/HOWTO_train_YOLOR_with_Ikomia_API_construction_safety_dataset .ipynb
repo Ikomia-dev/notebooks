{
 "cells": [
  {
   "attachments": {},
   "cell_type": "markdown",
   "metadata": {
    "id": "GyGbD_GxAOI0"
   },
   "source": [
    "<img src='https://github.com/Ikomia-dev/notebooks/blob/main/examples/img/banner_ikomia.png?raw=true'>"
   ]
  },
  {
   "attachments": {},
   "cell_type": "markdown",
   "metadata": {
    "id": "WKz9Zij7bN-t"
   },
   "source": [
    "# How to train YOLOR using the Ikomia API"
   ]
  },
  {
   "attachments": {},
   "cell_type": "markdown",
   "metadata": {
    "id": "CpxHrXhtbWTZ"
   },
   "source": [
    "Object detection is an important task in Computer Vision. Lots of companies use this technology:\n",
    "\n",
    "\n",
    "*   **Smart city** : crowd analysis or infrastructure inspection\n",
    "*   **Retail** : inventory tracking or customer tracking\n",
    "*   **Autonomous vehicles** : vehicle or pedestrian detection\n",
    "*   **Security** : facial recognition or potential threats detection\n",
    "*   **Manufacturing** : quality control or defect detection\n",
    "*   **Healthcare** : many disease recognition\n",
    "\n",
    "\n",
    "### Overview of the YOLOR model\n",
    "\n",
    "| Release date | May 2021        |\n",
    "|--------------|------------------|\n",
    "| Model type   | Object detection |\n",
    "| Architecture | YOLO, CNN        |\n",
    "| Framework    | PyTorch          |\n",
    "| Github stars | 1.9k             |\n",
    "\n",
    "\n",
    "\n",
    "- Paper : [You Only Learn One Representation: Unified Network for Multiple Tasks](https://arxiv.org/abs/2105.04206)\n",
    "\n",
    "- Code : [GitHub repository](https://github.com/WongKinYiu/yolor)\n",
    "\n",
    "If you like this tutorial, you can support our project here [Ikomia API GitHub](https://github.com/Ikomia-dev/IkomiaApi).\n",
    "\n",
    "ENJOY 🥰 !!\n",
    "\n",
    "![YOLOR](https://github.com/WongKinYiu/yolor/raw/main/inference/output/horses.jpg)"
   ]
  },
  {
   "attachments": {},
   "cell_type": "markdown",
   "metadata": {
    "id": "x4CdI0J1ej5b"
   },
   "source": [
    "## Setup"
   ]
  },
  {
   "attachments": {},
   "cell_type": "markdown",
   "metadata": {
    "id": "R5O31W412NRx"
   },
   "source": [
    "Please use a GPU for this tutorial.\n",
    "\n",
    "In the menu, select \"Runtime\" then \"Change runtime type\", choose GPU in \"Hardware accelerator\".\n",
    "\n",
    "Check your GPU with the following command:"
   ]
  },
  {
   "cell_type": "code",
   "execution_count": null,
   "metadata": {
    "id": "OJFMsi47Yrqj"
   },
   "outputs": [],
   "source": [
    "!nvidia-smi"
   ]
  },
  {
   "attachments": {},
   "cell_type": "markdown",
   "metadata": {
    "id": "NBmJN2AaDmcI"
   },
   "source": [
    "First of all, you need to install Ikomia API pip package."
   ]
  },
  {
   "cell_type": "code",
   "execution_count": null,
   "metadata": {
    "id": "8eSnQYJygrDy"
   },
   "outputs": [],
   "source": [
    "!pip install ikomia"
   ]
  },
  {
   "attachments": {},
   "cell_type": "markdown",
   "metadata": {
    "id": "ktbA-VPOATgP"
   },
   "source": [
    "\n",
    "\n",
    "---\n",
    "\n",
    "\n",
    "**-Google Colab ONLY- Restart runtime**\n",
    "\n",
    "Click on the \"RESTART RUNTIME\" button at the end the previous window.\n",
    "\n",
    "\n",
    "\n"
   ]
  },
  {
   "attachments": {},
   "cell_type": "markdown",
   "metadata": {
    "id": "2hS1T6ky1Wcw"
   },
   "source": [
    "---"
   ]
  },
  {
   "attachments": {},
   "cell_type": "markdown",
   "metadata": {
    "id": "ZgGi5tjosC8g"
   },
   "source": [
    "## How to train YOLOR on a custom COCO dataset"
   ]
  },
  {
   "attachments": {},
   "cell_type": "markdown",
   "metadata": {
    "id": "pwJit3k190PN"
   },
   "source": [
    "Download your dataset from your preferred tool. In this example, we use a construction safety dataset from **Roboflow** which is a great annotation platform used by many developers and companies. The dataset is exported in COCO format."
   ]
  },
  {
   "cell_type": "code",
   "execution_count": null,
   "metadata": {
    "id": "RpGiTWgeRnIq"
   },
   "outputs": [],
   "source": [
    "import requests\n",
    "import zipfile\n",
    "import os\n",
    "\n",
    "\n",
    "# Download the file\n",
    "url = \"https://universe.roboflow.com/ds/zC6XKnaUd7?key=bIco5taeND\"\n",
    "response = requests.get(url, stream=True)\n",
    "with open(\"roboflow.zip\", \"wb\") as file:\n",
    "    for chunk in response.iter_content(chunk_size=8192):\n",
    "        file.write(chunk)\n",
    "\n",
    "# Unzip the file\n",
    "with zipfile.ZipFile(\"roboflow.zip\", 'r') as zip_ref:\n",
    "    zip_ref.extractall()\n",
    "\n",
    "# Remove the zip file\n",
    "os.remove(\"roboflow.zip\")"
   ]
  },
  {
   "attachments": {},
   "cell_type": "markdown",
   "metadata": {
    "id": "BgYm8QNx-ekO"
   },
   "source": [
    "In order to train YOLOR on your custom dataset, please create a new workflow from scratch.\n",
    "\n",
    "Then you need 2 components:\n",
    "\n",
    "1.   A COCO dataset loader which loads dataset in YOLO format and convert it to an Ikomia format\n",
    "2.   The YOLOR training algorithm which loads dataset in Ikomia format\n",
    "\n",
    "Add these 2 previous algorithms to your workflow and then it will automagically download all algorithms from Ikomia Hub and install all the Python dependencies (the 1st time, it can take a while, be patient ! )."
   ]
  },
  {
   "attachments": {},
   "cell_type": "markdown",
   "metadata": {
    "id": "I1BKL7hpw15Z"
   },
   "source": [
    "Now, it's time to train your model !"
   ]
  },
  {
   "cell_type": "code",
   "execution_count": null,
   "metadata": {
    "id": "LfICgCeQLJuc"
   },
   "outputs": [],
   "source": [
    "from ikomia.dataprocess.workflow import Workflow\n",
    "from ikomia.utils import ik\n",
    "import os\n",
    "\n",
    "#----------------------------- Step 1 -----------------------------------#\n",
    "# Create a workflow which will take your dataset as input and\n",
    "# train a YOLOR model on it\n",
    "#------------------------------------------------------------------------#\n",
    "wf = Workflow()\n",
    "\n",
    "#----------------------------- Step 2 -----------------------------------#\n",
    "# First you need to convert COCO format to IKOMIA format.\n",
    "# Add an Ikomia dataset converter to your workflow.\n",
    "#------------------------------------------------------------------------#\n",
    "\n",
    "dataset = wf.add_task(name='dataset_coco')\n",
    "dataset.set_parameters({\n",
    "    'json_file': os.getcwd()+\"/train/_annotations.coco.json\",\n",
    "    'image_folder': os.getcwd()+\"/train\",\n",
    "    'task': 'detection',\n",
    "}) \n",
    "\n",
    "#----------------------------- Step 3 -----------------------------------#\n",
    "# Then, you want to train a YOLOR model.\n",
    "# Add YOLOR training algorithm to your workflow\n",
    "#------------------------------------------------------------------------#\n",
    "train = wf.add_task(name='train_yolor', auto_connect=True)\n",
    "\n",
    "train.set_parameters({\n",
    "    'model_name': 'yolor_p6',\n",
    "    'batch_size': '8', # <-- Reduce the batch size if you encounter some \"Cuda out of memory\"\n",
    "    'epochs': '40',\n",
    "    'train_imgsz': '512',\n",
    "    'test_imgsz': '512',\n",
    "    'dataset_split_ratio': '80',\n",
    "    'eval_period': '5',\n",
    "    'output_folder': os.getcwd(),\n",
    "})\n",
    "\n",
    "#----------------------------- Step 4 -----------------------------------#\n",
    "# Execute your workflow.\n",
    "# It automatically runs all your tasks sequentially.\n",
    "#------------------------------------------------------------------------#\n",
    "wf.run()"
   ]
  },
  {
   "attachments": {},
   "cell_type": "markdown",
   "metadata": {
    "id": "rpsaQoYSwma8"
   },
   "source": [
    "## How to execute YOLOR on images"
   ]
  },
  {
   "attachments": {},
   "cell_type": "markdown",
   "metadata": {
    "id": "-H2JCp2SOD2a"
   },
   "source": [
    "Once the training is finished, you may want to experiment the fresh model on new test images. Just use the following code to create a YOLO v7 inference workflow.\n",
    "Then run and test !"
   ]
  },
  {
   "cell_type": "code",
   "execution_count": null,
   "metadata": {
    "id": "ecT5qPDywrEi"
   },
   "outputs": [],
   "source": [
    "from ikomia.dataprocess.workflow import Workflow\n",
    "\n",
    "# Init your workflow\n",
    "wf = Workflow()\n",
    "\n",
    "# Add algorithm\n",
    "yolor = wf.add_task(name=\"infer_yolor\", auto_connect=True)\n",
    "\n",
    "yolor.set_parameters({\n",
    "    'model_weight_file': os.getcwd()+\"/[timestamp]/weights/best.pt\", # <-- replace \"[timestamp]\" by the correct folder name (/content/ for Google Colab)\n",
    "    'config_file': os.getcwd()+\"/[timestamp]/yolor_p6.cfg\",  \n",
    "})\n",
    "\n",
    "# Run on your image  \n",
    "wf.run_on(url=\"https://www.copelandintl.com/site/wp-content/uploads/2020/06/shutterstock_519019975.jpg\")\n"
   ]
  },
  {
   "attachments": {},
   "cell_type": "markdown",
   "metadata": {},
   "source": [
    "## Display your results"
   ]
  },
  {
   "cell_type": "code",
   "execution_count": null,
   "metadata": {},
   "outputs": [],
   "source": [
    "from ikomia.utils.displayIO import display\n",
    "from PIL import ImageShow\n",
    "ImageShow.register(ImageShow.IPythonViewer(), 0)\n",
    "\n",
    "# Get YOLOR image result\n",
    "img_bbox = yolor.get_image_with_graphics()\n",
    "\n",
    "# Display in Colab\n",
    "display(img_bbox)"
   ]
  }
 ],
 "metadata": {
  "accelerator": "GPU",
  "colab": {
   "collapsed_sections": [],
   "provenance": [],
   "toc_visible": true
  },
  "kernelspec": {
   "display_name": "venvapi",
   "language": "python",
   "name": "venvapi"
  },
  "language_info": {
   "codemirror_mode": {
    "name": "ipython",
    "version": 3
   },
   "file_extension": ".py",
   "mimetype": "text/x-python",
   "name": "python",
   "nbconvert_exporter": "python",
   "pygments_lexer": "ipython3",
   "version": "3.9.13"
  }
 },
 "nbformat": 4,
 "nbformat_minor": 4
}
