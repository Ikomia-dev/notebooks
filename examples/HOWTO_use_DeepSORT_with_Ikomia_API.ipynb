{
  "cells": [
    {
      "cell_type": "markdown",
      "metadata": {
        "id": "9XIBGlEafDQf"
      },
      "source": [
        "<img src='https://github.com/Ikomia-dev/notebooks/blob/main/examples/img/banner_ikomia.png?raw=true'>\n",
        "\n",
        "\n"
      ]
    },
    {
      "cell_type": "markdown",
      "metadata": {
        "id": "DvouGVeYfDQg"
      },
      "source": [
        "# Easy Object Tracking with DeepSORT\n",
        "\n",
        "**DeepSORT** (Simple Online and Realtime Tracking with a Deep Association Metric) is an extension of the original SORT (Simple Real-time Tracker) algorithm, which is considered an elegant and widely used framework for object tracking. It incorporates a deep learning methodology to address real-world tracking challenges such as occlusions and different viewpoints.\n",
        "\n",
        "![illustration Deepsort](https://learnopencv.com/wp-content/uploads/2022/06/01-sprint-race.gif)"
      ]
    },
    {
      "cell_type": "markdown",
      "metadata": {
        "id": "-STLXz8ifDQh"
      },
      "source": [
        "## Setup"
      ]
    },
    {
      "cell_type": "markdown",
      "metadata": {
        "id": "cV0_2S0SfDQh"
      },
      "source": [
        "You need to install Ikomia Python API with pip\n"
      ]
    },
    {
      "cell_type": "code",
      "execution_count": null,
      "metadata": {
        "colab": {
          "base_uri": "https://localhost:8080/",
          "height": 1000
        },
        "id": "cbvRlv_ufDQh",
        "outputId": "e3893478-603b-467b-96a3-b272121649b3"
      },
      "outputs": [],
      "source": [
        "!pip install ikomia"
      ]
    },
    {
      "cell_type": "markdown",
      "metadata": {
        "id": "-j3VbsAYfDQi"
      },
      "source": [
        "---\n",
        "\n",
        "*Note: The script is not compatible with Google Colab as they have disabled cv2.imshow()*\n",
        "\n",
        "---"
      ]
    },
    {
      "cell_type": "markdown",
      "metadata": {},
      "source": [
        "## Download video and cut example video"
      ]
    },
    {
      "cell_type": "code",
      "execution_count": 1,
      "metadata": {
        "id": "uBp98pWxiHXq"
      },
      "outputs": [],
      "source": [
        "\n",
        "import requests\n",
        "import cv2\n",
        "\n",
        "url = \"https://www.pexels.com/download/video/12116094/?fps=29.97&h=720&w=1280\"\n",
        "\n",
        "# Define headers to mimic a browser request\n",
        "headers = {\n",
        "    \"User-Agent\": \"Mozilla/5.0 (Windows NT 10.0; Win64; x64) AppleWebKit/537.36 (KHTML, like Gecko) Chrome/58.0.3029.110 Safari/537.3\"\n",
        "}\n",
        "\n",
        "response = requests.get(url, headers=headers, stream=True)\n",
        "with open(\"video.mp4\", \"wb\") as f:\n",
        "    for chunk in response.iter_content(chunk_size=1024):\n",
        "        f.write(chunk)\n",
        "\n",
        "# Replace with the path to your downloaded video\n",
        "video_path = \"video.mp4\"\n",
        "\n",
        "# Open the video\n",
        "cap = cv2.VideoCapture(video_path)\n",
        "\n",
        "# Check if the video has opened successfully\n",
        "if not cap.isOpened():\n",
        "    print(\"Error: Could not open video.\")\n",
        "    exit()\n",
        "\n",
        "# Get video properties\n",
        "fps = cap.get(cv2.CAP_PROP_FPS)\n",
        "frame_count = int(cap.get(cv2.CAP_PROP_FRAME_COUNT))\n",
        "duration = frame_count / fps\n",
        "cut_frame = int(frame_count / 4)  # Frame to cut the video at\n",
        "\n",
        "# Define the codec and create VideoWriter object\n",
        "fourcc = cv2.VideoWriter_fourcc(*'mp4v') \n",
        "out = cv2.VideoWriter('short_video.mp4', fourcc, fps, (int(cap.get(3)), int(cap.get(4))))\n",
        "\n",
        "# Read and write frames until the cut point\n",
        "frame_num = 0\n",
        "while True:\n",
        "    ret, frame = cap.read()\n",
        "    if not ret or frame_num == cut_frame:\n",
        "        break\n",
        "    out.write(frame)\n",
        "    frame_num += 1\n",
        "\n",
        "# Release everything\n",
        "cap.release()\n",
        "out.release()"
      ]
    },
    {
      "cell_type": "markdown",
      "metadata": {},
      "source": [
        "## Run YOLOv7 and DeepSORT on your video"
      ]
    },
    {
      "cell_type": "code",
      "execution_count": null,
      "metadata": {
        "colab": {
          "base_uri": "https://localhost:8080/",
          "height": 1000
        },
        "id": "Q8dA1vWbfDQi",
        "outputId": "6e55cb62-36d7-4ee8-840d-7289582d6b71"
      },
      "outputs": [],
      "source": [
        "from ikomia.dataprocess.workflow import Workflow\n",
        "from ikomia.utils.displayIO import display\n",
        "import cv2\n",
        "\n",
        "\n",
        "# Replace 'your_video_path.mp4' with the actual video file path\n",
        "input_video_path = 'short_video.mp4'\n",
        "output_video_path = 'deepsort_output_video.avi'\n",
        "\n",
        "# Init your workflow\n",
        "wf = Workflow()\n",
        "\n",
        "# Add object detection algorithm\n",
        "detector = wf.add_task(name=\"infer_yolo_v7\", auto_connect=True)\n",
        "\n",
        "# Add ByteTrack tracking algorithm\n",
        "tracking = wf.add_task(name=\"infer_deepsort\", auto_connect=True)\n",
        "\n",
        "tracking.set_parameters({\n",
        "    \"categories\": \"all\",\n",
        "    \"conf_thres\": \"0.5\",\n",
        "})\n",
        "\n",
        "# Open the video file\n",
        "stream = cv2.VideoCapture(input_video_path)\n",
        "if not stream.isOpened():\n",
        "    print(\"Error: Could not open video.\")\n",
        "    exit()\n",
        "\n",
        "# Get video properties for the output\n",
        "frame_width = int(stream.get(cv2.CAP_PROP_FRAME_WIDTH))\n",
        "frame_height = int(stream.get(cv2.CAP_PROP_FRAME_HEIGHT))\n",
        "frame_rate = stream.get(cv2.CAP_PROP_FPS)\n",
        "\n",
        "# Define the codec and create VideoWriter object\n",
        "# The 'XVID' codec is widely supported and provides good quality\n",
        "fourcc = cv2.VideoWriter_fourcc(*'XVID')\n",
        "out = cv2.VideoWriter(output_video_path, fourcc, frame_rate, (frame_width, frame_height))\n",
        "\n",
        "while True:\n",
        "    # Read image from stream\n",
        "    ret, frame = stream.read()\n",
        "\n",
        "    # Test if the video has ended or there is an error\n",
        "    if not ret:\n",
        "        print(\"Info: End of video or error.\")\n",
        "        break\n",
        "\n",
        "    # Run the workflow on current frame\n",
        "    wf.run_on(array=frame)\n",
        "\n",
        "    # Get results\n",
        "    image_out = tracking.get_output(0)\n",
        "    obj_detect_out = tracking.get_output(1)\n",
        "\n",
        "    # Convert the result to BGR color space for displaying\n",
        "    img_out = image_out.get_image_with_graphics(obj_detect_out)\n",
        "    img_res = cv2.cvtColor(img_out, cv2.COLOR_RGB2BGR)\n",
        "\n",
        "    # Save the resulting frame\n",
        "    out.write(img_out)\n",
        "\n",
        "    # Display\n",
        "    display(img_res, title=\"DeepSORT\", viewer=\"opencv\")\n",
        "\n",
        "    # Press 'q' to quit the video processing\n",
        "    if cv2.waitKey(1) & 0xFF == ord('q'):\n",
        "        break\n",
        "\n",
        "# After the loop release everything\n",
        "stream.release()\n",
        "out.release()\n",
        "cv2.destroyAllWindows()"
      ]
    }
  ],
  "metadata": {
    "accelerator": "GPU",
    "colab": {
      "gpuType": "V100",
      "provenance": []
    },
    "kernelspec": {
      "display_name": "venvapi",
      "language": "python",
      "name": "venvapi"
    },
    "language_info": {
      "codemirror_mode": {
        "name": "ipython",
        "version": 3
      },
      "file_extension": ".py",
      "mimetype": "text/x-python",
      "name": "python",
      "nbconvert_exporter": "python",
      "pygments_lexer": "ipython3",
      "version": "3.9.13"
    },
    "orig_nbformat": 4
  },
  "nbformat": 4,
  "nbformat_minor": 0
}
