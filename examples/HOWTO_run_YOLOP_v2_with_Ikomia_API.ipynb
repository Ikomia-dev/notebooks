{
 "cells": [
  {
   "attachments": {},
   "cell_type": "markdown",
   "metadata": {},
   "source": [
    "<img src='https://github.com/Ikomia-dev/notebooks/blob/main/examples/img/banner_ikomia.png?raw=true'>\n",
    "\n",
    "\n"
   ]
  },
  {
   "attachments": {},
   "cell_type": "markdown",
   "metadata": {},
   "source": [
    "# Easy Panoptic Driving Perception with YOLOP v2\n",
    "\n",
    "**YOLOP v2** is a highly efficient multi-task network designed to carry out **three critical functions for autonomous driving** systems: **detecting traffic objects**, **segmenting drivable areas** of the road, and **identifying lane** markings, all in **real-time**.\n",
    "\n",
    "![illustration YOLOPv2](https://cdn.prod.website-files.com/645cec60ffb18d5ebb37da4b/654a0795df1e9e654b25a799_output1.jpg)"
   ]
  },
  {
   "attachments": {},
   "cell_type": "markdown",
   "metadata": {},
   "source": [
    "## Setup"
   ]
  },
  {
   "attachments": {},
   "cell_type": "markdown",
   "metadata": {},
   "source": [
    "You need to install Ikomia Python API with pip\n"
   ]
  },
  {
   "cell_type": "code",
   "execution_count": null,
   "metadata": {},
   "outputs": [],
   "source": [
    "!pip install ikomia"
   ]
  },
  {
   "attachments": {},
   "cell_type": "markdown",
   "metadata": {},
   "source": [
    "## Run YOLOP v2 on your image"
   ]
  },
  {
   "cell_type": "markdown",
   "metadata": {},
   "source": [
    "---\n",
    "\n",
    "**-Google Colab ONLY- Restart runtime after the first run of the workflow below** \n",
    "\n",
    "Click on the \"RESTART RUNTIME\" button at the end the previous window.\n",
    "\n",
    "---"
   ]
  },
  {
   "cell_type": "code",
   "execution_count": null,
   "metadata": {},
   "outputs": [],
   "source": [
    "from ikomia.dataprocess.workflow import Workflow\n",
    "from ikomia.utils.displayIO import display\n",
    "\n",
    "\n",
    "# Init your workflow\n",
    "wf = Workflow()\n",
    "\n",
    "# Add algorithm\n",
    "algo = wf.add_task(name=\"infer_yolop_v2\", auto_connect=True)\n",
    "\n",
    "algo.set_parameters({\n",
    "    \"input_size\": \"640\",\n",
    "    \"conf_thres\": \"0.2\",\n",
    "    \"iou_thres\": \"0.45\",\n",
    "    \"object\": \"True\",\n",
    "    \"road_lane\": \"True\"\n",
    "})\n",
    "\n",
    "# Run on your image  \n",
    "wf.run_on(url=\"https://www.cnet.com/a/img/resize/4797a22dd672697529df19c2658364a85e0f9eb4/hub/2023/02/14/9406d927-a754-4fa9-8251-8b1ccd010d5a/ring-car-cam-2023-02-14-14h09m20s720.png?auto=webp&width=1920\")\n",
    "\n",
    "# # Inpect your result\n",
    "display(algo.get_image_with_graphics())\n",
    "display(algo.get_output(0).get_overlay_mask())"
   ]
  },
  {
   "cell_type": "code",
   "execution_count": null,
   "metadata": {},
   "outputs": [],
   "source": [
    "from ikomia.utils.displayIO import display\n",
    "from PIL import ImageShow\n",
    "\n",
    "# Display the keypoints\n",
    "ImageShow.register(ImageShow.IPythonViewer(), 0)\n",
    "\n",
    "# Display results\n",
    "display(algo.get_image_with_graphics())"
   ]
  },
  {
   "cell_type": "code",
   "execution_count": null,
   "metadata": {},
   "outputs": [],
   "source": [
    "display(algo.get_output(0).get_overlay_mask())"
   ]
  }
 ],
 "metadata": {
  "kernelspec": {
   "display_name": "venvapi",
   "language": "python",
   "name": "venvapi"
  },
  "language_info": {
   "codemirror_mode": {
    "name": "ipython",
    "version": 3
   },
   "file_extension": ".py",
   "mimetype": "text/x-python",
   "name": "python",
   "nbconvert_exporter": "python",
   "pygments_lexer": "ipython3",
   "version": "3.9.13"
  },
  "orig_nbformat": 4
 },
 "nbformat": 4,
 "nbformat_minor": 2
}
