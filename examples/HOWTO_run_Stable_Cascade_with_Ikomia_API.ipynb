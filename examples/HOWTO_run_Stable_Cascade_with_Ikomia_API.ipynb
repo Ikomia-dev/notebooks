{
  "cells": [
    {
      "cell_type": "markdown",
      "metadata": {
        "id": "9XIBGlEafDQf"
      },
      "source": [
        "<img src='https://github.com/Ikomia-dev/notebooks/blob/main/examples/img/banner_ikomia.png?raw=true'>\n",
        "\n",
        "\n"
      ]
    },
    {
      "cell_type": "markdown",
      "metadata": {
        "id": "DvouGVeYfDQg"
      },
      "source": [
        "#  Create your image Stable Cascade\n",
        "\n",
        "Stable cascade is a diffusion model generating images from text descriptions. It's developed by Stability AI, the developer of Stable Diffusion and is known for being faster, more affordable, and potentially easier to use than previous models like Stable Diffusion XL (SDXL).\n",
        "\n",
        "![illustration Stable Cascade](https://images.squarespace-cdn.com/content/v1/6213c340453c3f502425776e/6b6242aa-4bdc-4cef-9139-8bb69b5baee8/collage_1.jpg?format=1500w)"
      ]
    },
    {
      "cell_type": "markdown",
      "metadata": {
        "id": "-STLXz8ifDQh"
      },
      "source": [
        "## Setup"
      ]
    },
    {
      "cell_type": "markdown",
      "metadata": {},
      "source": [
        "Please use a GPU for this tutorial.\n",
        "\n",
        "**Note: Stable Cascade requires 17Gb VRAM to run**.\n",
        "\n",
        "In the menu, select \"Runtime\" then \"Change runtime type\", choose GPU in \"Hardware accelerator\".\n",
        "\n",
        "Check your GPU with the following command:"
      ]
    },
    {
      "cell_type": "code",
      "execution_count": null,
      "metadata": {},
      "outputs": [],
      "source": [
        "!nvidia-smi"
      ]
    },
    {
      "cell_type": "markdown",
      "metadata": {
        "id": "cV0_2S0SfDQh"
      },
      "source": [
        "You need to install Ikomia Python API with pip\n"
      ]
    },
    {
      "cell_type": "code",
      "execution_count": null,
      "metadata": {
        "colab": {
          "base_uri": "https://localhost:8080/",
          "height": 1000
        },
        "id": "cbvRlv_ufDQh",
        "outputId": "e3893478-603b-467b-96a3-b272121649b3"
      },
      "outputs": [],
      "source": [
        "!pip install ikomia"
      ]
    },
    {
      "cell_type": "markdown",
      "metadata": {
        "id": "-j3VbsAYfDQi"
      },
      "source": [
        "---\n",
        "\n",
        "**-Google Colab ONLY- Restart runtime**\n",
        "\n",
        "Click on the \"RESTART RUNTIME\" button at the end the previous window.\n",
        "\n",
        "---"
      ]
    },
    {
      "cell_type": "markdown",
      "metadata": {},
      "source": [
        "## Run Stable Cascade"
      ]
    },
    {
      "cell_type": "code",
      "execution_count": 1,
      "metadata": {
        "id": "uBp98pWxiHXq"
      },
      "outputs": [],
      "source": [
        "from ikomia.dataprocess.workflow import Workflow\n",
        "from ikomia.utils.displayIO import display\n",
        "\n",
        "# Init your workflow\n",
        "wf = Workflow()\n",
        "\n",
        "# Add algorithm\n",
        "algo = wf.add_task(name = \"infer_stable_cascade\", auto_connect=False)\n",
        "\n",
        "algo.set_parameters({\n",
        "    'prompt': 'Anthropomorphic cat dressed as a pilot',\n",
        "    'negative_prompt': '',\n",
        "    'prior_num_inference_steps': '20',\n",
        "    'prior_guidance_scale': '4.0',\n",
        "    'num_inference_steps': '30',\n",
        "    'guidance_scale': '0.0',\n",
        "    'seed': '-1',\n",
        "    'width': '1024',\n",
        "    'height': '1024',\n",
        "    'num_images_per_prompt':'1',\n",
        "    })\n",
        "\n",
        "# Generate your image\n",
        "wf.run()\n",
        "\n"
      ]
    },
    {
      "cell_type": "code",
      "execution_count": null,
      "metadata": {},
      "outputs": [],
      "source": [
        "from ikomia.utils.displayIO import display\n",
        "\n",
        "from PIL import ImageShow\n",
        "ImageShow.register(ImageShow.IPythonViewer(), 0)\n",
        "\n",
        "# Display the image\n",
        "display(algo.get_output(0).get_image())"
      ]
    }
  ],
  "metadata": {
    "accelerator": "GPU",
    "colab": {
      "gpuType": "V100",
      "provenance": []
    },
    "kernelspec": {
      "display_name": "venvapi",
      "language": "python",
      "name": "venvapi"
    },
    "language_info": {
      "codemirror_mode": {
        "name": "ipython",
        "version": 3
      },
      "file_extension": ".py",
      "mimetype": "text/x-python",
      "name": "python",
      "nbconvert_exporter": "python",
      "pygments_lexer": "ipython3",
      "version": "3.9.13"
    },
    "orig_nbformat": 4
  },
  "nbformat": 4,
  "nbformat_minor": 0
}
