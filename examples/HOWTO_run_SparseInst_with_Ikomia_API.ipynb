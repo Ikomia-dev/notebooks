{
 "cells": [
  {
   "attachments": {},
   "cell_type": "markdown",
   "metadata": {},
   "source": [
    "<img src='https://github.com/Ikomia-dev/notebooks/blob/main/examples/img/banner_ikomia.png?raw=true'>\n",
    "\n",
    "\n"
   ]
  },
  {
   "attachments": {},
   "cell_type": "markdown",
   "metadata": {},
   "source": [
    "# How to run SparseInst with the Ikomia API "
   ]
  },
  {
   "attachments": {},
   "cell_type": "markdown",
   "metadata": {},
   "source": [
    "**SparseInst** is an innovative approach to instance segmentation that deviates from traditional dense prediction methods. It introduces a more efficient and focused strategy by predicting a sparse set of instance candidates, thus enhancing computational efficiency and performance.\n",
    "\n",
    "![sparseinst illustration](https://assets-global.website-files.com/645cec60ffb18d5ebb37da4b/6570798bc2fd9ade21780a1a_output_1200-p-500.jpg)"
   ]
  },
  {
   "attachments": {},
   "cell_type": "markdown",
   "metadata": {},
   "source": [
    "## Setup"
   ]
  },
  {
   "attachments": {},
   "cell_type": "markdown",
   "metadata": {},
   "source": [
    "You need to install Ikomia Python API with pip\n"
   ]
  },
  {
   "cell_type": "code",
   "execution_count": null,
   "metadata": {},
   "outputs": [],
   "source": [
    "!pip install ikomia"
   ]
  },
  {
   "cell_type": "markdown",
   "metadata": {},
   "source": [
    "---\n",
    "\n",
    "**-Google Colab ONLY- Restart runtime**\n",
    "\n",
    "Click on the \"RESTART RUNTIME\" button at the end the previous window.\n",
    "\n",
    "---"
   ]
  },
  {
   "attachments": {},
   "cell_type": "markdown",
   "metadata": {},
   "source": [
    "## Run SparseInst on your image"
   ]
  },
  {
   "cell_type": "code",
   "execution_count": null,
   "metadata": {},
   "outputs": [],
   "source": [
    "from ikomia.dataprocess.workflow import Workflow\n",
    "from ikomia.utils import ik\n",
    "\n",
    "# Init your workflow\n",
    "wf = Workflow()\n",
    "\n",
    "# Add algorithm\n",
    "algo = wf.add_task(ik.infer_sparseinst(\n",
    "                        model_name='sparse_inst_r101_dcn_giam',\n",
    "                        conf_thres='0.4'\n",
    "                        ),\n",
    "            auto_connect=True\n",
    ")\n",
    "\n",
    "# Run on your image\n",
    "wf.run_on(url=\"https://github.com/Ikomia-dev/notebooks/blob/main/examples/img/img_city_2.jpg?raw=true\")"
   ]
  },
  {
   "cell_type": "code",
   "execution_count": null,
   "metadata": {},
   "outputs": [],
   "source": [
    "from ikomia.utils.displayIO import display\n",
    "\n",
    "from PIL import ImageShow\n",
    "ImageShow.register(ImageShow.IPythonViewer(), 0)\n",
    "\n",
    "# Inpect your result\n",
    "display(algo.get_image_with_mask_and_graphics())"
   ]
  },
  {
   "cell_type": "markdown",
   "metadata": {},
   "source": [
    "## List of parameters\n",
    "\n",
    "**model_name** (str) - default 'sparse_inst_r50_giam_aug': Name of the SparseInst model. Additional models are available:\n",
    "              - sparse_inst_r50vd_base\n",
    "\n",
    "              - sparse_inst_r50_giam\n",
    "\n",
    "              - sparse_inst_r50_giam_soft\n",
    "\n",
    "              - sparse_inst_r50_giam_aug\n",
    "\n",
    "              - sparse_inst_r50_dcn_giam_aug\n",
    "\n",
    "              - sparse_inst_r50vd_giam_aug\n",
    "\n",
    "              - sparse_inst_r50vd_dcn_giam_aug\n",
    "\n",
    "              - sparse_inst_r101_giam\n",
    "\n",
    "              - sparse_inst_r101_dcn_giam\n",
    "\n",
    "              - sparse_inst_pvt_b1_giam\n",
    "\n",
    "              - sparse_inst_pvt_b2_li_giam\n",
    "\n",
    "‍\n",
    "\n",
    "**conf_thres** (float) default '0.5': Confidence threshold for the prediction [0,1]\n",
    "\n",
    "**config_file** (str, optional): Path to the .yaml config file.‍\n",
    "\n",
    "**model_weight_file** (str, optional): Path to model weights file .pth"
   ]
  }
 ],
 "metadata": {
  "kernelspec": {
   "display_name": "venv310",
   "language": "python",
   "name": "python3"
  },
  "language_info": {
   "codemirror_mode": {
    "name": "ipython",
    "version": 3
   },
   "file_extension": ".py",
   "mimetype": "text/x-python",
   "name": "python",
   "nbconvert_exporter": "python",
   "pygments_lexer": "ipython3",
   "version": "3.10.11"
  },
  "orig_nbformat": 4
 },
 "nbformat": 4,
 "nbformat_minor": 2
}
