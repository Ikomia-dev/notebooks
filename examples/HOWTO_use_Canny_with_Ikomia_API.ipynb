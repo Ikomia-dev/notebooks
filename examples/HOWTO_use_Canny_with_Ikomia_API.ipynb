{
 "cells": [
  {
   "attachments": {},
   "cell_type": "markdown",
   "metadata": {},
   "source": [
    "<img src='https://github.com/Ikomia-dev/notebooks/blob/main/examples/img/banner_ikomia.png?raw=true'>\n",
    "\n",
    "\n"
   ]
  },
  {
   "attachments": {},
   "cell_type": "markdown",
   "metadata": {},
   "source": [
    "# How to run Canny edge detection (OpenCV) with the Ikomia API "
   ]
  },
  {
   "attachments": {},
   "cell_type": "markdown",
   "metadata": {},
   "source": [
    "Edge detection is an essential image processing technique commonly employed in various computer vision applications, including data extraction, image segmentation, feature extraction, and pattern recognition. This technique helps reduce the amount of noise and irrelevant details in an image while retaining its structural information. As a result, edge detection plays a crucial role in enhancing the accuracy and performance of computer vision algorithms. Whether you're working on object detection, image recognition, or other computer vision tasks, edge detection is a critical step in your workflow.\n",
    "\n",
    "Canny edge detection is widely regarded as one of the most popular and effective methods for edge detection in computer vision. It uses a multi-stage algorithm to detect a wide range of edges in images. This algorithm can be broken down into four basic steps:\n",
    "1. Noise redution\n",
    "2. Gradient calculation\n",
    "3. Non-maximum suppression\n",
    "4. Hysteresis thresholding"
   ]
  },
  {
   "attachments": {},
   "cell_type": "markdown",
   "metadata": {},
   "source": [
    "## Setup"
   ]
  },
  {
   "attachments": {},
   "cell_type": "markdown",
   "metadata": {},
   "source": [
    "You need to install Ikomia Python API with pip\n"
   ]
  },
  {
   "cell_type": "code",
   "execution_count": null,
   "metadata": {},
   "outputs": [],
   "source": [
    "!pip install ikomia"
   ]
  },
  {
   "cell_type": "code",
   "execution_count": null,
   "metadata": {},
   "outputs": [],
   "source": [
    "# In Google colab, you need to update the numpy version to 1.23.5\n",
    "# !pip install numpy==1.23.5"
   ]
  },
  {
   "attachments": {},
   "cell_type": "markdown",
   "metadata": {},
   "source": [
    "## Run the Canny edge dectector on your image"
   ]
  },
  {
   "cell_type": "code",
   "execution_count": null,
   "metadata": {},
   "outputs": [],
   "source": [
    "from ikomia.dataprocess.workflow import Workflow\n",
    "from ikomia.utils.displayIO import display\n",
    "\n",
    "# Init your workflow\n",
    "wf = Workflow()\n",
    "\n",
    "# Add the Canny Edge Detector\n",
    "canny = wf.add_task(name=\"ocv_canny\", auto_connect=True)\n",
    "\n",
    "\n",
    "canny.set_parameters({\n",
    "    \"threshold1\":\"0\",\n",
    "    \"threshold2\":\"255\",\n",
    "    \"apertureSize\": \"3\",\n",
    "    \"L2gradient\": \"0\",\n",
    "})\n",
    "\n",
    "# Run on your image    \n",
    "# wf.run_on(path=\"path/to/your/image.png\")\n",
    "wf.run_on(url=\"https://raw.githubusercontent.com/Ikomia-dev/notebooks/main/examples/img/img_work.jpg\")\n",
    "\n",
    "\n",
    "# Inspect your results\n",
    "display(canny.get_input(0).get_image())\n",
    "display(canny.get_output(0).get_image())"
   ]
  },
  {
   "attachments": {},
   "cell_type": "markdown",
   "metadata": {},
   "source": [
    "## Run the Canny edge dectector on your webcam (Jupyter notebook only)"
   ]
  },
  {
   "cell_type": "code",
   "execution_count": null,
   "metadata": {},
   "outputs": [],
   "source": [
    "from ikomia.dataprocess.workflow import Workflow\n",
    "from ikomia.utils.displayIO import display\n",
    "import cv2\n",
    "\n",
    "stream = cv2.VideoCapture(0)\n",
    "\n",
    "# Init the workflow\n",
    "wf = Workflow()\n",
    "\n",
    "# Add color conversion to workflow\n",
    "canny = wf.add_task(name=\"ocv_canny\", auto_connect=True)\n",
    "\n",
    "\n",
    "canny.set_parameters({\n",
    "    \"threshold1\":\"0\",\n",
    "    \"threshold2\":\"255\",\n",
    "    \"apertureSize\": \"3\",\n",
    "    \"L2gradient\": \"0\",\n",
    "})\n",
    "\n",
    "\n",
    "while True:\n",
    "    # Read image from stream\n",
    "    ret, frame = stream.read()\n",
    "\n",
    "    # Test if streaming is OK\n",
    "    if not ret:\n",
    "        continue\n",
    "        \n",
    "    # Run workflow on image\n",
    "    wf.run_on(frame)\n",
    "    \n",
    "    # Display results from \"cvt\"\n",
    "    display(canny.get_output(0).get_image(), title=\"Demo - press 'q' to quit \", viewer=\"opencv\")\n",
    "\n",
    "    # Press 'q' to quit the streaming process\n",
    "    if cv2.waitKey(1) & 0xFF == ord('q'):\n",
    "        break\n",
    "\n",
    "# After the loop release the stream object\n",
    "stream.release()\n",
    "# Destroy all windows\n",
    "cv2.destroyAllWindows()"
   ]
  },
  {
   "attachments": {},
   "cell_type": "markdown",
   "metadata": {},
   "source": [
    "## -Google Colab ONLY- Save your custom image in your Google Drive space"
   ]
  },
  {
   "cell_type": "code",
   "execution_count": null,
   "metadata": {},
   "outputs": [],
   "source": [
    "# Uncomment these lines if you're working on Colab\n",
    "\"\"\" from google.colab import drive\n",
    "drive.mount('/content/gdrive')\n",
    "\n",
    "cv2.imwrite(\"/content/gdrive/MyDrive/paint_img.png\", img_paint) \"\"\""
   ]
  },
  {
   "attachments": {},
   "cell_type": "markdown",
   "metadata": {},
   "source": [
    "## -Google Colab ONLY- Download directly your custom image"
   ]
  },
  {
   "cell_type": "code",
   "execution_count": null,
   "metadata": {},
   "outputs": [],
   "source": [
    "# Uncomment these lines if you're working on Colab\n",
    "\"\"\" from google.colab import files\n",
    "cv2.imwrite(\"/content/paint_img.png\", img_paint)\n",
    "files.download('/content/paint_img.png') \"\"\""
   ]
  }
 ],
 "metadata": {
  "kernelspec": {
   "display_name": "venvapi",
   "language": "python",
   "name": "venvapi"
  },
  "language_info": {
   "codemirror_mode": {
    "name": "ipython",
    "version": 3
   },
   "file_extension": ".py",
   "mimetype": "text/x-python",
   "name": "python",
   "nbconvert_exporter": "python",
   "pygments_lexer": "ipython3",
   "version": "3.9.13"
  },
  "orig_nbformat": 4
 },
 "nbformat": 4,
 "nbformat_minor": 2
}
