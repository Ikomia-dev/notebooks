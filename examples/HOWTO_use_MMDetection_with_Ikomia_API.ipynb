{
 "cells": [
  {
   "attachments": {},
   "cell_type": "markdown",
   "metadata": {},
   "source": [
    "<img src='https://github.com/Ikomia-dev/notebooks/blob/main/examples/img/banner_ikomia.png?raw=true'>\n",
    "\n",
    "\n"
   ]
  },
  {
   "attachments": {},
   "cell_type": "markdown",
   "metadata": {},
   "source": [
    "# Easy object detection with MMDetection"
   ]
  },
  {
   "attachments": {},
   "cell_type": "markdown",
   "metadata": {},
   "source": [
    "**MMDetection** is a comprehensive toolbox that provides a wide array of object detection algorithms. Developed by the Multimedia Laboratory, CUHK, it's part of the OpenMMLab project.\n",
    "\n",
    "It's designed to facilitate research and development in object detection, instance segmentation, and other related areas.\n",
    "\n",
    "\n",
    "![MMDetection illustration](https://miro.medium.com/v2/resize:fit:828/format:webp/1*C3o6c7XBOWpaEfxx0juhKg.jpeg)"
   ]
  },
  {
   "attachments": {},
   "cell_type": "markdown",
   "metadata": {},
   "source": [
    "## Setup"
   ]
  },
  {
   "attachments": {},
   "cell_type": "markdown",
   "metadata": {},
   "source": [
    "You need to install Ikomia Python API with pip\n"
   ]
  },
  {
   "cell_type": "code",
   "execution_count": null,
   "metadata": {},
   "outputs": [],
   "source": [
    "!pip install ikomia"
   ]
  },
  {
   "attachments": {},
   "cell_type": "markdown",
   "metadata": {},
   "source": [
    "## Run MMPose on your image"
   ]
  },
  {
   "cell_type": "markdown",
   "metadata": {},
   "source": [
    "---\n",
    "\n",
    "**-Google Colab ONLY- Restart runtime after the first run of the workflow below** \n",
    "\n",
    "Click on the \"RESTART RUNTIME\" button at the end the previous window.\n",
    "\n",
    "---"
   ]
  },
  {
   "cell_type": "code",
   "execution_count": null,
   "metadata": {},
   "outputs": [],
   "source": [
    "from ikomia.dataprocess.workflow import Workflow\n",
    "\n",
    "\n",
    "# Init your workflow\n",
    "wf = Workflow()\n",
    "\n",
    "# Add object detection algorithm\n",
    "detector = wf.add_task(name=\"infer_mmlab_detection\", auto_connect=True)\n",
    "\n",
    "# Run the workflow on image\n",
    "wf.run_on(url=\"https://github.com/open-mmlab/mmdetection/blob/main/demo/demo.jpg?raw=true\")\n",
    "\n",
    "detector.set_parameters({\n",
    "        \"model_name\": \"rtmdet\",\n",
    "        \"model_config\": \"rtmdet_tiny_8xb32-300e_coco\",\n",
    "        \"conf_thres\": \"0.2\",\n",
    "})\n",
    "\n",
    "# Get the results\n",
    "image_output = detector.get_output(0)\n",
    "detection_output = detector.get_output(1)"
   ]
  },
  {
   "cell_type": "code",
   "execution_count": null,
   "metadata": {},
   "outputs": [],
   "source": [
    "from ikomia.core import IODataType\n",
    "from ikomia.utils.displayIO import display\n",
    "\n",
    "from PIL import ImageShow\n",
    "ImageShow.register(ImageShow.IPythonViewer(), 0)\n",
    "\n",
    "# Display the results\n",
    "# MMLab detection framework mixes object detection and instance segmentation algorithms\n",
    "if detection_output.data_type == IODataType.OBJECT_DETECTION:\n",
    "    display(image_output.get_image_with_graphics(detection_output), title=\"MMLAB detection\")\n",
    "elif detection_output.data_type == IODataType.INSTANCE_SEGMENTATION:\n",
    "    display(image_output.get_image_with_mask_and_graphics(detection_output), title=\"MMLAB detection\")"
   ]
  },
  {
   "cell_type": "markdown",
   "metadata": {},
   "source": [
    "## List of parameters\n",
    "\n",
    "- **model_name** (str, default=\"yolox\"): model name.\n",
    "- **model_config** (str, default=\"yolox_s_8x8_300e_coco\"): name of the model configuration file.\n",
    "- **conf_thres** (float, default=0.5): object detection confidence.\n",
    "- **use_custom_model** (bool, default=False): flag to enable the custom train model choice.\n",
    "- **config_file** (str, default=\"\"): path to model config file (only if use_custom_model=True). The file is generated at the end of a custom training. Use algorithm train_mmlab_detection from Ikomia HUB to train custom model.\n",
    "- **model_weight_file** (str, default=\"\"): path to model weights file (.pt) (only if use_custom_model=True). The file is generated at the end of a custom training.\n",
    "- **cuda** (bool, default=True): CUDA acceleration if True, run on CPU otherwise.\n"
   ]
  }
 ],
 "metadata": {
  "kernelspec": {
   "display_name": "venvapi",
   "language": "python",
   "name": "venvapi"
  },
  "language_info": {
   "codemirror_mode": {
    "name": "ipython",
    "version": 3
   },
   "file_extension": ".py",
   "mimetype": "text/x-python",
   "name": "python",
   "nbconvert_exporter": "python",
   "pygments_lexer": "ipython3",
   "version": "3.9.13"
  },
  "orig_nbformat": 4
 },
 "nbformat": 4,
 "nbformat_minor": 2
}
