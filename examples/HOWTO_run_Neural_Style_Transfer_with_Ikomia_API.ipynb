{
 "cells": [
  {
   "cell_type": "markdown",
   "metadata": {
    "id": "GyGbD_GxAOI0"
   },
   "source": [
    "<img src='https://github.com/Ikomia-dev/notebooks/blob/main/examples/img/banner_ikomia.png?raw=true'>\n",
    "\n",
    "\n"
   ]
  },
  {
   "cell_type": "markdown",
   "metadata": {
    "id": "oNcONqwxwgkv"
   },
   "source": [
    "# How to run Neural Style Transfer with Ikomia API in less than 2 minutes"
   ]
  },
  {
   "cell_type": "markdown",
   "metadata": {
    "id": "AKTe7F5nwXI4"
   },
   "source": [
    "Neural Style Transfer is an AI technology which transforms your image in the style of another image. This technology was first introduced by researchers in the paper [\"A Neural Style Algorithm of Artistic Style\"](https://arxiv.org/abs/1508.06576) by Leon Gatsys et al. (2015).\n",
    "\n",
    "\n",
    "In this demo, we use master paintings as style image and we show how it can be very easy to use this technology thanks to Ikomia API and Ikomia Hub. With a few lines of code, every developer can turn photos into artworks !\n",
    "\n",
    "If you like this tutorial, you can support our project here [Ikomia API GitHub](https://github.com/Ikomia-dev/IkomiaApi).\n",
    "\n",
    "## ENJOY 🥰 !!\n",
    "\n",
    "<p float=\"left\">\n",
    "  <img src=\"https://github.com/Ikomia-dev/notebooks/blob/main/examples/img/img_LR.jpg?raw=true\" width=\"500\" />\n",
    "  <img src=\"https://github.com/Ikomia-dev/notebooks/blob/main/examples/img/img_starry_night.jpg?raw=true\" width=\"500\" /> \n",
    "  <img src=\"https://github.com/Ikomia-dev/notebooks/blob/main/examples/img/img_LR_vangogh.png?raw=true\" width=\"1000\" />\n",
    "</p>"
   ]
  },
  {
   "cell_type": "markdown",
   "metadata": {
    "id": "x4CdI0J1ej5b"
   },
   "source": [
    "## Setup"
   ]
  },
  {
   "cell_type": "markdown",
   "metadata": {
    "id": "NBmJN2AaDmcI"
   },
   "source": [
    "You need to install Ikomia Python API with pip."
   ]
  },
  {
   "cell_type": "code",
   "execution_count": null,
   "metadata": {
    "colab": {
     "base_uri": "https://localhost:8080/",
     "height": 1000
    },
    "id": "8eSnQYJygrDy",
    "outputId": "47dd7506-8fdb-4f12-fe98-f03e75a79fb5"
   },
   "outputs": [],
   "source": [
    "!pip install ikomia numpy==1.23.5"
   ]
  },
  {
   "cell_type": "markdown",
   "metadata": {
    "id": "kVvL0vVfUGN5"
   },
   "source": [
    "\n",
    "\n",
    "---\n",
    "\n",
    "\n",
    "**-Google Colab ONLY- Restart runtime**\n",
    "\n",
    "Some Python packages have been updated. Please click on the \"RESTART RUNTIME\" button at the end the previous window.\n",
    "\n",
    "\n",
    "\n"
   ]
  },
  {
   "cell_type": "markdown",
   "metadata": {
    "id": "2hS1T6ky1Wcw"
   },
   "source": [
    "---"
   ]
  },
  {
   "cell_type": "markdown",
   "metadata": {
    "id": "JJsRFzl9Au1c"
   },
   "source": [
    "Ikomia API has already more than 180 pre-integrated algorithms (mainly OpenCV) but the most interesting algorithms are in [Ikomia HUB](https://github.com/Ikomia-hub). \n",
    "\n",
    "We push regularly state-of-the-art algorithms from individual repos (think of YOLO v7 for example) or from companies (Facebook Detectron2 or Ultralytics/YOLOv5 for example)."
   ]
  },
  {
   "cell_type": "markdown",
   "metadata": {
    "id": "jEdZ_uDYDqjH"
   },
   "source": [
    "## Apply Neural Style Transfer (NST) on your images"
   ]
  },
  {
   "cell_type": "markdown",
   "metadata": {
    "id": "5O-fpfWfiNfW"
   },
   "source": [
    "Create a new workflow from scratch and add the NST algorithm to your workflow.\n",
    "It will automagically download the algorithm from Ikomia Hub and install all the Python dependencies."
   ]
  },
  {
   "cell_type": "code",
   "execution_count": 1,
   "metadata": {
    "colab": {
     "base_uri": "https://localhost:8080/"
    },
    "id": "bRPYGcRd1Pwh",
    "outputId": "83005fbf-ef97-413b-fc6a-18558597d0ed"
   },
   "outputs": [
    {
     "name": "stdout",
     "output_type": "stream",
     "text": [
      "Algorithm infer_neural_style_transfer is not installed.\n",
      "Try installing infer_neural_style_transfer from Ikomia HUB...\n"
     ]
    },
    {
     "name": "stderr",
     "output_type": "stream",
     "text": [
      "infer_neural_style_transfer.zip: 100%|██████████| 6.67M/6.67M [00:01<00:00, 4.99MiB/s]\n"
     ]
    },
    {
     "name": "stdout",
     "output_type": "stream",
     "text": [
      "Installing infer_neural_style_transfer requirements. This may take a while, please be patient...\n"
     ]
    },
    {
     "name": "stderr",
     "output_type": "stream",
     "text": [
      "c:\\Users\\allan\\OneDrive\\Desktop\\ik-desktop\\envs\\venv37\\lib\\site-packages\\tqdm\\auto.py:21: TqdmWarning: IProgress not found. Please update jupyter and ipywidgets. See https://ipywidgets.readthedocs.io/en/stable/user_install.html\n",
      "  from .autonotebook import tqdm as notebook_tqdm\n"
     ]
    },
    {
     "name": "stdout",
     "output_type": "stream",
     "text": [
      "Ikomia auto-completion updated for installed plugins.\n",
      "Ikomia auto-completion updated for Ikomia HUB algorithms.\n"
     ]
    }
   ],
   "source": [
    "from ikomia.dataprocess.workflow import Workflow\n",
    "\n",
    "# Create your worflow\n",
    "wf = Workflow() \n",
    "\n",
    "# Add the NST algorithm to your workflow\n",
    "nst = wf.add_task(name=\"infer_neural_style_transfer\", auto_connect=True) "
   ]
  },
  {
   "cell_type": "markdown",
   "metadata": {
    "id": "9LX24Eg5irYO"
   },
   "source": [
    "Then, you can change the NST algorithm parameters in order to switch between paintings.\n",
    "\n",
    "Get parameters from the NST algorithm and change the parameters to see different painting style.\n",
    "\n",
    "The method \"instance_norm\" provides the following paintings:\n",
    "\n",
    "* candy\n",
    "* la_muse\n",
    "* mosaic\n",
    "* feathers\n",
    "* the_scream\n",
    "* udnie\n",
    "\n",
    "The method \"eccv16\" provides the following paintings:\n",
    "\n",
    "* the_wave\n",
    "* starry_night\n",
    "* la_muse\n",
    "* composition_vii\n",
    "\n",
    "The algorithm automatically downloads the model and the corresponding painting."
   ]
  },
  {
   "cell_type": "code",
   "execution_count": 2,
   "metadata": {
    "colab": {
     "background_save": true,
     "base_uri": "https://localhost:8080/"
    },
    "id": "URu9U_jWw-oK",
    "outputId": "14e44826-4b7e-4922-b10a-d5607ea4bc65"
   },
   "outputs": [],
   "source": [
    "nst_params = {\n",
    "    \"method\": \"instance_norm\", # <-- change method here\n",
    "    \"model_name\": \"mosaic\" # <-- change painting here\n",
    "}\n",
    "nst.set_parameters(nst_params)"
   ]
  },
  {
   "cell_type": "markdown",
   "metadata": {},
   "source": [
    "## Run and display your results"
   ]
  },
  {
   "cell_type": "code",
   "execution_count": 4,
   "metadata": {},
   "outputs": [
    {
     "name": "stderr",
     "output_type": "stream",
     "text": [
      "e355ed2_1652966874932-pns-3790466.jpg: 100%|██████████| 63.0k/63.0k [00:00<00:00, 6.60MiB/s]\n"
     ]
    },
    {
     "ename": "RuntimeError",
     "evalue": "<class 'cv2.error'>: OpenCV(4.7.0) C:\\Developpement\\opencv-cpu\\modules\\dnn\\src\\torch\\torch_importer.cpp:1022: error: (-213:The function/feature is not implemented) Unsupported Lua type in function 'cv::dnn::dnn4_v20221220::TorchImporter::readObject'\n:   File \"C:\\Users\\allan\\Ikomia/Plugins/Python\\infer_neural_style_transfer\\infer_neural_style_transfer_process.py\", line 97, in run\n    self.net = cv2.dnn.readNetFromTorch(model_path)\n (Code 18)",
     "output_type": "error",
     "traceback": [
      "\u001b[1;31m---------------------------------------------------------------------------\u001b[0m",
      "\u001b[1;31mRuntimeError\u001b[0m                              Traceback (most recent call last)",
      "\u001b[1;32m~\\AppData\\Local\\Temp\\ipykernel_9464\\4281356360.py\u001b[0m in \u001b[0;36m<module>\u001b[1;34m\u001b[0m\n\u001b[0;32m      4\u001b[0m \u001b[1;33m\u001b[0m\u001b[0m\n\u001b[0;32m      5\u001b[0m \u001b[1;31m# Run\u001b[0m\u001b[1;33m\u001b[0m\u001b[1;33m\u001b[0m\u001b[1;33m\u001b[0m\u001b[0m\n\u001b[1;32m----> 6\u001b[1;33m \u001b[0mwf\u001b[0m\u001b[1;33m.\u001b[0m\u001b[0mrun_on\u001b[0m\u001b[1;33m(\u001b[0m\u001b[0murl\u001b[0m\u001b[1;33m=\u001b[0m\u001b[1;34m\"https://img.lemde.fr/2022/05/19/0/0/5571/3687/664/0/75/0/e355ed2_1652966874932-pns-3790466.jpg\"\u001b[0m\u001b[1;33m)\u001b[0m  \u001b[1;31m# <-- change input image\u001b[0m\u001b[1;33m\u001b[0m\u001b[1;33m\u001b[0m\u001b[0m\n\u001b[0m\u001b[0;32m      7\u001b[0m \u001b[1;33m\u001b[0m\u001b[0m\n\u001b[0;32m      8\u001b[0m \u001b[1;31m# Get NST image result\u001b[0m\u001b[1;33m\u001b[0m\u001b[1;33m\u001b[0m\u001b[1;33m\u001b[0m\u001b[0m\n",
      "\u001b[1;32mc:\\Users\\allan\\OneDrive\\Desktop\\ik-desktop\\envs\\venv37\\lib\\site-packages\\ikomia\\dataprocess\\workflow.py\u001b[0m in \u001b[0;36mrun_on\u001b[1;34m(self, array, path, url, folder)\u001b[0m\n\u001b[0;32m    419\u001b[0m                 \u001b[1;32mraise\u001b[0m \u001b[0mRuntimeError\u001b[0m\u001b[1;33m(\u001b[0m\u001b[1;34m\"Workflow run failed: unsupported input type.\"\u001b[0m\u001b[1;33m)\u001b[0m\u001b[1;33m\u001b[0m\u001b[1;33m\u001b[0m\u001b[0m\n\u001b[0;32m    420\u001b[0m \u001b[1;33m\u001b[0m\u001b[0m\n\u001b[1;32m--> 421\u001b[1;33m             \u001b[0mself\u001b[0m\u001b[1;33m.\u001b[0m\u001b[0mrun\u001b[0m\u001b[1;33m(\u001b[0m\u001b[1;33m)\u001b[0m\u001b[1;33m\u001b[0m\u001b[1;33m\u001b[0m\u001b[0m\n\u001b[0m\u001b[0;32m    422\u001b[0m \u001b[1;33m\u001b[0m\u001b[0m\n\u001b[0;32m    423\u001b[0m     \u001b[1;32mdef\u001b[0m \u001b[0mprepare_runtime_env\u001b[0m\u001b[1;33m(\u001b[0m\u001b[0mself\u001b[0m\u001b[1;33m,\u001b[0m \u001b[0mpath\u001b[0m\u001b[1;33m)\u001b[0m\u001b[1;33m:\u001b[0m\u001b[1;33m\u001b[0m\u001b[1;33m\u001b[0m\u001b[0m\n",
      "\u001b[1;32mc:\\Users\\allan\\OneDrive\\Desktop\\ik-desktop\\envs\\venv37\\lib\\site-packages\\ikomia\\dataprocess\\workflow.py\u001b[0m in \u001b[0;36mrun\u001b[1;34m(self)\u001b[0m\n\u001b[0;32m    376\u001b[0m \u001b[1;33m\u001b[0m\u001b[0m\n\u001b[0;32m    377\u001b[0m         \u001b[1;32mif\u001b[0m \u001b[0mrun_mode\u001b[0m \u001b[1;33m==\u001b[0m \u001b[0mWorkflow\u001b[0m\u001b[1;33m.\u001b[0m\u001b[0mRunMode\u001b[0m\u001b[1;33m.\u001b[0m\u001b[0mSINGLE\u001b[0m\u001b[1;33m:\u001b[0m\u001b[1;33m\u001b[0m\u001b[1;33m\u001b[0m\u001b[0m\n\u001b[1;32m--> 378\u001b[1;33m             \u001b[0msuper\u001b[0m\u001b[1;33m(\u001b[0m\u001b[1;33m)\u001b[0m\u001b[1;33m.\u001b[0m\u001b[0mrun\u001b[0m\u001b[1;33m(\u001b[0m\u001b[1;33m)\u001b[0m\u001b[1;33m\u001b[0m\u001b[1;33m\u001b[0m\u001b[0m\n\u001b[0m\u001b[0;32m    379\u001b[0m             \u001b[0mmetrics\u001b[0m \u001b[1;33m=\u001b[0m \u001b[0mself\u001b[0m\u001b[1;33m.\u001b[0m\u001b[0mget_time_metrics\u001b[0m\u001b[1;33m(\u001b[0m\u001b[1;33m)\u001b[0m\u001b[1;33m\u001b[0m\u001b[1;33m\u001b[0m\u001b[0m\n\u001b[0;32m    380\u001b[0m             \u001b[0mtotal_time\u001b[0m \u001b[1;33m=\u001b[0m \u001b[0mmetrics\u001b[0m\u001b[1;33m[\u001b[0m\u001b[1;34m'total_time'\u001b[0m\u001b[1;33m]\u001b[0m\u001b[1;33m\u001b[0m\u001b[1;33m\u001b[0m\u001b[0m\n",
      "\u001b[1;31mRuntimeError\u001b[0m: <class 'cv2.error'>: OpenCV(4.7.0) C:\\Developpement\\opencv-cpu\\modules\\dnn\\src\\torch\\torch_importer.cpp:1022: error: (-213:The function/feature is not implemented) Unsupported Lua type in function 'cv::dnn::dnn4_v20221220::TorchImporter::readObject'\n:   File \"C:\\Users\\allan\\Ikomia/Plugins/Python\\infer_neural_style_transfer\\infer_neural_style_transfer_process.py\", line 97, in run\n    self.net = cv2.dnn.readNetFromTorch(model_path)\n (Code 18)"
     ]
    }
   ],
   "source": [
    "from ikomia.utils.displayIO import display\n",
    "from PIL import ImageShow\n",
    "ImageShow.register(ImageShow.IPythonViewer(), 0)\n",
    "\n",
    "# Run\n",
    "# wf.run_on(url=\"https://img.lemde.fr/2022/05/19/0/0/5571/3687/664/0/75/0/e355ed2_1652966874932-pns-3790466.jpg\")  # <-- change input image\n",
    "wf.run_on(path=\"C:\\\\Users\\\\allan\\\\OneDrive\\\\Desktop\\\\ik-desktop\\\\Images\\\\egohands.jpg\")\n",
    "\n",
    "# Get NST image result\n",
    "img_paint = nst.get_output(0).get_image() # First image is the result\n",
    "img_model = nst.get_output(1).get_image() # Second image is the reference painting\n",
    "\n",
    "# Display images\n",
    "display(img_paint)\n",
    "display(img_model)"
   ]
  },
  {
   "cell_type": "markdown",
   "metadata": {
    "id": "rpsaQoYSwma8"
   },
   "source": [
    "## -Google Colab ONLY- Save your custom image in your Google Drive space"
   ]
  },
  {
   "cell_type": "code",
   "execution_count": null,
   "metadata": {
    "colab": {
     "base_uri": "https://localhost:8080/"
    },
    "id": "pKPQ1JUCwdGW",
    "outputId": "0ba86136-ef9f-4e40-bc54-0a9367bed649"
   },
   "outputs": [],
   "source": [
    "# Uncomment these lines if you're working on Colab\n",
    "\"\"\" from google.colab import drive\n",
    "drive.mount('/content/gdrive')\n",
    "\n",
    "cv2.imwrite(\"/content/gdrive/MyDrive/paint_img.png\", img_paint) \"\"\""
   ]
  },
  {
   "cell_type": "markdown",
   "metadata": {
    "id": "DyS-Lak6kntB"
   },
   "source": [
    "## -Google Colab ONLY- Download directly your custom image"
   ]
  },
  {
   "cell_type": "code",
   "execution_count": null,
   "metadata": {
    "colab": {
     "base_uri": "https://localhost:8080/",
     "height": 17
    },
    "id": "s_E2W_3hk07U",
    "outputId": "e639ba39-14aa-4b99-8c0b-3034734f09c6"
   },
   "outputs": [],
   "source": [
    "# Uncomment these lines if you're working on Colab\n",
    "\"\"\" from google.colab import files\n",
    "cv2.imwrite(\"/content/paint_img.png\", img_paint)\n",
    "files.download('/content/paint_img.png') \"\"\""
   ]
  }
 ],
 "metadata": {
  "colab": {
   "collapsed_sections": [],
   "provenance": []
  },
  "gpuClass": "standard",
  "kernelspec": {
   "display_name": "venv37",
   "language": "python",
   "name": "venv37"
  },
  "language_info": {
   "codemirror_mode": {
    "name": "ipython",
    "version": 3
   },
   "file_extension": ".py",
   "mimetype": "text/x-python",
   "name": "python",
   "nbconvert_exporter": "python",
   "pygments_lexer": "ipython3",
   "version": "3.7.9"
  }
 },
 "nbformat": 4,
 "nbformat_minor": 4
}
