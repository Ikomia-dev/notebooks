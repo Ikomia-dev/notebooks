{
 "cells": [
  {
   "cell_type": "markdown",
   "metadata": {
    "id": "GyGbD_GxAOI0"
   },
   "source": [
    "<img src='https://ikomia.com/wp-content/uploads/2022/10/banner.png'>\n",
    "\n",
    "\n"
   ]
  },
  {
   "cell_type": "markdown",
   "metadata": {
    "id": "oNcONqwxwgkv"
   },
   "source": [
    "# How to run Neural Style Transfer with Ikomia API in less than 2 minutes"
   ]
  },
  {
   "cell_type": "markdown",
   "metadata": {
    "id": "AKTe7F5nwXI4"
   },
   "source": [
    "Neural Style Transfer is an AI technology which transforms your image in the style of another image. This technology was first introduced by researchers in the paper [\"A Neural Style Algorithm of Artistic Style\"](https://arxiv.org/abs/1508.06576) by Leon Gatsys et al. (2015).\n",
    "\n",
    "\n",
    "In this demo, we use master paintings as style image and we show how it can be very easy to use this technology thanks to Ikomia API and Ikomia Hub. With a few lines of code, every developer can turn photos into artworks !\n",
    "\n",
    "## ENJOY 🥰 !!\n",
    "\n",
    "<p float=\"left\">\n",
    "  <img src=\"https://cdn.pixabay.com/photo/2015/08/13/20/09/la-rochelle-887448_960_720.jpg\" width=\"500\" />\n",
    "  <img src=\"https://ikomia.com/wp-content/uploads/2022/10/starry_night.jpg\" width=\"500\" /> \n",
    "  <img src=\"https://ikomia.com/wp-content/uploads/2022/10/LR_vangogh.png\" width=\"1000\" />\n",
    "</p>"
   ]
  },
  {
   "cell_type": "markdown",
   "metadata": {
    "id": "x4CdI0J1ej5b"
   },
   "source": [
    "## Setup"
   ]
  },
  {
   "cell_type": "markdown",
   "metadata": {
    "id": "NBmJN2AaDmcI"
   },
   "source": [
    "You need to install Ikomia Python API with pip."
   ]
  },
  {
   "cell_type": "code",
   "execution_count": null,
   "metadata": {
    "colab": {
     "base_uri": "https://localhost:8080/",
     "height": 1000
    },
    "id": "8eSnQYJygrDy",
    "outputId": "47dd7506-8fdb-4f12-fe98-f03e75a79fb5"
   },
   "outputs": [],
   "source": [
    "!pip install ikomia"
   ]
  },
  {
   "cell_type": "markdown",
   "metadata": {
    "id": "kVvL0vVfUGN5"
   },
   "source": [
    "\n",
    "\n",
    "---\n",
    "\n",
    "\n",
    "**-Google Colab ONLY- Restart runtime**\n",
    "\n",
    "Some Python packages have been updated. Please click on the \"RESTART RUNTIME\" button at the end the previous window.\n",
    "\n",
    "\n",
    "\n"
   ]
  },
  {
   "cell_type": "markdown",
   "metadata": {
    "id": "2hS1T6ky1Wcw"
   },
   "source": [
    "---"
   ]
  },
  {
   "cell_type": "markdown",
   "metadata": {
    "id": "JJsRFzl9Au1c"
   },
   "source": [
    "Use your credentials to connect with Ikomia Hub and access more than 60 algorithms and 800+ models.\n",
    "\n",
    "Your credentials are the same as you use to login to our website, if you don't have any credentials, follow this link\n",
    "\n",
    "https://members.ikomia.com/accounts/signup/"
   ]
  },
  {
   "cell_type": "code",
   "execution_count": null,
   "metadata": {
    "colab": {
     "base_uri": "https://localhost:8080/"
    },
    "id": "62DlRNwzYCam",
    "outputId": "e104acac-3685-43f8-8d94-a71c80a80351"
   },
   "outputs": [],
   "source": [
    "import ikomia\n",
    "import os\n",
    "\n",
    "# Easy and unsafe authentication | Only for personal use\n",
    "os.environ['IKOMIA_USER'] = \"your_login\"\n",
    "os.environ['IKOMIA_PWD'] = \"your_password\"\n",
    "\n",
    "ikomia.authenticate()"
   ]
  },
  {
   "cell_type": "markdown",
   "metadata": {
    "id": "jEdZ_uDYDqjH"
   },
   "source": [
    "## Apply Neural Style Transfer (NST) on your images"
   ]
  },
  {
   "cell_type": "markdown",
   "metadata": {
    "id": "5O-fpfWfiNfW"
   },
   "source": [
    "Create a new workflow from scratch and add the NST algorithm to your workflow.\n",
    "It will automagically download the algorithm from Ikomia Hub and install all the Python dependencies."
   ]
  },
  {
   "cell_type": "code",
   "execution_count": null,
   "metadata": {
    "colab": {
     "base_uri": "https://localhost:8080/"
    },
    "id": "bRPYGcRd1Pwh",
    "outputId": "83005fbf-ef97-413b-fc6a-18558597d0ed"
   },
   "outputs": [],
   "source": [
    "from ikomia.utils import ik\n",
    "from ikomia.dataprocess import workflow\n",
    "\n",
    "# Create your worflow\n",
    "wf = workflow.create(\"NST workflow\") \n",
    "\n",
    "# Add the NST algorithm to your workflow\n",
    "nst_id, nst = wf.add_task(ik.infer_neural_style_transfer) "
   ]
  },
  {
   "cell_type": "markdown",
   "metadata": {
    "id": "9LX24Eg5irYO"
   },
   "source": [
    "Then, you can change the NST algorithm parameters in order to switch between paintings.\n",
    "\n",
    "Get parameters from the NST algorithm and change the parameters to see different painting style.\n",
    "\n",
    "The method \"instance_norm\" provides the following paintings:\n",
    "\n",
    "* candy\n",
    "* la_muse\n",
    "* mosaic\n",
    "* feathers\n",
    "* the_scream\n",
    "* udnie\n",
    "\n",
    "The method \"eccv16\" provides the following paintings:\n",
    "\n",
    "* the_wave\n",
    "* starry_night\n",
    "* la_muse\n",
    "* composition_vii\n",
    "\n",
    "The algorithm automatically downloads the model and the corresponding painting."
   ]
  },
  {
   "cell_type": "code",
   "execution_count": null,
   "metadata": {
    "colab": {
     "background_save": true,
     "base_uri": "https://localhost:8080/"
    },
    "id": "URu9U_jWw-oK",
    "outputId": "14e44826-4b7e-4922-b10a-d5607ea4bc65"
   },
   "outputs": [],
   "source": [
    "from ikomia.core import task\n",
    "import cv2\n",
    "\n",
    "nst_params = {\n",
    "    ik.infer_neural_style_transfer_param.method: \"instance_norm\", # <-- change method here\n",
    "    ik.infer_neural_style_transfer_param.model: \"candy\" # <-- change painting here\n",
    "}\n",
    "wf.set_parameters(task_id=nst_id, params=nst_params)\n",
    "\n",
    "# Connect the root task containing your input image to the NST algorithm\n",
    "wf.connect_tasks(wf.getRootID(), nst_id) \n",
    "\n",
    "# Run\n",
    "wf.run_on(url=\"https://img.lemde.fr/2022/05/19/0/0/5571/3687/664/0/75/0/e355ed2_1652966874932-pns-3790466.jpg\")  # <-- change input image"
   ]
  },
  {
   "cell_type": "markdown",
   "metadata": {},
   "source": [
    "## Display your results"
   ]
  },
  {
   "cell_type": "markdown",
   "metadata": {},
   "source": [
    "Utility function for displaying image"
   ]
  },
  {
   "cell_type": "code",
   "execution_count": null,
   "metadata": {},
   "outputs": [],
   "source": [
    "def imshow(img):\n",
    "    import cv2\n",
    "    import IPython\n",
    "    _,ret = cv2.imencode('.jpg', img) \n",
    "    i = IPython.display.Image(data=ret)\n",
    "    IPython.display.display(i)"
   ]
  },
  {
   "cell_type": "code",
   "execution_count": null,
   "metadata": {},
   "outputs": [],
   "source": [
    "# Get NST image result\n",
    "img_paint = wf.get_image(nst_id, index=0)*255 # First image is the result\n",
    "img_model = wf.get_image(nst_id, index=1) # Second image is the reference painting\n",
    "\n",
    "# Display images\n",
    "img_paint = cv2.cvtColor(img_paint, cv2.COLOR_BGR2RGB)\n",
    "img_model = cv2.cvtColor(img_model, cv2.COLOR_BGR2RGB)\n",
    "imshow(img_paint)\n",
    "imshow(img_model)"
   ]
  },
  {
   "cell_type": "markdown",
   "metadata": {
    "id": "rpsaQoYSwma8"
   },
   "source": [
    "## -Google Colab ONLY- Save your custom image in your Google Drive space"
   ]
  },
  {
   "cell_type": "code",
   "execution_count": null,
   "metadata": {
    "colab": {
     "base_uri": "https://localhost:8080/"
    },
    "id": "pKPQ1JUCwdGW",
    "outputId": "0ba86136-ef9f-4e40-bc54-0a9367bed649"
   },
   "outputs": [],
   "source": [
    "# Uncomment these lines if you're working on Colab\n",
    "\"\"\" from google.colab import drive\n",
    "drive.mount('/content/gdrive')\n",
    "\n",
    "cv2.imwrite(\"/content/gdrive/MyDrive/paint_img.png\", img_paint) \"\"\""
   ]
  },
  {
   "cell_type": "markdown",
   "metadata": {
    "id": "DyS-Lak6kntB"
   },
   "source": [
    "## -Google Colab ONLY- Download directly your custom image"
   ]
  },
  {
   "cell_type": "code",
   "execution_count": null,
   "metadata": {
    "colab": {
     "base_uri": "https://localhost:8080/",
     "height": 17
    },
    "id": "s_E2W_3hk07U",
    "outputId": "e639ba39-14aa-4b99-8c0b-3034734f09c6"
   },
   "outputs": [],
   "source": [
    "# Uncomment these lines if you're working on Colab\n",
    "\"\"\" from google.colab import files\n",
    "cv2.imwrite(\"/content/paint_img.png\", img_paint)\n",
    "files.download('/content/paint_img.png') \"\"\""
   ]
  }
 ],
 "metadata": {
  "colab": {
   "collapsed_sections": [],
   "provenance": []
  },
  "gpuClass": "standard",
  "kernelspec": {
   "display_name": "Python 3 (ipykernel)",
   "language": "python",
   "name": "python3"
  },
  "language_info": {
   "codemirror_mode": {
    "name": "ipython",
    "version": 3
   },
   "file_extension": ".py",
   "mimetype": "text/x-python",
   "name": "python",
   "nbconvert_exporter": "python",
   "pygments_lexer": "ipython3",
   "version": "3.7.14"
  }
 },
 "nbformat": 4,
 "nbformat_minor": 4
}