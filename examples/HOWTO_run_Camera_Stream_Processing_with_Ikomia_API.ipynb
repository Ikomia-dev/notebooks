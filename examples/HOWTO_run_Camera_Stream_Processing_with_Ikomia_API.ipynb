{
 "cells": [
  {
   "attachments": {},
   "cell_type": "markdown",
   "metadata": {},
   "source": [
    "# Real-time Object Detection with the Ikomia API"
   ]
  },
  {
   "attachments": {},
   "cell_type": "markdown",
   "metadata": {},
   "source": [
    "<img src='https://raw.githubusercontent.com/Ikomia-dev/notebooks/main/examples/img/banner_ikomia.png'>"
   ]
  },
  {
   "attachments": {},
   "cell_type": "markdown",
   "metadata": {},
   "source": [
    "### Camera Stream Processing \n",
    "Camera stream processing involves the real-time analysis and manipulation of images and video streams captured from a camera. This technique finds widespread application in diverse fields such as computer vision, surveillance, robotics, and entertainment.\n",
    "In Computer Vision, camera stream processing plays a pivotal role in tasks like object detection and recognition, face detection, motion tracking, and image segmentation.\n",
    "\n",
    "•\tFor surveillance purposes, camera stream processing aids in detecting anomalies and events such as intrusion detection and crowd behavior analysis.\n",
    "\n",
    "•\tIn the realm of robotics, camera stream processing facilitates autonomous navigation, object detection, and obstacle avoidance.\n",
    "\n",
    "•\tIn the entertainment industry leverages camera stream processing for exciting applications like augmented reality, virtual reality, and gesture recognition.\n",
    "\n",
    "In essence, camera stream processing assumes a critical role across various domains, enabling the realization of numerous exciting applications that were once considered unattainable.\n",
    "To embark on camera stream processing, we will make use of OpenCV and VideoCapture with the YOLOv7 algorithm.\n"
   ]
  },
  {
   "attachments": {},
   "cell_type": "markdown",
   "metadata": {},
   "source": [
    "### Setup\n",
    "\n",
    "You need to install Ikomia Python API with pip."
   ]
  },
  {
   "cell_type": "code",
   "execution_count": null,
   "metadata": {},
   "outputs": [],
   "source": [
    "!pip install ikomia"
   ]
  },
  {
   "attachments": {},
   "cell_type": "markdown",
   "metadata": {},
   "source": [
    "### Run Real-Time Object Detection from your Webcam"
   ]
  },
  {
   "cell_type": "code",
   "execution_count": null,
   "metadata": {},
   "outputs": [],
   "source": [
    "from ikomia.dataprocess.workflow import Workflow\n",
    "from ikomia.utils import ik\n",
    "from ikomia.utils.displayIO import display\n",
    "import cv2\n",
    "\n",
    "stream = cv2.VideoCapture(0)\n",
    "\n",
    "# Init the workflow\n",
    "wf = Workflow()\n",
    "\n",
    "# Add color conversion\n",
    "cvt = wf.add_task(ik.ocv_color_conversion(code=str(cv2.COLOR_BGR2RGB)), auto_connect=True)\n",
    "\n",
    "# Add YOLOv7 detection\n",
    "yolo = wf.add_task(ik.infer_yolo_v7(conf_thres=\"0.6\"), auto_connect=True)\n",
    "\n",
    "\n",
    "while True:\n",
    "    ret, frame = stream.read()\n",
    "    \n",
    "    # Test if streaming is OK\n",
    "    if not ret:\n",
    "        continue\n",
    "\n",
    "    # Run workflow on image\n",
    "    wf.run_on(frame)\n",
    "\n",
    "    # Display results from \"face\" and \"blur\"\n",
    "    display(\n",
    "        yolo.get_image_with_graphics(),\n",
    "        title=\"Object Detection - press 'q' to quit\",\n",
    "        viewer=\"opencv\"\n",
    "    )\n",
    "\n",
    "    # Press 'q' to quit the streaming process\n",
    "    if cv2.waitKey(1) & 0xFF == ord('q'):\n",
    "        break\n",
    "\n",
    "# After the loop release the stream object\n",
    "stream.release()\n",
    "\n",
    "# Destroy all windows\n",
    "cv2.destroyAllWindows()"
   ]
  }
 ],
 "metadata": {
  "kernelspec": {
   "display_name": "venvapi",
   "language": "python",
   "name": "venvapi"
  },
  "language_info": {
   "codemirror_mode": {
    "name": "ipython",
    "version": 3
   },
   "file_extension": ".py",
   "mimetype": "text/x-python",
   "name": "python",
   "nbconvert_exporter": "python",
   "pygments_lexer": "ipython3",
   "version": "3.9.13"
  },
  "orig_nbformat": 4
 },
 "nbformat": 4,
 "nbformat_minor": 2
}
