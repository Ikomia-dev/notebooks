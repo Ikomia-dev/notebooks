{
 "cells": [
  {
   "cell_type": "markdown",
   "metadata": {},
   "source": [
    "<img src='https://github.com/Ikomia-dev/notebooks/blob/main/examples/img/banner_ikomia.png?raw=true'>\n",
    "\n",
    "\n"
   ]
  },
  {
   "cell_type": "markdown",
   "metadata": {},
   "source": [
    " # Guide to Deploying Vision Models in the Cloud\n",
    "\n",
    "\n",
    "Deploying Ikomia Workflows with `ikomia` and `ikomia-cli` Python packages.\n",
    "\n",
    "## Introduction\n",
    "\n",
    "\n",
    "When embarking on a computer vision project, one of the initial steps involves setting up your models and organizing them into workflows. However, a significant hurdle often arises when it's time to deploy these models efficiently.\n",
    "\n",
    "Deploying on GPUs can be a real headache. The setup is tricky, and the documentation? Even trickier, especially if you’re dealing with platforms like Google Cloud Platform (GCP). You've got to get a grip on all kinds of GPU configurations, sort out dependencies, and if things go sideways, you’re in for some serious troubleshooting. It can really drain your time and energy.\n",
    "\n",
    "This is where Ikomia SCALE comes into play. It offers a streamlined platform that greatly simplifies the deployment process for computer vision models, eliminating the need for extensive coding and adaptation across different devices. Whether you're considering GPU serverless architectures like Google Cloud Platform or other prominent provider, SCALE ensures a smoother transition.\n",
    "\n",
    "In this blog post, we provide a detailed guide on how to leverage the Ikomia ecosystem to your advantage:\n",
    "1.\t**Workflow Creation**: We begin by demonstrating how to utilize the Ikomia API to construct a workflow, setting the stage for deploying your computer vision model.\n",
    "2.\t**Deployment**: We then take you through the steps of deploying your model using the Gloud Cloud Platform as an example. These steps remain consistent across various platforms such as AWS or Scaleway, and regardless of the infrastructure, whether it's CPU or GPU.\n",
    "3.\t**Accessing Your REST API Endpoint**: Lastly, we explain how to access your REST API endpoint. This endpoint facilitates a seamless connection between your applications and the deployed model, ensuring efficient communication through standard HTTP methods.\n",
    "\n",
    "For an in-depth look at what Ikomia SCALE has to offer, feel free to visit the [official page](https://www.ikomia.ai/scale). Let's get started and simplify the process of deploying Computer Vision models!\n",
    "\n",
    "## Step 1: Installation\n",
    "\n",
    "### Install the Ikomia CLI (Command Line Interface)\n",
    "\n",
    "The Ikomia CLI is a tool that allows you to interact with Ikomia SCALE from the command line. You can install it using pip:"
   ]
  },
  {
   "cell_type": "code",
   "execution_count": null,
   "metadata": {},
   "outputs": [],
   "source": [
    "!pip install \"ikomia-cli[full]\""
   ]
  },
  {
   "cell_type": "markdown",
   "metadata": {},
   "source": [
    "## Step 2: Generating Access Tokens\n",
    "\n",
    "Access tokens are required to authenticate with Ikomia SCALE. You can generate a token by running the following command:\n",
    "\n",
    "```bash\n",
    "ikcli login --token-ttl <token_duration_in_seconds>\n",
    "```\n",
    "\n",
    "Replace `<token_duration_in_seconds>` with the desired duration for the token's validity. For example, to generate a token that is valid for 1 hour (3 600 seconds), you can run:"
   ]
  },
  {
   "cell_type": "code",
   "execution_count": null,
   "metadata": {},
   "outputs": [],
   "source": [
    "!ikcli login --token-ttl 3600 --username \"<your_login>\" --password \"<your_password>\""
   ]
  },
  {
   "cell_type": "markdown",
   "metadata": {},
   "source": [
    "Where `<your_login>` and `<your_password>` are your credentials on Ikomia SCALE.\n",
    "\n",
    "Then, export your token as an environment variable:"
   ]
  },
  {
   "cell_type": "code",
   "execution_count": null,
   "metadata": {},
   "outputs": [],
   "source": [
    "%env IKOMIA_TOKEN=<your_token>"
   ]
  },
  {
   "cell_type": "markdown",
   "metadata": {},
   "source": [
    "Where `<your_token>` is the access token you generated."
   ]
  },
  {
   "cell_type": "markdown",
   "metadata": {},
   "source": [
    "## Step 3: Creating a Project on Ikomia SCALE\n",
    "\n",
    "Before deploying a workflow, you need to create a project on Ikomia SCALE. You can create a project using the Ikomia SCALE web interface.\n",
    "\n",
    "1. Log in to your [Ikomia SCALE account](https://app.ikomia.ai/).\n",
    "\n",
    "2. Click on the \"New project\" button.\n",
    "\n",
    "4. Provide a name and description for your project.\n",
    "\n",
    "5. Click the \"Create project\" button.\n",
    "\n",
    "## Step 4: Pushing a Workflow to Your Project\n",
    "\n",
    "Now that you have a project on Ikomia SCALE, you can push a workflow to it using the Ikomia CLI.\n",
    "\n",
    "1. Create a workflow from scratch with [Ikomia API](https://github.com/Ikomia-dev/IkomiaApi) and [Ikomia HUB](https://app.ikomia.ai/hub), or use the following example:"
   ]
  },
  {
   "cell_type": "code",
   "execution_count": null,
   "metadata": {},
   "outputs": [],
   "source": [
    "from ikomia.dataprocess.workflow import Workflow\n",
    "from ikomia.utils.displayIO import display\n",
    "\n",
    "# Init your workflow\n",
    "wf = Workflow('SDXL')\n",
    "\n",
    "# Add algorithm\n",
    "algo = wf.add_task(name = \"infer_hf_stable_diffusion\", auto_connect=False)\n",
    "\n",
    "algo.set_parameters({\n",
    "    'model_name': 'stabilityai/stable-diffusion-xl-base-1.0',\n",
    "    'prompt': 'galaxy environment, Capturing A whimsical, a Miniature Schnauzer, winter spring wind rainbow a sprinkle of edible glitter in an dream magical background, trippy, 8k, vivid, ultra details, colorfull lighting, surreal photography, portrait',\n",
    "    'guidance_scale': '7.5',\n",
    "    'negative_prompt': 'low resolution',\n",
    "    'num_inference_steps': '50',\n",
    "    'width': '1344',\n",
    "    'height': '768',\n",
    "    'seed': '-1',\n",
    "    'use_refiner': 'True'\n",
    "})\n",
    "\n",
    "# Run\n",
    "wf.run()"
   ]
  },
  {
   "cell_type": "markdown",
   "metadata": {},
   "source": [
    "If you want to visualize the results, you can run the following cell:"
   ]
  },
  {
   "cell_type": "code",
   "execution_count": null,
   "metadata": {},
   "outputs": [],
   "source": [
    "# Display your your image in the notebook\n",
    "from ikomia.utils.displayIO import display\n",
    "from PIL import ImageShow\n",
    "ImageShow.register(ImageShow.IPythonViewer(), 0) # <-- Specific for displaying in notebooks\n",
    "# Inpect your result\n",
    "display(algo.get_output(0).get_image())"
   ]
  },
  {
   "cell_type": "markdown",
   "metadata": {},
   "source": [
    "2. Save your workflow by exporting it as a JSON file that contains a description of its structure:"
   ]
  },
  {
   "cell_type": "code",
   "execution_count": null,
   "metadata": {},
   "outputs": [],
   "source": [
    "#*********************************************\n",
    "## EXPORT\n",
    "#*********************************************\n",
    "# Save the workflow as a JSON file in your current folder\n",
    "wf.save(\"./sdxl_workflow.json\")"
   ]
  },
  {
   "cell_type": "markdown",
   "metadata": {},
   "source": [
    "3. Push the workflow to your project on Ikomia SCALE."
   ]
  },
  {
   "cell_type": "code",
   "execution_count": null,
   "metadata": {},
   "outputs": [],
   "source": [
    "!ikcli project push <project_name> sdxl_workflow.json"
   ]
  },
  {
   "cell_type": "markdown",
   "metadata": {},
   "source": [
    "Replace `<project_name>` with the name of your project on Ikomia SCALE.\n",
    "\n",
    "## Step 5: Deploying a Workflow\n",
    "\n",
    "Now that your workflow is in your project on Ikomia SCALE, you can deploy it on a dedicated endpoint.\n",
    "\n",
    "1. Log in to your [Ikomia SCALE account](https://app.ikomia.ai)\n",
    "\n",
    "2. Go to the project and select your workflow\n",
    "\n",
    "3. Configure and deploy your workflow\n",
    "\n",
    "6. Wait until it's running (it can take several minutes)\n",
    "7. Click on the endpoint URL to test it online\n",
    "\n",
    "## Conclusion\n",
    "\n",
    "Congratulations! You have successfully onboarded to Ikomia SCALE, created a project, and deployed your first workflow. \n",
    "\n",
    "You can now use the power of Ikomia to scale your image processing tasks effortlessly.\n",
    "\n",
    "* Any questions? Contact [the Ikomia Team](mailto:team@ikomia.ai)\n",
    "\n",
    "* Any technical problems? Contact [the Ikomia Support](mailto:support@ikomia.ai)\n",
    "\n",
    "* Want to discuss with us? Come on our [discord channel](https://discord.com/invite/82Tnw9UGGc)!\n",
    "\n",
    "## Next steps\n",
    "\n",
    "* More algorithms on [Ikomia HUB](https://app.ikomia.ai/hub)\n",
    "* More explanations on Ikomia workflows in the [API documentation](https://ikomia-dev.github.io/python-api-documentation/getting_started.html)\n",
    "\n",
    "## Additional Resources\n",
    "\n",
    "- [Ikomia Website](https://www.ikomia.ai/)\n",
    "- [Ikomia blog](https://www.ikomia.ai/blog)\n",
    "- [Ikomia API](https://github.com/Ikomia-dev/IkomiaApi)"
   ]
  }
 ],
 "metadata": {
  "kernelspec": {
   "display_name": "Python 3 (ipykernel)",
   "language": "python",
   "name": "python3"
  },
  "language_info": {
   "codemirror_mode": {
    "name": "ipython",
    "version": 3
   },
   "file_extension": ".py",
   "mimetype": "text/x-python",
   "name": "python",
   "nbconvert_exporter": "python",
   "pygments_lexer": "ipython3",
   "version": "3.8.18"
  }
 },
 "nbformat": 4,
 "nbformat_minor": 4
}
